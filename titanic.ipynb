{
 "cells": [
  {
   "cell_type": "code",
   "execution_count": 1,
   "id": "c0b8e087-cdc1-4fdd-8bbd-2679b07e9d60",
   "metadata": {},
   "outputs": [],
   "source": [
    "import pandas as pd\n",
    "import matplotlib.pyplot as plt\n",
    "import seaborn as sns\n",
    "from sklearn.preprocessing import LabelEncoder, StandardScaler\n",
    "from sklearn.neighbors import KNeighborsClassifier\n",
    "from sklearn.svm import SVC\n",
    "from sklearn.decomposition import PCA\n",
    "from sklearn.linear_model import SGDClassifier\n",
    "from sklearn import tree\n",
    "from sklearn.ensemble import RandomForestClassifier\n",
    "import numpy as np\n",
    "from sklearn.neural_network import MLPClassifier\n",
    "import torch\n",
    "from torch import nn\n",
    "from torch.optim import SGD\n",
    "from torch.utils.data import DataLoader\n",
    "from sklearn.impute import SimpleImputer"
   ]
  },
  {
   "cell_type": "code",
   "execution_count": 2,
   "id": "1432e140-8797-4319-a77a-4822c1a0d66e",
   "metadata": {},
   "outputs": [],
   "source": [
    "train_df = pd.read_csv('train.csv')\n",
    "test_df = pd.read_csv('test.csv')"
   ]
  },
  {
   "cell_type": "code",
   "execution_count": 3,
   "id": "cd6d3c44-0f59-40f7-ba29-0b217b8d3804",
   "metadata": {},
   "outputs": [],
   "source": [
    "survivors_count = train_df[train_df['Survived'] == 1]['Survived'].count()\n",
    "victims_count = train_df[train_df['Survived'] == 0]['Survived'].count()"
   ]
  },
  {
   "cell_type": "code",
   "execution_count": 4,
   "id": "28ab43ba-f30f-4079-b2e6-0aba25039b21",
   "metadata": {},
   "outputs": [
    {
     "data": {
      "text/plain": [
       "<seaborn.axisgrid.FacetGrid at 0x7f0c4c53b1f0>"
      ]
     },
     "execution_count": 4,
     "metadata": {},
     "output_type": "execute_result"
    },
    {
     "data": {
      "image/png": "[encoded data removed]",
      "text/plain": [
       "<Figure size 500x500 with 1 Axes>"
      ]
     },
     "metadata": {},
     "output_type": "display_data"
    }
   ],
   "source": [
    "sns.catplot(train_df, x='Survived', kind='count')"
   ]
  },
  {
   "cell_type": "code",
   "execution_count": 5,
   "id": "57395431-4e16-47db-8fa3-43e429ad19e9",
   "metadata": {},
   "outputs": [
    {
     "data": {
      "text/html": [
       "<div>\n",
       "<style scoped>\n",
       "    .dataframe tbody tr th:only-of-type {\n",
       "        vertical-align: middle;\n",
       "    }\n",
       "\n",
       "    .dataframe tbody tr th {\n",
       "        vertical-align: top;\n",
       "    }\n",
       "\n",
       "    .dataframe thead th {\n",
       "        text-align: right;\n",
       "    }\n",
       "</style>\n",
       "<table border=\"1\" class=\"dataframe\">\n",
       "  <thead>\n",
       "    <tr style=\"text-align: right;\">\n",
       "      <th></th>\n",
       "      <th>PassengerId</th>\n",
       "      <th>Survived</th>\n",
       "      <th>Pclass</th>\n",
       "      <th>Name</th>\n",
       "      <th>Sex</th>\n",
       "      <th>Age</th>\n",
       "      <th>SibSp</th>\n",
       "      <th>Parch</th>\n",
       "      <th>Ticket</th>\n",
       "      <th>Fare</th>\n",
       "      <th>Cabin</th>\n",
       "      <th>Embarked</th>\n",
       "    </tr>\n",
       "  </thead>\n",
       "  <tbody>\n",
       "    <tr>\n",
       "      <th>0</th>\n",
       "      <td>1</td>\n",
       "      <td>0</td>\n",
       "      <td>3</td>\n",
       "      <td>Braund, Mr. Owen Harris</td>\n",
       "      <td>male</td>\n",
       "      <td>22.0</td>\n",
       "      <td>1</td>\n",
       "      <td>0</td>\n",
       "      <td>A/5 21171</td>\n",
       "      <td>7.2500</td>\n",
       "      <td>NaN</td>\n",
       "      <td>S</td>\n",
       "    </tr>\n",
       "    <tr>\n",
       "      <th>1</th>\n",
       "      <td>2</td>\n",
       "      <td>1</td>\n",
       "      <td>1</td>\n",
       "      <td>Cumings, Mrs. John Bradley (Florence Briggs Th...</td>\n",
       "      <td>female</td>\n",
       "      <td>38.0</td>\n",
       "      <td>1</td>\n",
       "      <td>0</td>\n",
       "      <td>PC 17599</td>\n",
       "      <td>71.2833</td>\n",
       "      <td>C85</td>\n",
       "      <td>C</td>\n",
       "    </tr>\n",
       "    <tr>\n",
       "      <th>2</th>\n",
       "      <td>3</td>\n",
       "      <td>1</td>\n",
       "      <td>3</td>\n",
       "      <td>Heikkinen, Miss. Laina</td>\n",
       "      <td>female</td>\n",
       "      <td>26.0</td>\n",
       "      <td>0</td>\n",
       "      <td>0</td>\n",
       "      <td>STON/O2. 3101282</td>\n",
       "      <td>7.9250</td>\n",
       "      <td>NaN</td>\n",
       "      <td>S</td>\n",
       "    </tr>\n",
       "    <tr>\n",
       "      <th>3</th>\n",
       "      <td>4</td>\n",
       "      <td>1</td>\n",
       "      <td>1</td>\n",
       "      <td>Futrelle, Mrs. Jacques Heath (Lily May Peel)</td>\n",
       "      <td>female</td>\n",
       "      <td>35.0</td>\n",
       "      <td>1</td>\n",
       "      <td>0</td>\n",
       "      <td>113803</td>\n",
       "      <td>53.1000</td>\n",
       "      <td>C123</td>\n",
       "      <td>S</td>\n",
       "    </tr>\n",
       "    <tr>\n",
       "      <th>4</th>\n",
       "      <td>5</td>\n",
       "      <td>0</td>\n",
       "      <td>3</td>\n",
       "      <td>Allen, Mr. William Henry</td>\n",
       "      <td>male</td>\n",
       "      <td>35.0</td>\n",
       "      <td>0</td>\n",
       "      <td>0</td>\n",
       "      <td>373450</td>\n",
       "      <td>8.0500</td>\n",
       "      <td>NaN</td>\n",
       "      <td>S</td>\n",
       "    </tr>\n",
       "  </tbody>\n",
       "</table>\n",
       "</div>"
      ],
      "text/plain": [
       "   PassengerId  Survived  Pclass  \\\n",
       "0            1         0       3   \n",
       "1            2         1       1   \n",
       "2            3         1       3   \n",
       "3            4         1       1   \n",
       "4            5         0       3   \n",
       "\n",
       "                                                Name     Sex   Age  SibSp  \\\n",
       "0                            Braund, Mr. Owen Harris    male  22.0      1   \n",
       "1  Cumings, Mrs. John Bradley (Florence Briggs Th...  female  38.0      1   \n",
       "2                             Heikkinen, Miss. Laina  female  26.0      0   \n",
       "3       Futrelle, Mrs. Jacques Heath (Lily May Peel)  female  35.0      1   \n",
       "4                           Allen, Mr. William Henry    male  35.0      0   \n",
       "\n",
       "   Parch            Ticket     Fare Cabin Embarked  \n",
       "0      0         A/5 21171   7.2500   NaN        S  \n",
       "1      0          PC 17599  71.2833   C85        C  \n",
       "2      0  STON/O2. 3101282   7.9250   NaN        S  \n",
       "3      0            113803  53.1000  C123        S  \n",
       "4      0            373450   8.0500   NaN        S  "
      ]
     },
     "execution_count": 5,
     "metadata": {},
     "output_type": "execute_result"
    }
   ],
   "source": [
    "train_df.head()"
   ]
  },
  {
   "cell_type": "code",
   "execution_count": 6,
   "id": "4cb62195-43ac-4331-adca-5a220c9b06a1",
   "metadata": {},
   "outputs": [],
   "source": [
    "label_encoder = LabelEncoder()\n",
    "to_encode_features = ['Sex', 'Ticket', 'Cabin', 'Embarked']"
   ]
  },
  {
   "cell_type": "code",
   "execution_count": 7,
   "id": "025ef3fa-101e-4404-92b8-657b5b34d6f1",
   "metadata": {},
   "outputs": [],
   "source": [
    "for feature in to_encode_features:\n",
    "    train_df[feature] = label_encoder.fit_transform(train_df[feature])\n",
    "    test_df[feature] = label_encoder.fit_transform(test_df[feature])"
   ]
  },
  {
   "cell_type": "code",
   "execution_count": 8,
   "id": "9befbaf8-f316-4681-837b-a87d1b1e5a11",
   "metadata": {},
   "outputs": [],
   "source": [
    "target = 'Survived'\n",
    "features = ['Pclass', 'Sex', 'Age', 'SibSp', 'Parch', 'Ticket', 'Fare', 'Cabin', 'Embarked']\n",
    "\n",
    "imputer = SimpleImputer(missing_values=np.nan, strategy='mean')\n",
    "\n",
    "train_df_Y = train_df[target]\n",
    "train_df_X = train_df[features]\n",
    "train_df_X = pd.DataFrame(imputer.fit_transform(train_df_X), columns=features)\n",
    "\n",
    "imputer_test = SimpleImputer(missing_values=np.nan, strategy='mean')\n",
    "test_df_X = test_df[features]\n",
    "test_df_X = pd.DataFrame(imputer_test.fit_transform(test_df_X), columns=features)"
   ]
  },
  {
   "cell_type": "code",
   "execution_count": 9,
   "id": "705be2f9-e15d-4a83-aeef-75bfaa6ea0ec",
   "metadata": {},
   "outputs": [
    {
     "data": {
      "text/plain": [
       "(418, 9)"
      ]
     },
     "execution_count": 9,
     "metadata": {},
     "output_type": "execute_result"
    }
   ],
   "source": [
    "test_df_X.shape"
   ]
  },
  {
   "cell_type": "markdown",
   "id": "ce29c30f-827f-45d0-9160-eed64ef69643",
   "metadata": {},
   "source": [
    "# Raw data classification\n",
    "First I will run all the classifiers with the raw data to further prove that scaling and preprocessing the data we can obtain better results"
   ]
  },
  {
   "cell_type": "markdown",
   "id": "c532e303-dca5-428a-be5b-7079868cf5fa",
   "metadata": {},
   "source": [
    "## KNN Classifier"
   ]
  },
  {
   "cell_type": "code",
   "execution_count": 10,
   "id": "54506824-30b9-48c9-a286-9dde831ee296",
   "metadata": {},
   "outputs": [],
   "source": [
    "KNNclassifier = KNeighborsClassifier(n_neighbors=3)"
   ]
  },
  {
   "cell_type": "code",
   "execution_count": 11,
   "id": "a70c117f-9341-401d-a57f-bf2fd2351adb",
   "metadata": {},
   "outputs": [
    {
     "data": {
      "text/html": [
       "<style>#sk-container-id-1 {color: black;background-color: white;}#sk-container-id-1 pre{padding: 0;}#sk-container-id-1 div.sk-toggleable {background-color: white;}#sk-container-id-1 label.sk-toggleable__label {cursor: pointer;display: block;width: 100%;margin-bottom: 0;padding: 0.3em;box-sizing: border-box;text-align: center;}#sk-container-id-1 label.sk-toggleable__label-arrow:before {content: \"▸\";float: left;margin-right: 0.25em;color: #696969;}#sk-container-id-1 label.sk-toggleable__label-arrow:hover:before {color: black;}#sk-container-id-1 div.sk-estimator:hover label.sk-toggleable__label-arrow:before {color: black;}#sk-container-id-1 div.sk-toggleable__content {max-height: 0;max-width: 0;overflow: hidden;text-align: left;background-color: #f0f8ff;}#sk-container-id-1 div.sk-toggleable__content pre {margin: 0.2em;color: black;border-radius: 0.25em;background-color: #f0f8ff;}#sk-container-id-1 input.sk-toggleable__control:checked~div.sk-toggleable__content {max-height: 200px;max-width: 100%;overflow: auto;}#sk-container-id-1 input.sk-toggleable__control:checked~label.sk-toggleable__label-arrow:before {content: \"▾\";}#sk-container-id-1 div.sk-estimator input.sk-toggleable__control:checked~label.sk-toggleable__label {background-color: #d4ebff;}#sk-container-id-1 div.sk-label input.sk-toggleable__control:checked~label.sk-toggleable__label {background-color: #d4ebff;}#sk-container-id-1 input.sk-hidden--visually {border: 0;clip: rect(1px 1px 1px 1px);clip: rect(1px, 1px, 1px, 1px);height: 1px;margin: -1px;overflow: hidden;padding: 0;position: absolute;width: 1px;}#sk-container-id-1 div.sk-estimator {font-family: monospace;background-color: #f0f8ff;border: 1px dotted black;border-radius: 0.25em;box-sizing: border-box;margin-bottom: 0.5em;}#sk-container-id-1 div.sk-estimator:hover {background-color: #d4ebff;}#sk-container-id-1 div.sk-parallel-item::after {content: \"\";width: 100%;border-bottom: 1px solid gray;flex-grow: 1;}#sk-container-id-1 div.sk-label:hover label.sk-toggleable__label {background-color: #d4ebff;}#sk-container-id-1 div.sk-serial::before {content: \"\";position: absolute;border-left: 1px solid gray;box-sizing: border-box;top: 0;bottom: 0;left: 50%;z-index: 0;}#sk-container-id-1 div.sk-serial {display: flex;flex-direction: column;align-items: center;background-color: white;padding-right: 0.2em;padding-left: 0.2em;position: relative;}#sk-container-id-1 div.sk-item {position: relative;z-index: 1;}#sk-container-id-1 div.sk-parallel {display: flex;align-items: stretch;justify-content: center;background-color: white;position: relative;}#sk-container-id-1 div.sk-item::before, #sk-container-id-1 div.sk-parallel-item::before {content: \"\";position: absolute;border-left: 1px solid gray;box-sizing: border-box;top: 0;bottom: 0;left: 50%;z-index: -1;}#sk-container-id-1 div.sk-parallel-item {display: flex;flex-direction: column;z-index: 1;position: relative;background-color: white;}#sk-container-id-1 div.sk-parallel-item:first-child::after {align-self: flex-end;width: 50%;}#sk-container-id-1 div.sk-parallel-item:last-child::after {align-self: flex-start;width: 50%;}#sk-container-id-1 div.sk-parallel-item:only-child::after {width: 0;}#sk-container-id-1 div.sk-dashed-wrapped {border: 1px dashed gray;margin: 0 0.4em 0.5em 0.4em;box-sizing: border-box;padding-bottom: 0.4em;background-color: white;}#sk-container-id-1 div.sk-label label {font-family: monospace;font-weight: bold;display: inline-block;line-height: 1.2em;}#sk-container-id-1 div.sk-label-container {text-align: center;}#sk-container-id-1 div.sk-container {/* jupyter's `normalize.less` sets `[hidden] { display: none; }` but bootstrap.min.css set `[hidden] { display: none !important; }` so we also need the `!important` here to be able to override the default hidden behavior on the sphinx rendered scikit-learn.org. See: https://github.com/scikit-learn/scikit-learn/issues/21755 */display: inline-block !important;position: relative;}#sk-container-id-1 div.sk-text-repr-fallback {display: none;}</style><div id=\"sk-container-id-1\" class=\"sk-top-container\"><div class=\"sk-text-repr-fallback\"><pre>KNeighborsClassifier(n_neighbors=3)</pre><b>In a Jupyter environment, please rerun this cell to show the HTML representation or trust the notebook. <br />On GitHub, the HTML representation is unable to render, please try loading this page with nbviewer.org.</b></div><div class=\"sk-container\" hidden><div class=\"sk-item\"><div class=\"sk-estimator sk-toggleable\"><input class=\"sk-toggleable__control sk-hidden--visually\" id=\"sk-estimator-id-1\" type=\"checkbox\" checked><label for=\"sk-estimator-id-1\" class=\"sk-toggleable__label sk-toggleable__label-arrow\">KNeighborsClassifier</label><div class=\"sk-toggleable__content\"><pre>KNeighborsClassifier(n_neighbors=3)</pre></div></div></div></div></div>"
      ],
      "text/plain": [
       "KNeighborsClassifier(n_neighbors=3)"
      ]
     },
     "execution_count": 11,
     "metadata": {},
     "output_type": "execute_result"
    }
   ],
   "source": [
    "KNNclassifier.fit(train_df_X, train_df_Y)"
   ]
  },
  {
   "cell_type": "code",
   "execution_count": 12,
   "id": "dc1d1dbb-3eab-4c1b-8325-303b6e8a097e",
   "metadata": {},
   "outputs": [
    {
     "data": {
      "text/plain": [
       "0.8316498316498316"
      ]
     },
     "execution_count": 12,
     "metadata": {},
     "output_type": "execute_result"
    }
   ],
   "source": [
    "KNNclassifier.score(train_df_X, train_df_Y)"
   ]
  },
  {
   "cell_type": "code",
   "execution_count": 13,
   "id": "ac9ed0ed-aa21-4057-b7e3-90b471866676",
   "metadata": {},
   "outputs": [],
   "source": [
    "knn_predict = KNNclassifier.predict(test_df_X)"
   ]
  },
  {
   "cell_type": "markdown",
   "id": "31b6bf7b-f6a3-4dde-8dbe-32564859e6e5",
   "metadata": {},
   "source": [
    "## SVM Classifier\n",
    "\n",
    "For Support Vector Classifiers it is important to know the structure of the data. The configuration of the SVC depends in the data structure, wether the data is linearly or non-linearly separable is important for the configuration choices.\n",
    "We can use PCA in order to make a 2D visualization that will help us to understand the data structure visually."
   ]
  },
  {
   "cell_type": "code",
   "execution_count": 15,
   "id": "33036a88-4d5a-4885-97cb-29749d38511b",
   "metadata": {},
   "outputs": [
    {
     "data": {
      "text/plain": [
       "<matplotlib.collections.PathCollection at 0x7f0b738aba00>"
      ]
     },
     "execution_count": 15,
     "metadata": {},
     "output_type": "execute_result"
    },
    {
     "data": {
      "image/png": "[encoded data removed]",
      "text/plain": [
       "<Figure size 640x480 with 1 Axes>"
      ]
     },
     "metadata": {},
     "output_type": "display_data"
    }
   ],
   "source": [
    "pca = PCA(n_components=2)\n",
    "reduced_X = pd.DataFrame(pca.fit_transform(train_df_X), columns=[\"comp1\", \"comp2\"])\n",
    "\n",
    "colors = np.where(train_df_Y > 0, 'k', 'r')\n",
    "plt.scatter(reduced_X['comp1'], reduced_X['comp2'], s=20, c=colors)"
   ]
  },
  {
   "cell_type": "markdown",
   "id": "ee23ab96-409e-41ed-ab59-26e598157a54",
   "metadata": {},
   "source": [
    "What we did was to reduce the features dimensionality to 2 components and paint them in the scatter plot based on wether they survived or not.\n",
    "**As we can see, the data seems to be non-linear which in practice suggests that it would be better to use non-linear kernels such as RBF**"
   ]
  },
  {
   "cell_type": "code",
   "execution_count": 16,
   "id": "5fff7d77-0e1f-4d11-9dd3-fdb39d8b67d6",
   "metadata": {},
   "outputs": [
    {
     "data": {
      "text/plain": [
       "0.6846240179573513"
      ]
     },
     "execution_count": 16,
     "metadata": {},
     "output_type": "execute_result"
    }
   ],
   "source": [
    "svm = SVC()\n",
    "svm_result = svm.fit(train_df_X, train_df_Y)\n",
    "svm_result.score(train_df_X, train_df_Y)"
   ]
  },
  {
   "cell_type": "code",
   "execution_count": 17,
   "id": "d01927ab-7fd5-4829-8d19-dbcbfc31c936",
   "metadata": {},
   "outputs": [],
   "source": [
    "svm_predict = svm_result.predict(test_df_X)"
   ]
  },
  {
   "cell_type": "markdown",
   "id": "adf039d2-4868-4a75-8104-b99971a885be",
   "metadata": {},
   "source": [
    "## SGD\n",
    "Stochastic Gradient Descent is an algorithm based on gradient descent learning, this is, iterate through the labeled data and updating the model weights ind order to reach an optimal value that minimizes a defined loss function. For learning purposes we will implement it but in practice with a hinge loss it is equivalent to a SVM algorithm as the sklearn documentation specifies: https://scikit-learn.org/stable/modules/sgd.html#classification"
   ]
  },
  {
   "cell_type": "code",
   "execution_count": 18,
   "id": "4248daa2-636b-4f20-8f7c-8edba77c68ca",
   "metadata": {},
   "outputs": [
    {
     "data": {
      "text/plain": [
       "0.5768799102132436"
      ]
     },
     "execution_count": 18,
     "metadata": {},
     "output_type": "execute_result"
    }
   ],
   "source": [
    "sgd = SGDClassifier(loss='hinge', penalty='l2')\n",
    "sgd_fit = sgd.fit(train_df_X, train_df_Y)\n",
    "sgd_fit.score(train_df_X, train_df_Y)"
   ]
  },
  {
   "cell_type": "code",
   "execution_count": 19,
   "id": "18f1ad05-f7a5-419e-a145-a922f0e06a1a",
   "metadata": {},
   "outputs": [
    {
     "data": {
      "text/plain": [
       "array([0, 0, 0, 0, 0, 0, 0, 1, 1, 0, 0, 0, 1, 0, 1, 1, 0, 0, 0, 0, 1, 0,\n",
       "       1, 1, 1, 0, 1, 0, 0, 0, 0, 1, 0, 1, 1, 0, 0, 0, 0, 1, 0, 0, 0, 0,\n",
       "       1, 0, 0, 0, 1, 0, 1, 1, 1, 1, 1, 1, 0, 0, 0, 1, 0, 0, 0, 0, 1, 1,\n",
       "       1, 1, 1, 1, 0, 0, 0, 1, 1, 1, 0, 0, 0, 0, 1, 1, 0, 0, 0, 0, 0, 1,\n",
       "       0, 1, 0, 0, 1, 0, 1, 0, 1, 0, 0, 0, 1, 0, 0, 0, 1, 0, 0, 0, 0, 0,\n",
       "       0, 0, 1, 0, 1, 0, 0, 1, 1, 1, 1, 0, 1, 0, 0, 1, 0, 1, 0, 0, 0, 0,\n",
       "       1, 0, 0, 0, 0, 0, 0, 1, 1, 1, 1, 0, 0, 0, 1, 0, 1, 0, 1, 0, 0, 0,\n",
       "       1, 0, 1, 0, 0, 1, 0, 1, 0, 0, 0, 1, 1, 1, 1, 0, 0, 0, 0, 0, 0, 1,\n",
       "       1, 1, 1, 1, 0, 1, 1, 0, 1, 0, 1, 0, 1, 0, 0, 0, 0, 0, 1, 0, 1, 0,\n",
       "       0, 0, 1, 1, 1, 1, 0, 1, 0, 0, 1, 0, 0, 0, 1, 0, 0, 0, 0, 1, 1, 0,\n",
       "       1, 0, 1, 0, 1, 1, 0, 0, 0, 0, 1, 1, 0, 0, 1, 0, 1, 0, 1, 1, 0, 1,\n",
       "       1, 0, 0, 1, 1, 0, 1, 0, 1, 0, 1, 0, 0, 0, 0, 0, 1, 0, 0, 0, 1, 1,\n",
       "       0, 0, 0, 0, 0, 0, 1, 0, 1, 0, 0, 1, 0, 0, 0, 0, 0, 1, 0, 1, 1, 0,\n",
       "       0, 1, 0, 0, 1, 0, 0, 1, 0, 0, 1, 0, 1, 0, 0, 0, 0, 0, 0, 0, 1, 1,\n",
       "       1, 0, 0, 0, 0, 0, 1, 1, 1, 0, 0, 1, 0, 0, 0, 0, 1, 0, 1, 1, 0, 0,\n",
       "       1, 0, 0, 1, 0, 0, 0, 0, 1, 0, 0, 0, 1, 1, 0, 0, 0, 0, 0, 1, 1, 0,\n",
       "       1, 1, 1, 0, 0, 0, 0, 0, 1, 1, 1, 0, 1, 1, 0, 1, 1, 0, 0, 1, 0, 0,\n",
       "       1, 1, 0, 0, 1, 1, 0, 0, 0, 1, 0, 1, 0, 0, 0, 0, 1, 1, 1, 0, 0, 1,\n",
       "       0, 1, 0, 0, 1, 0, 1, 1, 0, 1, 0, 1, 0, 1, 0, 1, 0, 0, 1, 0, 0, 0])"
      ]
     },
     "execution_count": 19,
     "metadata": {},
     "output_type": "execute_result"
    }
   ],
   "source": [
    "sgd_results = sgd_fit.predict(test_df_X)"
   ]
  },
  {
   "cell_type": "markdown",
   "id": "26e2e381-83cd-4e17-8e17-d240fb683e96",
   "metadata": {},
   "source": [
    "## Decision Tree\n",
    "Decision tree's classifiers use if-then-else sequential question on the dataset in order to gain general knowledge about the data distribution, being a non-linear algorithm, is more suitable for our problem."
   ]
  },
  {
   "cell_type": "code",
   "execution_count": 20,
   "id": "e95cf6b9-c91c-4df2-8235-f618e10aaaad",
   "metadata": {},
   "outputs": [
    {
     "data": {
      "text/plain": [
       "0.9988776655443322"
      ]
     },
     "execution_count": 20,
     "metadata": {},
     "output_type": "execute_result"
    }
   ],
   "source": [
    "dt = tree.DecisionTreeClassifier()\n",
    "fit_tree = dt.fit(train_df_X, train_df_Y)\n",
    "dt.score(train_df_X, train_df_Y)"
   ]
  },
  {
   "cell_type": "code",
   "execution_count": 21,
   "id": "047eb9a1-26e8-4c5f-aadd-88f5c3de14e1",
   "metadata": {},
   "outputs": [
    {
     "data": {
      "text/plain": [
       "array([0, 0, 0, 1, 1, 1, 1, 1, 1, 0, 0, 0, 1, 0, 1, 1, 1, 0, 0, 0, 0, 1,\n",
       "       1, 0, 1, 0, 1, 0, 0, 1, 0, 1, 1, 0, 1, 0, 1, 1, 1, 0, 1, 0, 0, 1,\n",
       "       1, 0, 1, 0, 1, 1, 1, 0, 0, 0, 0, 1, 0, 0, 1, 1, 1, 1, 0, 1, 1, 1,\n",
       "       1, 0, 1, 0, 0, 0, 1, 1, 1, 1, 1, 0, 1, 0, 1, 0, 1, 0, 1, 1, 1, 0,\n",
       "       0, 1, 0, 0, 1, 1, 0, 0, 1, 0, 1, 1, 1, 1, 0, 0, 1, 1, 0, 0, 1, 0,\n",
       "       1, 1, 1, 1, 1, 0, 0, 0, 1, 1, 1, 0, 1, 0, 0, 0, 0, 1, 0, 1, 0, 1,\n",
       "       0, 0, 0, 0, 0, 1, 0, 1, 0, 1, 0, 1, 0, 1, 0, 0, 0, 1, 1, 0, 0, 0,\n",
       "       1, 0, 1, 1, 1, 0, 1, 1, 0, 0, 1, 1, 1, 0, 0, 0, 0, 0, 1, 0, 1, 1,\n",
       "       1, 0, 1, 1, 1, 1, 1, 0, 1, 1, 1, 1, 0, 1, 1, 1, 1, 0, 1, 0, 1, 1,\n",
       "       1, 0, 0, 1, 0, 1, 1, 1, 0, 1, 1, 0, 1, 0, 1, 1, 0, 0, 1, 0, 1, 1,\n",
       "       1, 0, 1, 0, 1, 1, 0, 0, 1, 1, 1, 0, 0, 0, 1, 0, 0, 0, 1, 1, 0, 1,\n",
       "       0, 0, 0, 0, 1, 1, 1, 0, 1, 0, 1, 1, 1, 0, 0, 1, 1, 0, 1, 0, 1, 0,\n",
       "       1, 0, 0, 0, 0, 1, 0, 0, 1, 0, 0, 1, 0, 1, 1, 0, 1, 1, 0, 1, 0, 0,\n",
       "       0, 1, 0, 1, 1, 0, 0, 1, 1, 0, 1, 1, 0, 0, 0, 0, 1, 1, 0, 1, 1, 1,\n",
       "       1, 0, 0, 0, 0, 0, 1, 0, 0, 0, 0, 0, 0, 0, 1, 0, 1, 0, 1, 0, 0, 0,\n",
       "       1, 0, 0, 1, 0, 1, 1, 0, 1, 0, 0, 0, 1, 1, 1, 1, 1, 0, 1, 1, 1, 1,\n",
       "       0, 0, 0, 1, 1, 0, 0, 0, 1, 1, 1, 1, 1, 0, 1, 1, 1, 0, 0, 1, 0, 0,\n",
       "       1, 1, 1, 0, 0, 1, 0, 0, 0, 0, 0, 1, 0, 0, 0, 1, 1, 1, 1, 0, 1, 1,\n",
       "       0, 1, 0, 0, 1, 1, 1, 1, 0, 0, 1, 0, 1, 0, 0, 1, 1, 1, 1, 0, 1, 1])"
      ]
     },
     "execution_count": 21,
     "metadata": {},
     "output_type": "execute_result"
    }
   ],
   "source": [
    "dt_pred = dt.predict(test_df_X)"
   ]
  },
  {
   "cell_type": "markdown",
   "id": "cd1f9771-71da-42d9-8e11-6d85ec8c21eb",
   "metadata": {},
   "source": [
    "We can see that the decision tree gets 100% accuracy, something rare, and probably indicating that the tree is overfitting the data, in any case seems to be the algorith that achieves the best result"
   ]
  },
  {
   "cell_type": "markdown",
   "id": "1c83139a-4bc8-42ab-bc8d-2f2bb5c3a7c4",
   "metadata": {},
   "source": [
    "## Random Forest\n",
    "Random forest basically is a collection of decison trees that throw results and the random forest try to mix the result and get the better output."
   ]
  },
  {
   "cell_type": "code",
   "execution_count": 22,
   "id": "2a52079f-52e5-4ac8-a00d-2ce69718a9ab",
   "metadata": {},
   "outputs": [
    {
     "data": {
      "text/plain": [
       "0.9988776655443322"
      ]
     },
     "execution_count": 22,
     "metadata": {},
     "output_type": "execute_result"
    }
   ],
   "source": [
    "rfc = RandomForestClassifier()\n",
    "rfc_fit = rfc.fit(train_df_X, train_df_Y)\n",
    "rfc_fit.score(train_df_X, train_df_Y)"
   ]
  },
  {
   "cell_type": "code",
   "execution_count": 23,
   "id": "8de9640d-47fc-432e-beeb-bec1dc241bbe",
   "metadata": {},
   "outputs": [
    {
     "data": {
      "text/plain": [
       "array([0, 1, 0, 1, 1, 1, 1, 1, 1, 0, 0, 0, 1, 0, 1, 1, 0, 1, 1, 1, 0, 1,\n",
       "       1, 1, 1, 0, 1, 1, 0, 1, 0, 1, 1, 1, 0, 1, 1, 1, 0, 1, 0, 0, 0, 1,\n",
       "       1, 0, 1, 0, 1, 1, 0, 0, 1, 1, 0, 0, 0, 1, 0, 1, 1, 1, 1, 1, 1, 1,\n",
       "       1, 0, 1, 1, 1, 1, 1, 1, 1, 0, 1, 1, 1, 1, 1, 0, 0, 1, 0, 1, 1, 1,\n",
       "       1, 1, 1, 1, 1, 1, 0, 1, 1, 0, 1, 0, 1, 1, 0, 1, 1, 1, 1, 1, 1, 1,\n",
       "       0, 1, 1, 1, 1, 1, 0, 1, 0, 1, 1, 0, 1, 1, 0, 1, 1, 1, 0, 1, 0, 0,\n",
       "       1, 0, 0, 1, 1, 1, 1, 0, 1, 1, 0, 1, 0, 1, 0, 0, 0, 1, 1, 1, 0, 1,\n",
       "       1, 0, 1, 1, 0, 1, 1, 1, 1, 1, 0, 1, 1, 1, 1, 1, 0, 0, 1, 0, 0, 1,\n",
       "       1, 0, 1, 1, 0, 0, 1, 0, 1, 0, 1, 0, 1, 0, 0, 0, 1, 0, 1, 0, 1, 1,\n",
       "       1, 1, 1, 1, 0, 1, 1, 0, 1, 1, 1, 1, 1, 0, 0, 1, 1, 0, 1, 0, 1, 1,\n",
       "       1, 1, 1, 1, 1, 1, 1, 1, 0, 0, 1, 1, 0, 0, 1, 1, 0, 1, 1, 1, 1, 1,\n",
       "       0, 0, 0, 0, 1, 0, 1, 1, 1, 0, 1, 1, 1, 0, 0, 1, 1, 1, 0, 1, 1, 1,\n",
       "       0, 1, 0, 0, 1, 1, 0, 0, 1, 1, 0, 1, 1, 0, 0, 0, 1, 1, 1, 1, 1, 0,\n",
       "       0, 1, 1, 1, 1, 1, 1, 1, 0, 1, 1, 1, 0, 1, 1, 0, 0, 1, 1, 1, 1, 1,\n",
       "       1, 1, 1, 1, 0, 1, 1, 1, 1, 0, 1, 1, 1, 1, 1, 0, 1, 0, 1, 0, 0, 1,\n",
       "       1, 1, 0, 1, 1, 0, 1, 0, 1, 0, 1, 1, 0, 1, 1, 1, 1, 1, 1, 1, 1, 1,\n",
       "       0, 1, 1, 0, 1, 0, 0, 1, 0, 1, 1, 1, 1, 1, 1, 1, 1, 0, 0, 1, 0, 0,\n",
       "       1, 1, 1, 1, 0, 1, 0, 1, 1, 1, 0, 1, 1, 0, 1, 1, 0, 1, 1, 0, 1, 1,\n",
       "       0, 1, 1, 0, 1, 0, 1, 1, 0, 0, 0, 0, 1, 1, 1, 1, 1, 1, 1, 0, 1, 1])"
      ]
     },
     "execution_count": 23,
     "metadata": {},
     "output_type": "execute_result"
    }
   ],
   "source": [
    "rfc_pred = rfc_fit.predict(test_df_X)"
   ]
  },
  {
   "cell_type": "markdown",
   "id": "c189e349-bf46-4951-8f53-801f2fc0e418",
   "metadata": {},
   "source": [
    "## Neural Network\n",
    "Neural networks is the mainstream in machine learning, its a composition of functions separated in layers which interconnect using a layer output as input for the next layer, in the final layer can use an activation function to output a result, in the binary case we want to use sigmoid function which will always output a number between 0 and 1.\n",
    "\n",
    "We will use pytorch as deep learning framework"
   ]
  },
  {
   "cell_type": "code",
   "execution_count": 24,
   "id": "07b0f1f3-0ebf-4844-9e3d-753a0d173810",
   "metadata": {},
   "outputs": [
    {
     "name": "stdout",
     "output_type": "stream",
     "text": [
      "Using cpu device\n"
     ]
    }
   ],
   "source": [
    "device = (\n",
    "    \"cuda\"\n",
    "    if torch.cuda.is_available()\n",
    "    else \"mps\"\n",
    "    if torch.backends.mps.is_available()\n",
    "    else \"cpu\"\n",
    ")\n",
    "print(f\"Using {device} device\")"
   ]
  },
  {
   "cell_type": "code",
   "execution_count": 25,
   "id": "607e3529-ffdf-4db1-a316-1cd675307af6",
   "metadata": {},
   "outputs": [],
   "source": [
    "total_samples = train_df_X.shape[0]\n",
    "train_split = int(0.7 * total_samples)\n",
    "dev_split = total_samples - train_split"
   ]
  },
  {
   "cell_type": "code",
   "execution_count": 26,
   "id": "d0132b6c-d23c-46b2-a1ee-954a90b416bf",
   "metadata": {},
   "outputs": [],
   "source": [
    "X_train = torch.tensor(train_df_X[:train_split].values)\n",
    "Y_train = torch.tensor(train_df_Y[:train_split].values).float()\n",
    "X_dev = torch.tensor(train_df_X[dev_split:].values)\n",
    "Y_dev = torch.tensor(train_df_Y[dev_split:].values).float()"
   ]
  },
  {
   "cell_type": "code",
   "execution_count": 27,
   "id": "8094b71a-966b-40c2-854c-9f7acfdba740",
   "metadata": {},
   "outputs": [],
   "source": [
    "class SimpleNet(nn.Module):\n",
    "    def __init__(self):\n",
    "        super().__init__()\n",
    "        self.net = nn.Sequential(\n",
    "            nn.Linear(9, 128),\n",
    "            nn.ReLU(),\n",
    "            nn.Linear(128, 64),\n",
    "            nn.ReLU(),\n",
    "            nn.Linear(64, 32),\n",
    "            nn.ReLU(),\n",
    "            nn.Linear(32,1),\n",
    "            nn.Sigmoid()\n",
    "        )\n",
    "\n",
    "    def forward(self, input):\n",
    "        return self.net(input)"
   ]
  },
  {
   "cell_type": "code",
   "execution_count": 28,
   "id": "eab22f20-e28e-4a8e-b9f1-e3ceedd736fc",
   "metadata": {},
   "outputs": [],
   "source": [
    "def train(x, y, model, optimizer, loss_fn):\n",
    "    model.train()\n",
    "\n",
    "    loss_acum = 0\n",
    "    for i in range(len(x)):\n",
    "        pred = model(x[i].float())\n",
    "        label = torch.tensor([y[i]]).float()\n",
    "\n",
    "        loss = loss_fn(pred, label)\n",
    "        loss.backward()\n",
    "        \n",
    "        optimizer.step()\n",
    "        optimizer.zero_grad()\n",
    "\n",
    "        loss_acum += loss.item()\n",
    "\n",
    "    avg_loss = loss_acum / len(x)\n",
    "    return loss_acum, avg_loss"
   ]
  },
  {
   "cell_type": "code",
   "execution_count": 29,
   "id": "390d16ad-7402-44ac-9338-84ef96949616",
   "metadata": {},
   "outputs": [],
   "source": [
    "def test(x, y, model, loss_fn):\n",
    "    model.eval()\n",
    "\n",
    "    loss_acum = 0\n",
    "    correct = 0\n",
    "    with torch.no_grad():\n",
    "        for i in range(len(x)):\n",
    "            pred = model(x[i].float())\n",
    "            true_label = torch.tensor([y[i]]).float()\n",
    "\n",
    "            test_loss = loss_fn(pred, true_label)\n",
    "            loss_acum += test_loss.item()\n",
    "            if pred.round() == true_label:\n",
    "                correct += 1\n",
    "\n",
    "    avg_loss = loss_acum / len(x)\n",
    "    accuracy = correct / len(x)\n",
    "\n",
    "    return avg_loss, accuracy"
   ]
  },
  {
   "cell_type": "code",
   "execution_count": 30,
   "id": "8791aa53-4c1b-482e-85f3-6311bc60e41e",
   "metadata": {},
   "outputs": [
    {
     "name": "stdout",
     "output_type": "stream",
     "text": [
      "SimpleNet(\n",
      "  (net): Sequential(\n",
      "    (0): Linear(in_features=9, out_features=128, bias=True)\n",
      "    (1): ReLU()\n",
      "    (2): Linear(in_features=128, out_features=64, bias=True)\n",
      "    (3): ReLU()\n",
      "    (4): Linear(in_features=64, out_features=32, bias=True)\n",
      "    (5): ReLU()\n",
      "    (6): Linear(in_features=32, out_features=1, bias=True)\n",
      "    (7): Sigmoid()\n",
      "  )\n",
      ")\n",
      "epoch 0 ======================================================================\n",
      "Train acumulated loss: 467.94719765824266 -- Train average loss: 0.7511190973647555\n",
      "Test loss: 0.6069673270728576 -- Test accuracy: 0.6966292134831461\n",
      "epoch 20 ======================================================================\n",
      "Train acumulated loss: 391.4985389560461 -- Train average loss: 0.628408569752883\n",
      "Test loss: 0.5603023470464622 -- Test accuracy: 0.7351524879614767\n",
      "epoch 40 ======================================================================\n",
      "Train acumulated loss: 382.2421181201935 -- Train average loss: 0.6135507513967793\n",
      "Test loss: 0.5524027645259043 -- Test accuracy: 0.7335473515248796\n",
      "epoch 60 ======================================================================\n",
      "Train acumulated loss: 378.431055765599 -- Train average loss: 0.6074334763492761\n",
      "Test loss: 0.5443720885045695 -- Test accuracy: 0.7351524879614767\n",
      "epoch 80 ======================================================================\n",
      "Train acumulated loss: 374.3781450204551 -- Train average loss: 0.6009280016379697\n",
      "Test loss: 0.5447260252294246 -- Test accuracy: 0.7399678972712681\n",
      "epoch 100 ======================================================================\n",
      "Train acumulated loss: 372.28514864481986 -- Train average loss: 0.5975684568937718\n",
      "Test loss: 0.540708530561574 -- Test accuracy: 0.7479935794542536\n",
      "epoch 120 ======================================================================\n",
      "Train acumulated loss: 367.539849080611 -- Train average loss: 0.5899516036606919\n",
      "Test loss: 0.540781275042965 -- Test accuracy: 0.7495987158908507\n",
      "epoch 140 ======================================================================\n",
      "Train acumulated loss: 367.0194812687114 -- Train average loss: 0.5891163423253795\n",
      "Test loss: 0.5394458370980243 -- Test accuracy: 0.7512038523274478\n",
      "epoch 160 ======================================================================\n",
      "Train acumulated loss: 365.26265886914916 -- Train average loss: 0.5862964026792121\n",
      "Test loss: 0.5441043291656326 -- Test accuracy: 0.7528089887640449\n",
      "epoch 180 ======================================================================\n",
      "Train acumulated loss: 362.055791962659 -- Train average loss: 0.5811489437602873\n",
      "Test loss: 0.5524752117394398 -- Test accuracy: 0.7576243980738363\n",
      "epoch 200 ======================================================================\n",
      "Train acumulated loss: 357.34791931496875 -- Train average loss: 0.5735921658346208\n",
      "Test loss: 0.5636553098658951 -- Test accuracy: 0.7463884430176565\n",
      "epoch 220 ======================================================================\n",
      "Train acumulated loss: 355.39301172864725 -- Train average loss: 0.570454272437636\n",
      "Test loss: 0.5617875949935748 -- Test accuracy: 0.7479935794542536\n",
      "epoch 240 ======================================================================\n",
      "Train acumulated loss: 355.16052969914745 -- Train average loss: 0.5700811070612318\n",
      "Test loss: 0.5749822130686089 -- Test accuracy: 0.7335473515248796\n",
      "epoch 260 ======================================================================\n",
      "Train acumulated loss: 342.50356192128675 -- Train average loss: 0.5497649469041521\n",
      "Test loss: 0.5792386152132512 -- Test accuracy: 0.7415730337078652\n",
      "epoch 280 ======================================================================\n",
      "Train acumulated loss: 344.3679147600674 -- Train average loss: 0.5527574875763521\n",
      "Test loss: 0.576698485489873 -- Test accuracy: 0.7544141252006421\n",
      "epoch 300 ======================================================================\n",
      "Train acumulated loss: 339.8295390657951 -- Train average loss: 0.545472775386509\n",
      "Test loss: 0.5863639358171758 -- Test accuracy: 0.7479935794542536\n",
      "epoch 320 ======================================================================\n",
      "Train acumulated loss: 339.700926324741 -- Train average loss: 0.5452663343896323\n",
      "Test loss: 0.5757466067309752 -- Test accuracy: 0.7367576243980738\n",
      "epoch 340 ======================================================================\n",
      "Train acumulated loss: 352.0430053085802 -- Train average loss: 0.5650770550699521\n",
      "Test loss: 0.5644194925968579 -- Test accuracy: 0.7415730337078652\n",
      "epoch 360 ======================================================================\n",
      "Train acumulated loss: 339.7670347151943 -- Train average loss: 0.5453724473759138\n",
      "Test loss: 0.5591352894465442 -- Test accuracy: 0.7544141252006421\n",
      "epoch 380 ======================================================================\n",
      "Train acumulated loss: 341.7599513896348 -- Train average loss: 0.5485713505451602\n",
      "Test loss: 0.5845313974502385 -- Test accuracy: 0.7495987158908507\n",
      "epoch 400 ======================================================================\n",
      "Train acumulated loss: 328.6181154471087 -- Train average loss: 0.52747691083003\n",
      "Test loss: 0.5845821473216942 -- Test accuracy: 0.7592295345104334\n",
      "epoch 420 ======================================================================\n",
      "Train acumulated loss: 332.792709077361 -- Train average loss: 0.5341777031739342\n",
      "Test loss: 0.5924600301942817 -- Test accuracy: 0.7415730337078652\n",
      "epoch 440 ======================================================================\n",
      "Train acumulated loss: 328.7376799176418 -- Train average loss: 0.5276688281182051\n",
      "Test loss: 0.5858650288449819 -- Test accuracy: 0.7528089887640449\n",
      "epoch 460 ======================================================================\n",
      "Train acumulated loss: 328.31825736627934 -- Train average loss: 0.5269955976986828\n",
      "Test loss: 0.5683108936734701 -- Test accuracy: 0.7463884430176565\n",
      "epoch 480 ======================================================================\n",
      "Train acumulated loss: 333.94636247788003 -- Train average loss: 0.5360294742823114\n",
      "Test loss: 0.5598502905037565 -- Test accuracy: 0.7383627608346709\n",
      "epoch 500 ======================================================================\n",
      "Train acumulated loss: 321.4667698414869 -- Train average loss: 0.5159980254277479\n",
      "Test loss: 0.5621857362429947 -- Test accuracy: 0.7752808988764045\n",
      "epoch 520 ======================================================================\n",
      "Train acumulated loss: 319.61006577401986 -- Train average loss: 0.5130177620770784\n",
      "Test loss: 0.6004109698755838 -- Test accuracy: 0.7544141252006421\n",
      "epoch 540 ======================================================================\n",
      "Train acumulated loss: 313.6897334134562 -- Train average loss: 0.5035148208883727\n",
      "Test loss: 0.5890649482328493 -- Test accuracy: 0.7688603531300161\n",
      "epoch 560 ======================================================================\n",
      "Train acumulated loss: 318.0160301733546 -- Train average loss: 0.5104591174532176\n",
      "Test loss: 0.6052445478511561 -- Test accuracy: 0.7768860353130016\n",
      "epoch 580 ======================================================================\n",
      "Train acumulated loss: 326.95613087500215 -- Train average loss: 0.5248091988362795\n",
      "Test loss: 0.583751359342844 -- Test accuracy: 0.7576243980738363\n",
      "epoch 600 ======================================================================\n",
      "Train acumulated loss: 318.4284342058167 -- Train average loss: 0.5111210821923221\n",
      "Test loss: 0.5848101049694909 -- Test accuracy: 0.7560192616372392\n",
      "epoch 620 ======================================================================\n",
      "Train acumulated loss: 330.79459413110817 -- Train average loss: 0.5309704560691945\n",
      "Test loss: 0.799339052530124 -- Test accuracy: 0.7560192616372392\n",
      "epoch 640 ======================================================================\n",
      "Train acumulated loss: 315.3475028313421 -- Train average loss: 0.5061757669844978\n",
      "Test loss: 0.5521653214619604 -- Test accuracy: 0.7849117174959872\n",
      "epoch 660 ======================================================================\n",
      "Train acumulated loss: 302.12589168431333 -- Train average loss: 0.48495327718188336\n",
      "Test loss: 0.592671076934964 -- Test accuracy: 0.7817014446227929\n",
      "epoch 680 ======================================================================\n",
      "Train acumulated loss: 325.6161175431121 -- Train average loss: 0.522658294611737\n",
      "Test loss: 0.5538462374030106 -- Test accuracy: 0.7640449438202247\n",
      "epoch 700 ======================================================================\n",
      "Train acumulated loss: 304.67070298151737 -- Train average loss: 0.4890380465192895\n",
      "Test loss: 0.5796486187660072 -- Test accuracy: 0.7624398073836276\n",
      "epoch 720 ======================================================================\n",
      "Train acumulated loss: 313.065509354905 -- Train average loss: 0.5025128561073916\n",
      "Test loss: 0.6037684557698585 -- Test accuracy: 0.7640449438202247\n",
      "epoch 740 ======================================================================\n",
      "Train acumulated loss: 316.7372235998902 -- Train average loss: 0.5084064584267901\n",
      "Test loss: 0.5848540578244174 -- Test accuracy: 0.7688603531300161\n",
      "epoch 760 ======================================================================\n",
      "Train acumulated loss: 294.70643619501203 -- Train average loss: 0.4730440388362954\n",
      "Test loss: 0.5893767637163293 -- Test accuracy: 0.7865168539325843\n",
      "epoch 780 ======================================================================\n",
      "Train acumulated loss: 335.719776865166 -- Train average loss: 0.5388760463325297\n",
      "Test loss: 0.6323926191991142 -- Test accuracy: 0.7736757624398074\n",
      "epoch 800 ======================================================================\n",
      "Train acumulated loss: 299.96323682565526 -- Train average loss: 0.4814819210684675\n",
      "Test loss: 0.5699925999764924 -- Test accuracy: 0.7865168539325843\n",
      "epoch 820 ======================================================================\n",
      "Train acumulated loss: 328.36530525047147 -- Train average loss: 0.5270711159718643\n",
      "Test loss: 0.6028681104261838 -- Test accuracy: 0.7817014446227929\n",
      "epoch 840 ======================================================================\n",
      "Train acumulated loss: 290.03332256640806 -- Train average loss: 0.4655430538786646\n",
      "Test loss: 0.6285252912756488 -- Test accuracy: 0.78330658105939\n",
      "epoch 860 ======================================================================\n",
      "Train acumulated loss: 307.06734850357185 -- Train average loss: 0.49288498957234644\n",
      "Test loss: 0.619585844200292 -- Test accuracy: 0.7656500802568218\n",
      "epoch 880 ======================================================================\n",
      "Train acumulated loss: 306.3335001214183 -- Train average loss: 0.491707062795214\n",
      "Test loss: 0.5757302723190207 -- Test accuracy: 0.7817014446227929\n",
      "epoch 900 ======================================================================\n",
      "Train acumulated loss: 340.4651361383109 -- Train average loss: 0.5464929954065986\n",
      "Test loss: 0.7480395918094401 -- Test accuracy: 0.7688603531300161\n",
      "epoch 920 ======================================================================\n",
      "Train acumulated loss: 282.1901976127154 -- Train average loss: 0.4529537682387085\n",
      "Test loss: 0.730976582406023 -- Test accuracy: 0.7881219903691814\n",
      "epoch 940 ======================================================================\n",
      "Train acumulated loss: 282.6772097520875 -- Train average loss: 0.4537354891686798\n",
      "Test loss: 0.611138167590937 -- Test accuracy: 0.7929373996789727\n",
      "epoch 960 ======================================================================\n",
      "Train acumulated loss: 272.5850197233736 -- Train average loss: 0.437536147228529\n",
      "Test loss: 0.5911670312588326 -- Test accuracy: 0.78330658105939\n",
      "epoch 980 ======================================================================\n",
      "Train acumulated loss: 286.3419615309091 -- Train average loss: 0.45961791577995037\n",
      "Test loss: 0.6208709006177023 -- Test accuracy: 0.7656500802568218\n"
     ]
    }
   ],
   "source": [
    "model = SimpleNet().to(device)\n",
    "print(model)\n",
    "\n",
    "loss_fn = nn.BCELoss()\n",
    "optimizer = SGD(model.parameters(), lr=0.001)\n",
    "\n",
    "for i in range(1000):\n",
    "    \n",
    "    loss_acum, avg_loss = train(X_train, Y_train, model, optimizer, loss_fn)\n",
    "    test_loss, acc = test(X_dev, Y_dev, model, loss_fn)\n",
    "    if i % 20 == 0:\n",
    "        print(f\"epoch {i} \" + \"=\"*70)    \n",
    "        print(f\"Train acumulated loss: {loss_acum} -- Train average loss: {avg_loss}\")\n",
    "        print(f\"Test loss: {test_loss} -- Test accuracy: {acc}\")"
   ]
  },
  {
   "cell_type": "markdown",
   "id": "e7b5a390-140a-43e1-8689-e3cb4e037d73",
   "metadata": {},
   "source": [
    "## Neural net results\n",
    "We can see that the most basic neural net implementation (no batch training nor regularization nor complex layers) can achieve a 78% accuracy on data never seen by the network"
   ]
  },
  {
   "cell_type": "markdown",
   "id": "e38062c6-cc63-49a4-ad50-bfc5e2af6683",
   "metadata": {},
   "source": [
    "# Data Scaling\n",
    "We have seen the result for practically the raw data. It is common in machine learning to standardize and normalize inputs. Normalizing helps with the scale of the input, all features should be in the same scale (something like \"play with the same rules\"). All different models use maths to extract pattern and predictions from the input data, this operations can be heavily distorsionated if the inputs are not in the same scale. It is the model who with training should update parameters in order to assign weights to different features.\n",
    "\n",
    "It is helpful knowing the datadistribution of each feature for chosing a scaling method."
   ]
  },
  {
   "cell_type": "code",
   "execution_count": 31,
   "id": "840e25e7-8e05-475d-9c4d-29006c1719b0",
   "metadata": {},
   "outputs": [
    {
     "data": {
      "image/png": "[encoded data removed]",
      "text/plain": [
       "<Figure size 500x500 with 1 Axes>"
      ]
     },
     "metadata": {},
     "output_type": "display_data"
    },
    {
     "data": {
      "image/png": "[encoded data removed]",
      "text/plain": [
       "<Figure size 500x500 with 1 Axes>"
      ]
     },
     "metadata": {},
     "output_type": "display_data"
    },
    {
     "data": {
      "image/png": "[encoded data removed]",
      "text/plain": [
       "<Figure size 500x500 with 1 Axes>"
      ]
     },
     "metadata": {},
     "output_type": "display_data"
    },
    {
     "data": {
      "image/png": "[encoded data removed]",
      "text/plain": [
       "<Figure size 500x500 with 1 Axes>"
      ]
     },
     "metadata": {},
     "output_type": "display_data"
    },
    {
     "data": {
      "image/png": "[encoded data removed]",
      "text/plain": [
       "<Figure size 500x500 with 1 Axes>"
      ]
     },
     "metadata": {},
     "output_type": "display_data"
    },
    {
     "data": {
      "image/png": "[encoded data removed]",
      "text/plain": [
       "<Figure size 500x500 with 1 Axes>"
      ]
     },
     "metadata": {},
     "output_type": "display_data"
    },
    {
     "data": {
      "image/png": "[encoded data removed]",
      "text/plain": [
       "<Figure size 500x500 with 1 Axes>"
      ]
     },
     "metadata": {},
     "output_type": "display_data"
    },
    {
     "data": {
      "image/png": "[encoded data removed]",
      "text/plain": [
       "<Figure size 500x500 with 1 Axes>"
      ]
     },
     "metadata": {},
     "output_type": "display_data"
    },
    {
     "data": {
      "image/png": "[encoded data removed]",
      "text/plain": [
       "<Figure size 500x500 with 1 Axes>"
      ]
     },
     "metadata": {},
     "output_type": "display_data"
    }
   ],
   "source": [
    "for column in train_df_X.columns:\n",
    "    sns.displot(train_df_X[column], kde=False, color='red', bins=len(train_df_X[column].unique()))"
   ]
  },
  {
   "cell_type": "markdown",
   "id": "672e655f-a63d-40cb-8da0-c9826bf92c09",
   "metadata": {},
   "source": [
    "We can see how only age feature is representing a normal distribution which is a perfect distribution to apply data standardization. There are some features that represent label encoders so it difficultly can be shaped as normal distribution. Anyways this features must keep the label encoding so we should not apply standardization to this features."
   ]
  },
  {
   "cell_type": "code",
   "execution_count": 32,
   "id": "cf7be87d-77fb-4e62-a893-b765f77e41c0",
   "metadata": {},
   "outputs": [],
   "source": [
    "to_scale_features = ['Age', 'Fare', 'Cabin', 'Ticket']"
   ]
  },
  {
   "cell_type": "code",
   "execution_count": 33,
   "id": "fcef56ff-58c9-457e-8a19-12a93087f516",
   "metadata": {},
   "outputs": [],
   "source": [
    "scaler = StandardScaler()"
   ]
  },
  {
   "cell_type": "code",
   "execution_count": 34,
   "id": "2fec5d88-4d82-4786-a287-1d8edd39bd00",
   "metadata": {},
   "outputs": [],
   "source": [
    "train_df_X[to_scale_features] = scaler.fit_transform(train_df_X[to_scale_features])\n",
    "test_df_X[to_scale_features] = scaler.fit_transform(test_df_X[to_scale_features])"
   ]
  },
  {
   "cell_type": "markdown",
   "id": "d8260352-83f7-47e7-8f42-5bceb4ac580e",
   "metadata": {},
   "source": [
    "Now we will reply the sequence of algorithms but with standardized data and check if there is any improvement."
   ]
  },
  {
   "cell_type": "markdown",
   "id": "e2b3690e-8c87-49b1-872c-e2afded4368c",
   "metadata": {},
   "source": [
    "## KNN"
   ]
  },
  {
   "cell_type": "code",
   "execution_count": 35,
   "id": "ada68c22-bbe7-4028-bda0-42aac7268d20",
   "metadata": {},
   "outputs": [
    {
     "data": {
      "text/plain": [
       "0.8754208754208754"
      ]
     },
     "execution_count": 35,
     "metadata": {},
     "output_type": "execute_result"
    }
   ],
   "source": [
    "knn = KNeighborsClassifier(n_neighbors=3)\n",
    "fit_X = knn.fit(train_df_X, train_df_Y)\n",
    "fit_X.score(train_df_X, train_df_Y)"
   ]
  },
  {
   "cell_type": "code",
   "execution_count": 36,
   "id": "629f2a6a-99da-4e64-a783-861158b44d27",
   "metadata": {},
   "outputs": [],
   "source": [
    "knn_scaled_pred = fit_X.predict(test_df_X)"
   ]
  },
  {
   "cell_type": "markdown",
   "id": "4e675ca1-df0a-492a-9696-df2e74d6d76e",
   "metadata": {},
   "source": [
    "It improved from 83% accuracy to 88% accuracy on training data"
   ]
  },
  {
   "cell_type": "markdown",
   "id": "a5e6733d-f220-4c81-8602-2fbf150a53e0",
   "metadata": {},
   "source": [
    "## SVM Classifier\n",
    "Standardization also helps in algorithms such as PCA where data distribution is a core concept. We will then apply PCA to the scaled dataset and plot the result, just to see the difference with the unscaled data plot."
   ]
  },
  {
   "cell_type": "code",
   "execution_count": 37,
   "id": "b5407f27-8448-4010-8480-73a45334c269",
   "metadata": {},
   "outputs": [
    {
     "data": {
      "text/plain": [
       "<matplotlib.collections.PathCollection at 0x7f0b6f830610>"
      ]
     },
     "execution_count": 37,
     "metadata": {},
     "output_type": "execute_result"
    },
    {
     "data": {
      "image/png": "[encoded data removed]",
      "text/plain": [
       "<Figure size 640x480 with 1 Axes>"
      ]
     },
     "metadata": {},
     "output_type": "display_data"
    }
   ],
   "source": [
    "pca = PCA(n_components=2)\n",
    "reduced_X = pd.DataFrame(pca.fit_transform(train_df_X), columns=[\"comp1\", \"comp2\"])\n",
    "\n",
    "colors = np.where(train_df_Y > 0, 'k', 'r')\n",
    "plt.scatter(reduced_X['comp1'], reduced_X['comp2'], s=20, c=colors)"
   ]
  },
  {
   "cell_type": "markdown",
   "id": "38389a7e-3098-465d-bf8a-0269c6f49a25",
   "metadata": {},
   "source": [
    "Now we can extract some information from the plot, the data is more densely distributed and we can see that most of the red dots accumulate at the left of the plot while the black dots are more centered"
   ]
  },
  {
   "cell_type": "code",
   "execution_count": 38,
   "id": "c8214d80-f62c-4667-90bc-4e7370c14f57",
   "metadata": {},
   "outputs": [
    {
     "data": {
      "text/plain": [
       "0.8338945005611672"
      ]
     },
     "execution_count": 38,
     "metadata": {},
     "output_type": "execute_result"
    }
   ],
   "source": [
    "svm = SVC()\n",
    "svm_fit = svm.fit(train_df_X, train_df_Y)\n",
    "svm_score = svm_fit.score(train_df_X, train_df_Y)\n",
    "svm_score"
   ]
  },
  {
   "cell_type": "code",
   "execution_count": 39,
   "id": "ce97a4af-81d4-4f52-8b0d-a7272b97e17f",
   "metadata": {},
   "outputs": [],
   "source": [
    "svm_scaled_pred = svm_fit.predict(test_df_X)"
   ]
  },
  {
   "cell_type": "markdown",
   "id": "459aa87c-885b-4437-854b-f15e3add9fce",
   "metadata": {},
   "source": [
    "Here the improvement is even better, we go from 67% acc to 82,7%"
   ]
  },
  {
   "cell_type": "markdown",
   "id": "22904947-9c14-4ea9-ae9f-77197b3cdda3",
   "metadata": {},
   "source": [
    "## SGD"
   ]
  },
  {
   "cell_type": "code",
   "execution_count": 40,
   "id": "c11ad0bc-59ba-491d-b61e-0f02960adb29",
   "metadata": {},
   "outputs": [
    {
     "data": {
      "text/plain": [
       "0.7755331088664422"
      ]
     },
     "execution_count": 40,
     "metadata": {},
     "output_type": "execute_result"
    }
   ],
   "source": [
    "sgd = SGDClassifier(loss='hinge', penalty='l2')\n",
    "sgd_fit = sgd.fit(train_df_X, train_df_Y)\n",
    "sgd_score = sgd.score(train_df_X, train_df_Y)\n",
    "sgd_score"
   ]
  },
  {
   "cell_type": "code",
   "execution_count": 41,
   "id": "7edc15ac-dbdd-424f-aa19-512adafecadb",
   "metadata": {},
   "outputs": [],
   "source": [
    "sgd_scale_pred = sgd.predict(test_df_X)"
   ]
  },
  {
   "cell_type": "markdown",
   "id": "54a1a572-cfca-412d-8e00-eb1034085d4d",
   "metadata": {},
   "source": [
    "## Decision tree"
   ]
  },
  {
   "cell_type": "code",
   "execution_count": 42,
   "id": "950d2938-36bd-4ef4-ba62-4b68a9771ae0",
   "metadata": {},
   "outputs": [
    {
     "data": {
      "text/plain": [
       "0.9988776655443322"
      ]
     },
     "execution_count": 42,
     "metadata": {},
     "output_type": "execute_result"
    }
   ],
   "source": [
    "dt = tree.DecisionTreeClassifier()\n",
    "dt_fit = dt.fit(train_df_X, train_df_Y)\n",
    "dt_score = dt.score(train_df_X, train_df_Y)\n",
    "dt_score"
   ]
  },
  {
   "cell_type": "code",
   "execution_count": 43,
   "id": "6c24c778-8c5f-458b-8d56-2ea2bcf6b3d8",
   "metadata": {},
   "outputs": [],
   "source": [
    "dt_scaled_pred = dt.predict(test_df_X)"
   ]
  },
  {
   "cell_type": "markdown",
   "id": "bdace4db-94ff-4779-8bd7-bcfea84326c0",
   "metadata": {},
   "source": [
    "## Random forest"
   ]
  },
  {
   "cell_type": "code",
   "execution_count": 44,
   "id": "c9d6810f-8fa3-461d-b2fa-908c88d4834d",
   "metadata": {},
   "outputs": [
    {
     "data": {
      "text/plain": [
       "0.9988776655443322"
      ]
     },
     "execution_count": 44,
     "metadata": {},
     "output_type": "execute_result"
    }
   ],
   "source": [
    "rf = RandomForestClassifier()\n",
    "rf_fit = rf.fit(train_df_X, train_df_Y)\n",
    "rf_score = rf.score(train_df_X, train_df_Y)\n",
    "rf_score"
   ]
  },
  {
   "cell_type": "code",
   "execution_count": 45,
   "id": "b06abf53-0460-4f9a-8b06-fbdbf045cb4c",
   "metadata": {},
   "outputs": [],
   "source": [
    "rf_scale_pred = rf.predict(test_df_X)"
   ]
  },
  {
   "cell_type": "markdown",
   "id": "c9922463-3737-493f-9b52-d4cfefbe920a",
   "metadata": {},
   "source": [
    "## Neural network"
   ]
  },
  {
   "cell_type": "code",
   "execution_count": 46,
   "id": "ca0e1d01-9f89-4026-ac95-995fd0a9fb18",
   "metadata": {},
   "outputs": [],
   "source": [
    "X_train = torch.tensor(train_df_X[:train_split].values)\n",
    "Y_train = torch.tensor(train_df_Y[:train_split].values).float()\n",
    "X_dev = torch.tensor(train_df_X[dev_split:].values)\n",
    "Y_dev = torch.tensor(train_df_Y[dev_split:].values).float()\n",
    "\n",
    "X_test = torch.tensor(test_df_X.values) "
   ]
  },
  {
   "cell_type": "code",
   "execution_count": 47,
   "id": "169e094b-6692-4e2f-82fc-a2c46dc26ad7",
   "metadata": {},
   "outputs": [
    {
     "name": "stdout",
     "output_type": "stream",
     "text": [
      "SimpleNet(\n",
      "  (net): Sequential(\n",
      "    (0): Linear(in_features=9, out_features=128, bias=True)\n",
      "    (1): ReLU()\n",
      "    (2): Linear(in_features=128, out_features=64, bias=True)\n",
      "    (3): ReLU()\n",
      "    (4): Linear(in_features=64, out_features=32, bias=True)\n",
      "    (5): ReLU()\n",
      "    (6): Linear(in_features=32, out_features=1, bias=True)\n",
      "    (7): Sigmoid()\n",
      "  )\n",
      ")\n",
      "epoch 0 ======================================================================\n",
      "Train acumulated loss: 421.2560770511627 -- Train average loss: 0.6761734784127813\n",
      "Test loss: 0.673039836542947 -- Test accuracy: 0.6003210272873194\n",
      "epoch 20 ======================================================================\n",
      "Train acumulated loss: 344.0744599699974 -- Train average loss: 0.5522864526003168\n",
      "Test loss: 0.5261294512888401 -- Test accuracy: 0.7656500802568218\n",
      "epoch 40 ======================================================================\n",
      "Train acumulated loss: 275.7981560297776 -- Train average loss: 0.4426936693896912\n",
      "Test loss: 0.421666265184278 -- Test accuracy: 0.8057784911717496\n",
      "epoch 60 ======================================================================\n",
      "Train acumulated loss: 261.8145830563735 -- Train average loss: 0.4202481268962657\n",
      "Test loss: 0.40195503762518064 -- Test accuracy: 0.8186195826645265\n",
      "epoch 80 ======================================================================\n",
      "Train acumulated loss: 252.63376364743453 -- Train average loss: 0.40551165914515974\n",
      "Test loss: 0.3900522375012184 -- Test accuracy: 0.8346709470304976\n",
      "epoch 100 ======================================================================\n",
      "Train acumulated loss: 244.7885486659652 -- Train average loss: 0.3929190187254658\n",
      "Test loss: 0.3815024924082577 -- Test accuracy: 0.8346709470304976\n",
      "epoch 120 ======================================================================\n",
      "Train acumulated loss: 237.83795775963517 -- Train average loss: 0.38176237200583496\n",
      "Test loss: 0.3755450793693326 -- Test accuracy: 0.8426966292134831\n",
      "epoch 140 ======================================================================\n",
      "Train acumulated loss: 230.7683319986827 -- Train average loss: 0.37041465810382457\n",
      "Test loss: 0.3712470543750765 -- Test accuracy: 0.8523274478330658\n",
      "epoch 160 ======================================================================\n",
      "Train acumulated loss: 223.47903149767444 -- Train average loss: 0.3587143362723506\n",
      "Test loss: 0.3682497012056429 -- Test accuracy: 0.8507223113964687\n",
      "epoch 180 ======================================================================\n",
      "Train acumulated loss: 216.3061361018008 -- Train average loss: 0.3472008605165342\n",
      "Test loss: 0.3668408111451335 -- Test accuracy: 0.8475120385232745\n",
      "epoch 200 ======================================================================\n",
      "Train acumulated loss: 209.82702583482387 -- Train average loss: 0.33680100455027906\n",
      "Test loss: 0.36607975879033156 -- Test accuracy: 0.8507223113964687\n",
      "epoch 220 ======================================================================\n",
      "Train acumulated loss: 203.94850944923246 -- Train average loss: 0.32736518370663314\n",
      "Test loss: 0.36742624638118493 -- Test accuracy: 0.8539325842696629\n",
      "epoch 240 ======================================================================\n",
      "Train acumulated loss: 198.03162497651306 -- Train average loss: 0.31786777684833556\n",
      "Test loss: 0.37066129356649136 -- Test accuracy: 0.8491171749598716\n",
      "epoch 260 ======================================================================\n",
      "Train acumulated loss: 191.95279744375273 -- Train average loss: 0.30811042928371224\n",
      "Test loss: 0.3725584140288688 -- Test accuracy: 0.8539325842696629\n",
      "epoch 280 ======================================================================\n",
      "Train acumulated loss: 186.99459218776684 -- Train average loss: 0.30015183336720197\n",
      "Test loss: 0.3781712111147829 -- Test accuracy: 0.85553772070626\n",
      "epoch 300 ======================================================================\n",
      "Train acumulated loss: 182.93027713761427 -- Train average loss: 0.2936280531903921\n",
      "Test loss: 0.3843927114647941 -- Test accuracy: 0.8587479935794543\n",
      "epoch 320 ======================================================================\n",
      "Train acumulated loss: 178.23565382024793 -- Train average loss: 0.28609254224758895\n",
      "Test loss: 0.39198704287250247 -- Test accuracy: 0.8539325842696629\n",
      "epoch 340 ======================================================================\n",
      "Train acumulated loss: 175.20756385838033 -- Train average loss: 0.2812320447165013\n",
      "Test loss: 0.4002345229411451 -- Test accuracy: 0.8587479935794543\n",
      "epoch 360 ======================================================================\n",
      "Train acumulated loss: 171.70503093205772 -- Train average loss: 0.27561000149607984\n",
      "Test loss: 0.4083288551548642 -- Test accuracy: 0.8619582664526485\n",
      "epoch 380 ======================================================================\n",
      "Train acumulated loss: 168.34824800587143 -- Train average loss: 0.2702219069115111\n",
      "Test loss: 0.4200804591304686 -- Test accuracy: 0.85553772070626\n",
      "epoch 400 ======================================================================\n",
      "Train acumulated loss: 166.00872672655365 -- Train average loss: 0.26646665606188386\n",
      "Test loss: 0.4332817726228235 -- Test accuracy: 0.8571428571428571\n",
      "epoch 420 ======================================================================\n",
      "Train acumulated loss: 163.05496028890107 -- Train average loss: 0.26172545792761004\n",
      "Test loss: 0.44408477885275605 -- Test accuracy: 0.85553772070626\n",
      "epoch 440 ======================================================================\n",
      "Train acumulated loss: 160.129599405697 -- Train average loss: 0.2570298545837833\n",
      "Test loss: 0.45845163322713234 -- Test accuracy: 0.8571428571428571\n",
      "epoch 460 ======================================================================\n",
      "Train acumulated loss: 158.7063623889632 -- Train average loss: 0.25474536499031014\n",
      "Test loss: 0.46869894642533816 -- Test accuracy: 0.8539325842696629\n",
      "epoch 480 ======================================================================\n",
      "Train acumulated loss: 155.79862458231855 -- Train average loss: 0.25007804908879383\n",
      "Test loss: 0.48351335372525295 -- Test accuracy: 0.85553772070626\n",
      "epoch 500 ======================================================================\n",
      "Train acumulated loss: 152.5445354888568 -- Train average loss: 0.2448547921169451\n",
      "Test loss: 0.48733480245853267 -- Test accuracy: 0.85553772070626\n",
      "epoch 520 ======================================================================\n",
      "Train acumulated loss: 150.95419216667145 -- Train average loss: 0.2423020741038065\n",
      "Test loss: 0.4980043062600772 -- Test accuracy: 0.85553772070626\n",
      "epoch 540 ======================================================================\n",
      "Train acumulated loss: 148.5922015719494 -- Train average loss: 0.23851075693731846\n",
      "Test loss: 0.5082702069940669 -- Test accuracy: 0.85553772070626\n",
      "epoch 560 ======================================================================\n",
      "Train acumulated loss: 146.96603807329677 -- Train average loss: 0.2359005426537669\n",
      "Test loss: 0.5199386841203028 -- Test accuracy: 0.8571428571428571\n",
      "epoch 580 ======================================================================\n",
      "Train acumulated loss: 145.93693305930412 -- Train average loss: 0.2342486886987225\n",
      "Test loss: 0.5348296209328517 -- Test accuracy: 0.8539325842696629\n",
      "epoch 600 ======================================================================\n",
      "Train acumulated loss: 143.12063645087065 -- Train average loss: 0.22972814839626107\n",
      "Test loss: 0.5437038711347858 -- Test accuracy: 0.8523274478330658\n",
      "epoch 620 ======================================================================\n",
      "Train acumulated loss: 142.75928968363667 -- Train average loss: 0.22914813753392724\n",
      "Test loss: 0.6843263707584346 -- Test accuracy: 0.8539325842696629\n",
      "epoch 640 ======================================================================\n",
      "Train acumulated loss: 140.9457067715727 -- Train average loss: 0.22623708952098348\n",
      "Test loss: 0.8265625892530457 -- Test accuracy: 0.8587479935794543\n",
      "epoch 660 ======================================================================\n",
      "Train acumulated loss: 138.34421482220577 -- Train average loss: 0.22206134000354055\n",
      "Test loss: 0.8281418067588909 -- Test accuracy: 0.8619582664526485\n",
      "epoch 680 ======================================================================\n",
      "Train acumulated loss: 137.11033101930417 -- Train average loss: 0.2200807881529762\n",
      "Test loss: 0.8383915136013984 -- Test accuracy: 0.8619582664526485\n",
      "epoch 700 ======================================================================\n",
      "Train acumulated loss: 136.5334397523257 -- Train average loss: 0.2191547989603944\n",
      "Test loss: 0.8539301218592976 -- Test accuracy: 0.8619582664526485\n",
      "epoch 720 ======================================================================\n",
      "Train acumulated loss: 134.16155548408184 -- Train average loss: 0.21534760109804468\n",
      "Test loss: 0.8554161826096373 -- Test accuracy: 0.8603531300160514\n",
      "epoch 740 ======================================================================\n",
      "Train acumulated loss: 130.8778377064657 -- Train average loss: 0.21007678604569133\n",
      "Test loss: 0.8615696306177231 -- Test accuracy: 0.8603531300160514\n",
      "epoch 760 ======================================================================\n",
      "Train acumulated loss: 130.0571121263891 -- Train average loss: 0.20875940951266306\n",
      "Test loss: 0.8646864032971815 -- Test accuracy: 0.8619582664526485\n",
      "epoch 780 ======================================================================\n",
      "Train acumulated loss: 130.19888183276322 -- Train average loss: 0.20898696923396987\n",
      "Test loss: 0.8693096102304505 -- Test accuracy: 0.8651685393258427\n",
      "epoch 800 ======================================================================\n",
      "Train acumulated loss: 127.86026368140907 -- Train average loss: 0.20523316802794392\n",
      "Test loss: 0.8714695832522181 -- Test accuracy: 0.8651685393258427\n",
      "epoch 820 ======================================================================\n",
      "Train acumulated loss: 126.45380504218014 -- Train average loss: 0.20297561001955078\n",
      "Test loss: 0.8744732674750493 -- Test accuracy: 0.869983948635634\n",
      "epoch 840 ======================================================================\n",
      "Train acumulated loss: 124.17526171735383 -- Train average loss: 0.19931823710650695\n",
      "Test loss: 1.0134396051906887 -- Test accuracy: 0.8651685393258427\n",
      "epoch 860 ======================================================================\n",
      "Train acumulated loss: 122.19366234489712 -- Train average loss: 0.19613749975103872\n",
      "Test loss: 1.0167941687264694 -- Test accuracy: 0.8651685393258427\n",
      "epoch 880 ======================================================================\n",
      "Train acumulated loss: 122.0007632346736 -- Train average loss: 0.1958278703606318\n",
      "Test loss: 1.020591605579109 -- Test accuracy: 0.8667736757624398\n",
      "epoch 900 ======================================================================\n",
      "Train acumulated loss: 120.56400737842716 -- Train average loss: 0.19352168118527635\n",
      "Test loss: 1.0176000537078727 -- Test accuracy: 0.8651685393258427\n",
      "epoch 920 ======================================================================\n",
      "Train acumulated loss: 119.72872117230676 -- Train average loss: 0.19218093286084553\n",
      "Test loss: 1.021757717087221 -- Test accuracy: 0.8667736757624398\n",
      "epoch 940 ======================================================================\n",
      "Train acumulated loss: 117.50506243544811 -- Train average loss: 0.1886116571997562\n",
      "Test loss: 1.0200127682951539 -- Test accuracy: 0.8667736757624398\n",
      "epoch 960 ======================================================================\n",
      "Train acumulated loss: 115.63063835700746 -- Train average loss: 0.18560295081381614\n",
      "Test loss: 1.0277295954389782 -- Test accuracy: 0.8667736757624398\n",
      "epoch 980 ======================================================================\n",
      "Train acumulated loss: 114.46939019817282 -- Train average loss: 0.18373898908213934\n",
      "Test loss: 1.0296718231617288 -- Test accuracy: 0.8667736757624398\n"
     ]
    }
   ],
   "source": [
    "model = SimpleNet().to(device)\n",
    "print(model)\n",
    "\n",
    "loss_fn = nn.BCELoss()\n",
    "optimizer = SGD(model.parameters(), lr=0.001)\n",
    "\n",
    "for i in range(1000):\n",
    "    \n",
    "    loss_acum, avg_loss = train(X_train, Y_train, model, optimizer, loss_fn)\n",
    "    test_loss, acc = test(X_dev, Y_dev, model, loss_fn)\n",
    "    if i % 20 == 0:\n",
    "        print(f\"epoch {i} \" + \"=\"*70)    \n",
    "        print(f\"Train acumulated loss: {loss_acum} -- Train average loss: {avg_loss}\")\n",
    "        print(f\"Test loss: {test_loss} -- Test accuracy: {acc}\")"
   ]
  },
  {
   "cell_type": "code",
   "execution_count": 48,
   "id": "ebfc688b-d58b-4e2d-b24f-35eb0ffd3daa",
   "metadata": {},
   "outputs": [],
   "source": [
    "def predict_dataset(X, model):\n",
    "    size = X.shape[0]\n",
    "    pred_tensor = torch.zeros(size)\n",
    "    \n",
    "    for i, row in enumerate(X):\n",
    "        pred = model(row.float())\n",
    "        int_pred = 0 if pred < .5 else 1\n",
    "        pred_tensor[i] = int(int_pred)\n",
    "\n",
    "    return pred_tensor.int()"
   ]
  },
  {
   "cell_type": "code",
   "execution_count": 49,
   "id": "c37109fe-886c-4c7d-bf77-540893d043d6",
   "metadata": {},
   "outputs": [
    {
     "data": {
      "text/plain": [
       "tensor([0, 0, 0, 0, 0, 0, 0, 0, 0, 0, 0, 0, 1, 0, 1, 1, 0, 0, 0, 0, 0, 1, 1, 0,\n",
       "        1, 0, 1, 0, 0, 0, 0, 0, 0, 0, 1, 0, 0, 0, 0, 1, 0, 1, 0, 1, 1, 0, 0, 0,\n",
       "        1, 0, 0, 0, 1, 1, 1, 0, 0, 0, 0, 1, 0, 0, 0, 1, 0, 1, 1, 0, 0, 1, 1, 0,\n",
       "        0, 0, 0, 0, 0, 1, 0, 0, 1, 0, 0, 0, 0, 0, 0, 0, 1, 1, 0, 0, 1, 0, 1, 0,\n",
       "        1, 0, 0, 0, 1, 0, 0, 0, 0, 0, 0, 0, 0, 0, 0, 0, 1, 1, 1, 1, 0, 1, 0, 1,\n",
       "        1, 0, 1, 0, 0, 0, 0, 1, 0, 0, 0, 0, 0, 0, 0, 0, 0, 0, 1, 0, 0, 1, 0, 0,\n",
       "        1, 0, 0, 0, 1, 0, 1, 0, 0, 0, 0, 0, 1, 1, 1, 1, 1, 1, 1, 0, 0, 0, 0, 0,\n",
       "        1, 0, 0, 0, 0, 0, 0, 1, 1, 0, 1, 0, 0, 0, 1, 0, 1, 0, 1, 0, 0, 0, 0, 1,\n",
       "        1, 0, 1, 0, 1, 0, 0, 0, 1, 1, 0, 1, 0, 0, 0, 0, 1, 0, 0, 0, 0, 0, 0, 0,\n",
       "        0, 0, 1, 0, 0, 0, 1, 0, 1, 0, 0, 1, 0, 0, 0, 1, 0, 0, 0, 0, 0, 0, 1, 1,\n",
       "        1, 1, 0, 0, 0, 1, 1, 0, 1, 0, 1, 0, 0, 0, 0, 0, 0, 0, 0, 0, 0, 0, 1, 1,\n",
       "        0, 0, 1, 0, 0, 0, 0, 0, 1, 1, 0, 1, 0, 0, 0, 0, 0, 1, 1, 0, 1, 0, 0, 1,\n",
       "        0, 0, 0, 1, 0, 1, 0, 0, 1, 0, 0, 0, 0, 0, 0, 0, 1, 1, 0, 1, 1, 0, 0, 0,\n",
       "        0, 0, 1, 1, 0, 0, 0, 0, 0, 0, 0, 1, 0, 0, 1, 0, 0, 0, 0, 0, 0, 0, 0, 0,\n",
       "        0, 0, 0, 0, 0, 0, 0, 1, 0, 0, 0, 0, 0, 1, 0, 0, 0, 0, 1, 0, 1, 0, 0, 0,\n",
       "        0, 1, 1, 0, 1, 0, 0, 1, 1, 1, 0, 1, 0, 0, 1, 1, 0, 0, 0, 0, 0, 0, 0, 0,\n",
       "        0, 1, 0, 0, 0, 0, 0, 1, 1, 0, 0, 1, 0, 1, 0, 0, 1, 0, 1, 0, 0, 1, 0, 0,\n",
       "        1, 1, 1, 1, 0, 0, 1, 0, 0, 1], dtype=torch.int32)"
      ]
     },
     "execution_count": 49,
     "metadata": {},
     "output_type": "execute_result"
    }
   ],
   "source": [
    "nn_scaled_pred = predict_dataset(X_test, model)"
   ]
  },
  {
   "cell_type": "code",
   "execution_count": 50,
   "id": "f84785d2-1ff5-4b21-9e8b-412ae6d63d6b",
   "metadata": {},
   "outputs": [
    {
     "data": {
      "text/plain": [
       "(418, 11)"
      ]
     },
     "execution_count": 50,
     "metadata": {},
     "output_type": "execute_result"
    }
   ],
   "source": [
    "test_df.shape"
   ]
  },
  {
   "cell_type": "code",
   "execution_count": 51,
   "id": "24cc4554-b384-415e-a1a4-56d6952d5e6f",
   "metadata": {},
   "outputs": [
    {
     "data": {
      "text/plain": [
       "(892, 1310)"
      ]
     },
     "execution_count": 51,
     "metadata": {},
     "output_type": "execute_result"
    }
   ],
   "source": [
    "preds = [knn_scaled_pred, svm_scaled_pred, dt_scaled_pred, rf_scale_pred, sgd_scale_pred, nn_scaled_pred]\n",
    "\n",
    "initial_pass_id = 892\n",
    "final_pass_id = initial_pass_id + test_df.shape[0]\n",
    "\n",
    "(initial_pass_id, final_pass_id)"
   ]
  },
  {
   "cell_type": "code",
   "execution_count": 52,
   "id": "2ac964ca-eee8-4f0b-886c-72fa5e020d84",
   "metadata": {},
   "outputs": [],
   "source": [
    "pass_id_tensor = torch.arange(initial_pass_id, final_pass_id, 1).reshape(-1, 1)"
   ]
  },
  {
   "cell_type": "code",
   "execution_count": 53,
   "id": "e917f895-2f6d-432a-939f-f442050b00e9",
   "metadata": {},
   "outputs": [
    {
     "name": "stderr",
     "output_type": "stream",
     "text": [
      "/tmp/ipykernel_16183/2305555702.py:3: UserWarning: To copy construct from a tensor, it is recommended to use sourceTensor.clone().detach() or sourceTensor.clone().detach().requires_grad_(True), rather than torch.tensor(sourceTensor).\n",
      "  pred = torch.tensor(pred.reshape(-1, 1), dtype=torch.int)\n"
     ]
    }
   ],
   "source": [
    "solutions_df = []\n",
    "for pred in preds:\n",
    "    pred = torch.tensor(pred.reshape(-1, 1), dtype=torch.int)\n",
    "    submission_tensor = torch.cat((pass_id_tensor, pred), 1)\n",
    "    solutions_df.append(pd.DataFrame(submission_tensor, columns=['PassengerId', 'Survived']))"
   ]
  },
  {
   "cell_type": "code",
   "execution_count": 54,
   "id": "4b3b1d76-a4bc-43a6-92cd-e86fc6f777ef",
   "metadata": {},
   "outputs": [],
   "source": [
    "solutions_name = ['knn', 'svm', 'decision_tree', 'random_forest', 'sgd', 'neuralnet']\n",
    "\n",
    "for i, sol in enumerate(solutions_df):\n",
    "    sol.to_csv(f\"solution_{solutions_name[i]}.csv\", header=True, index=False)"
   ]
  },
  {
   "cell_type": "markdown",
   "id": "2d9aa19f-57f6-4fee-9fbe-9fd0ad721089",
   "metadata": {},
   "source": [
    "# Kaggle Results\n",
    "Here we show the results obtained in the titanic kaggle competition for each model (standardized)"
   ]
  },
  {
   "cell_type": "markdown",
   "id": "db285381-a1fc-4896-959b-f26889d5dbdd",
   "metadata": {},
   "source": [
    "|Model|Score|\n",
    "|:----:|:----:|\n",
    "|KNN|0.732|\n",
    "|SVM|0.775|\n",
    "|SGD|0.717|\n",
    "|Random Forest|0.779|\n",
    "|Decision Tree|0.708|\n",
    "|Neural Net|0.754|"
   ]
  },
  {
   "cell_type": "code",
   "execution_count": null,
   "id": "29e7f127-a37e-4948-9cc6-e786a8eaefb4",
   "metadata": {},
   "outputs": [],
   "source": []
  }
 ],
 "metadata": {
  "kernelspec": {
   "display_name": "datascience",
   "language": "python",
   "name": "datascience"
  },
  "language_info": {
   "codemirror_mode": {
    "name": "ipython",
    "version": 3
   },
   "file_extension": ".py",
   "mimetype": "text/x-python",
   "name": "python",
   "nbconvert_exporter": "python",
   "pygments_lexer": "ipython3",
   "version": "3.10.12"
  }
 },
 "nbformat": 4,
 "nbformat_minor": 5
}
