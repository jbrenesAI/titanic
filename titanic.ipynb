{
 "cells": [
  {
   "cell_type": "code",
   "execution_count": 1,
   "id": "c0b8e087-cdc1-4fdd-8bbd-2679b07e9d60",
   "metadata": {},
   "outputs": [],
   "source": [
    "import pandas as pd\n",
    "import matplotlib.pyplot as plt\n",
    "import seaborn as sns\n",
    "from sklearn.preprocessing import LabelEncoder, StandardScaler\n",
    "from sklearn.neighbors import KNeighborsClassifier\n",
    "from sklearn.svm import SVC\n",
    "from sklearn.decomposition import PCA\n",
    "from sklearn.linear_model import SGDClassifier\n",
    "from sklearn import tree\n",
    "from sklearn.ensemble import RandomForestClassifier\n",
    "import numpy as np\n",
    "from sklearn.neural_network import MLPClassifier\n",
    "import torch\n",
    "from torch import nn\n",
    "from torch.optim import SGD\n",
    "from torch.utils.data import DataLoader"
   ]
  },
  {
   "cell_type": "code",
   "execution_count": 2,
   "id": "1432e140-8797-4319-a77a-4822c1a0d66e",
   "metadata": {},
   "outputs": [],
   "source": [
    "train_df = pd.read_csv('train.csv')\n",
    "test_df = pd.read_csv('test.csv')"
   ]
  },
  {
   "cell_type": "code",
   "execution_count": 3,
   "id": "cd6d3c44-0f59-40f7-ba29-0b217b8d3804",
   "metadata": {},
   "outputs": [],
   "source": [
    "survivors_count = train_df[train_df['Survived'] == 1]['Survived'].count()\n",
    "victims_count = train_df[train_df['Survived'] == 0]['Survived'].count()"
   ]
  },
  {
   "cell_type": "code",
   "execution_count": 4,
   "id": "28ab43ba-f30f-4079-b2e6-0aba25039b21",
   "metadata": {},
   "outputs": [
    {
     "data": {
      "text/plain": [
       "<seaborn.axisgrid.FacetGrid at 0x7f485ed3ea40>"
      ]
     },
     "execution_count": 4,
     "metadata": {},
     "output_type": "execute_result"
    },
    {
     "data": {
      "image/png": "[encoded data removed]",
      "text/plain": [
       "<Figure size 500x500 with 1 Axes>"
      ]
     },
     "metadata": {},
     "output_type": "display_data"
    }
   ],
   "source": [
    "sns.catplot(train_df, x='Survived', kind='count')"
   ]
  },
  {
   "cell_type": "code",
   "execution_count": 5,
   "id": "57395431-4e16-47db-8fa3-43e429ad19e9",
   "metadata": {},
   "outputs": [
    {
     "data": {
      "text/html": [
       "<div>\n",
       "<style scoped>\n",
       "    .dataframe tbody tr th:only-of-type {\n",
       "        vertical-align: middle;\n",
       "    }\n",
       "\n",
       "    .dataframe tbody tr th {\n",
       "        vertical-align: top;\n",
       "    }\n",
       "\n",
       "    .dataframe thead th {\n",
       "        text-align: right;\n",
       "    }\n",
       "</style>\n",
       "<table border=\"1\" class=\"dataframe\">\n",
       "  <thead>\n",
       "    <tr style=\"text-align: right;\">\n",
       "      <th></th>\n",
       "      <th>PassengerId</th>\n",
       "      <th>Survived</th>\n",
       "      <th>Pclass</th>\n",
       "      <th>Name</th>\n",
       "      <th>Sex</th>\n",
       "      <th>Age</th>\n",
       "      <th>SibSp</th>\n",
       "      <th>Parch</th>\n",
       "      <th>Ticket</th>\n",
       "      <th>Fare</th>\n",
       "      <th>Cabin</th>\n",
       "      <th>Embarked</th>\n",
       "    </tr>\n",
       "  </thead>\n",
       "  <tbody>\n",
       "    <tr>\n",
       "      <th>0</th>\n",
       "      <td>1</td>\n",
       "      <td>0</td>\n",
       "      <td>3</td>\n",
       "      <td>Braund, Mr. Owen Harris</td>\n",
       "      <td>male</td>\n",
       "      <td>22.0</td>\n",
       "      <td>1</td>\n",
       "      <td>0</td>\n",
       "      <td>A/5 21171</td>\n",
       "      <td>7.2500</td>\n",
       "      <td>NaN</td>\n",
       "      <td>S</td>\n",
       "    </tr>\n",
       "    <tr>\n",
       "      <th>1</th>\n",
       "      <td>2</td>\n",
       "      <td>1</td>\n",
       "      <td>1</td>\n",
       "      <td>Cumings, Mrs. John Bradley (Florence Briggs Th...</td>\n",
       "      <td>female</td>\n",
       "      <td>38.0</td>\n",
       "      <td>1</td>\n",
       "      <td>0</td>\n",
       "      <td>PC 17599</td>\n",
       "      <td>71.2833</td>\n",
       "      <td>C85</td>\n",
       "      <td>C</td>\n",
       "    </tr>\n",
       "    <tr>\n",
       "      <th>2</th>\n",
       "      <td>3</td>\n",
       "      <td>1</td>\n",
       "      <td>3</td>\n",
       "      <td>Heikkinen, Miss. Laina</td>\n",
       "      <td>female</td>\n",
       "      <td>26.0</td>\n",
       "      <td>0</td>\n",
       "      <td>0</td>\n",
       "      <td>STON/O2. 3101282</td>\n",
       "      <td>7.9250</td>\n",
       "      <td>NaN</td>\n",
       "      <td>S</td>\n",
       "    </tr>\n",
       "    <tr>\n",
       "      <th>3</th>\n",
       "      <td>4</td>\n",
       "      <td>1</td>\n",
       "      <td>1</td>\n",
       "      <td>Futrelle, Mrs. Jacques Heath (Lily May Peel)</td>\n",
       "      <td>female</td>\n",
       "      <td>35.0</td>\n",
       "      <td>1</td>\n",
       "      <td>0</td>\n",
       "      <td>113803</td>\n",
       "      <td>53.1000</td>\n",
       "      <td>C123</td>\n",
       "      <td>S</td>\n",
       "    </tr>\n",
       "    <tr>\n",
       "      <th>4</th>\n",
       "      <td>5</td>\n",
       "      <td>0</td>\n",
       "      <td>3</td>\n",
       "      <td>Allen, Mr. William Henry</td>\n",
       "      <td>male</td>\n",
       "      <td>35.0</td>\n",
       "      <td>0</td>\n",
       "      <td>0</td>\n",
       "      <td>373450</td>\n",
       "      <td>8.0500</td>\n",
       "      <td>NaN</td>\n",
       "      <td>S</td>\n",
       "    </tr>\n",
       "  </tbody>\n",
       "</table>\n",
       "</div>"
      ],
      "text/plain": [
       "   PassengerId  Survived  Pclass  \\\n",
       "0            1         0       3   \n",
       "1            2         1       1   \n",
       "2            3         1       3   \n",
       "3            4         1       1   \n",
       "4            5         0       3   \n",
       "\n",
       "                                                Name     Sex   Age  SibSp  \\\n",
       "0                            Braund, Mr. Owen Harris    male  22.0      1   \n",
       "1  Cumings, Mrs. John Bradley (Florence Briggs Th...  female  38.0      1   \n",
       "2                             Heikkinen, Miss. Laina  female  26.0      0   \n",
       "3       Futrelle, Mrs. Jacques Heath (Lily May Peel)  female  35.0      1   \n",
       "4                           Allen, Mr. William Henry    male  35.0      0   \n",
       "\n",
       "   Parch            Ticket     Fare Cabin Embarked  \n",
       "0      0         A/5 21171   7.2500   NaN        S  \n",
       "1      0          PC 17599  71.2833   C85        C  \n",
       "2      0  STON/O2. 3101282   7.9250   NaN        S  \n",
       "3      0            113803  53.1000  C123        S  \n",
       "4      0            373450   8.0500   NaN        S  "
      ]
     },
     "execution_count": 5,
     "metadata": {},
     "output_type": "execute_result"
    }
   ],
   "source": [
    "train_df.head()"
   ]
  },
  {
   "cell_type": "code",
   "execution_count": 6,
   "id": "4cb62195-43ac-4331-adca-5a220c9b06a1",
   "metadata": {},
   "outputs": [],
   "source": [
    "label_encoder = LabelEncoder()"
   ]
  },
  {
   "cell_type": "code",
   "execution_count": 7,
   "id": "d559f633-9547-47ff-995c-3e7accc37650",
   "metadata": {},
   "outputs": [],
   "source": [
    "train_df['Sex'] = label_encoder.fit_transform(train_df['Sex']) \n",
    "train_df['Ticket'] = label_encoder.fit_transform(train_df['Ticket']) \n",
    "train_df['Cabin'] = label_encoder.fit_transform(train_df['Cabin']) \n",
    "train_df['Embarked'] = label_encoder.fit_transform(train_df['Embarked']) \n",
    "\n",
    "test_df['Sex'] = label_encoder.fit_transform(test_df['Sex']) \n",
    "test_df['Ticket'] = label_encoder.fit_transform(test_df['Ticket']) \n",
    "test_df['Cabin'] = label_encoder.fit_transform(test_df['Cabin']) \n",
    "test_df['Embarked'] = label_encoder.fit_transform(test_df['Embarked']) "
   ]
  },
  {
   "cell_type": "code",
   "execution_count": 8,
   "id": "9befbaf8-f316-4681-837b-a87d1b1e5a11",
   "metadata": {},
   "outputs": [],
   "source": [
    "train_df = train_df.dropna()\n",
    "test_df = test_df.dropna()"
   ]
  },
  {
   "cell_type": "markdown",
   "id": "ce29c30f-827f-45d0-9160-eed64ef69643",
   "metadata": {},
   "source": [
    "# Raw data classification\n",
    "First I will run all the classifiers with the raw data to further prove that scaling and preprocessing the data we can obtain better results"
   ]
  },
  {
   "cell_type": "markdown",
   "id": "c532e303-dca5-428a-be5b-7079868cf5fa",
   "metadata": {},
   "source": [
    "## KNN Classifier"
   ]
  },
  {
   "cell_type": "code",
   "execution_count": 9,
   "id": "30fcffd7-a7a3-4340-a5b7-07d9339c7596",
   "metadata": {},
   "outputs": [],
   "source": [
    "train_df_Y = train_df['Survived']\n",
    "train_df_X = train_df[['Pclass', 'Sex', 'Age', 'SibSp', 'Parch', 'Ticket', 'Fare', 'Cabin', 'Embarked']]\n",
    "\n",
    "\n",
    "test_df_X = test_df[['Pclass', 'Sex', 'Age', 'SibSp', 'Parch', 'Ticket', 'Fare', 'Cabin', 'Embarked']]"
   ]
  },
  {
   "cell_type": "code",
   "execution_count": 10,
   "id": "54506824-30b9-48c9-a286-9dde831ee296",
   "metadata": {},
   "outputs": [],
   "source": [
    "KNNclassifier = KNeighborsClassifier(n_neighbors=3)"
   ]
  },
  {
   "cell_type": "code",
   "execution_count": 11,
   "id": "a70c117f-9341-401d-a57f-bf2fd2351adb",
   "metadata": {},
   "outputs": [
    {
     "data": {
      "text/html": [
       "<style>#sk-container-id-1 {color: black;background-color: white;}#sk-container-id-1 pre{padding: 0;}#sk-container-id-1 div.sk-toggleable {background-color: white;}#sk-container-id-1 label.sk-toggleable__label {cursor: pointer;display: block;width: 100%;margin-bottom: 0;padding: 0.3em;box-sizing: border-box;text-align: center;}#sk-container-id-1 label.sk-toggleable__label-arrow:before {content: \"▸\";float: left;margin-right: 0.25em;color: #696969;}#sk-container-id-1 label.sk-toggleable__label-arrow:hover:before {color: black;}#sk-container-id-1 div.sk-estimator:hover label.sk-toggleable__label-arrow:before {color: black;}#sk-container-id-1 div.sk-toggleable__content {max-height: 0;max-width: 0;overflow: hidden;text-align: left;background-color: #f0f8ff;}#sk-container-id-1 div.sk-toggleable__content pre {margin: 0.2em;color: black;border-radius: 0.25em;background-color: #f0f8ff;}#sk-container-id-1 input.sk-toggleable__control:checked~div.sk-toggleable__content {max-height: 200px;max-width: 100%;overflow: auto;}#sk-container-id-1 input.sk-toggleable__control:checked~label.sk-toggleable__label-arrow:before {content: \"▾\";}#sk-container-id-1 div.sk-estimator input.sk-toggleable__control:checked~label.sk-toggleable__label {background-color: #d4ebff;}#sk-container-id-1 div.sk-label input.sk-toggleable__control:checked~label.sk-toggleable__label {background-color: #d4ebff;}#sk-container-id-1 input.sk-hidden--visually {border: 0;clip: rect(1px 1px 1px 1px);clip: rect(1px, 1px, 1px, 1px);height: 1px;margin: -1px;overflow: hidden;padding: 0;position: absolute;width: 1px;}#sk-container-id-1 div.sk-estimator {font-family: monospace;background-color: #f0f8ff;border: 1px dotted black;border-radius: 0.25em;box-sizing: border-box;margin-bottom: 0.5em;}#sk-container-id-1 div.sk-estimator:hover {background-color: #d4ebff;}#sk-container-id-1 div.sk-parallel-item::after {content: \"\";width: 100%;border-bottom: 1px solid gray;flex-grow: 1;}#sk-container-id-1 div.sk-label:hover label.sk-toggleable__label {background-color: #d4ebff;}#sk-container-id-1 div.sk-serial::before {content: \"\";position: absolute;border-left: 1px solid gray;box-sizing: border-box;top: 0;bottom: 0;left: 50%;z-index: 0;}#sk-container-id-1 div.sk-serial {display: flex;flex-direction: column;align-items: center;background-color: white;padding-right: 0.2em;padding-left: 0.2em;position: relative;}#sk-container-id-1 div.sk-item {position: relative;z-index: 1;}#sk-container-id-1 div.sk-parallel {display: flex;align-items: stretch;justify-content: center;background-color: white;position: relative;}#sk-container-id-1 div.sk-item::before, #sk-container-id-1 div.sk-parallel-item::before {content: \"\";position: absolute;border-left: 1px solid gray;box-sizing: border-box;top: 0;bottom: 0;left: 50%;z-index: -1;}#sk-container-id-1 div.sk-parallel-item {display: flex;flex-direction: column;z-index: 1;position: relative;background-color: white;}#sk-container-id-1 div.sk-parallel-item:first-child::after {align-self: flex-end;width: 50%;}#sk-container-id-1 div.sk-parallel-item:last-child::after {align-self: flex-start;width: 50%;}#sk-container-id-1 div.sk-parallel-item:only-child::after {width: 0;}#sk-container-id-1 div.sk-dashed-wrapped {border: 1px dashed gray;margin: 0 0.4em 0.5em 0.4em;box-sizing: border-box;padding-bottom: 0.4em;background-color: white;}#sk-container-id-1 div.sk-label label {font-family: monospace;font-weight: bold;display: inline-block;line-height: 1.2em;}#sk-container-id-1 div.sk-label-container {text-align: center;}#sk-container-id-1 div.sk-container {/* jupyter's `normalize.less` sets `[hidden] { display: none; }` but bootstrap.min.css set `[hidden] { display: none !important; }` so we also need the `!important` here to be able to override the default hidden behavior on the sphinx rendered scikit-learn.org. See: https://github.com/scikit-learn/scikit-learn/issues/21755 */display: inline-block !important;position: relative;}#sk-container-id-1 div.sk-text-repr-fallback {display: none;}</style><div id=\"sk-container-id-1\" class=\"sk-top-container\"><div class=\"sk-text-repr-fallback\"><pre>KNeighborsClassifier(n_neighbors=3)</pre><b>In a Jupyter environment, please rerun this cell to show the HTML representation or trust the notebook. <br />On GitHub, the HTML representation is unable to render, please try loading this page with nbviewer.org.</b></div><div class=\"sk-container\" hidden><div class=\"sk-item\"><div class=\"sk-estimator sk-toggleable\"><input class=\"sk-toggleable__control sk-hidden--visually\" id=\"sk-estimator-id-1\" type=\"checkbox\" checked><label for=\"sk-estimator-id-1\" class=\"sk-toggleable__label sk-toggleable__label-arrow\">KNeighborsClassifier</label><div class=\"sk-toggleable__content\"><pre>KNeighborsClassifier(n_neighbors=3)</pre></div></div></div></div></div>"
      ],
      "text/plain": [
       "KNeighborsClassifier(n_neighbors=3)"
      ]
     },
     "execution_count": 11,
     "metadata": {},
     "output_type": "execute_result"
    }
   ],
   "source": [
    "KNNclassifier.fit(train_df_X, train_df_Y)"
   ]
  },
  {
   "cell_type": "code",
   "execution_count": 12,
   "id": "dc1d1dbb-3eab-4c1b-8325-303b6e8a097e",
   "metadata": {},
   "outputs": [
    {
     "data": {
      "text/plain": [
       "0.8319327731092437"
      ]
     },
     "execution_count": 12,
     "metadata": {},
     "output_type": "execute_result"
    }
   ],
   "source": [
    "KNNclassifier.score(train_df_X, train_df_Y)"
   ]
  },
  {
   "cell_type": "code",
   "execution_count": 13,
   "id": "ac9ed0ed-aa21-4057-b7e3-90b471866676",
   "metadata": {},
   "outputs": [],
   "source": [
    "knn_predict = KNNclassifier.predict(test_df_X)"
   ]
  },
  {
   "cell_type": "code",
   "execution_count": 14,
   "id": "8150db71-57e8-49ee-9237-88808e6f7e20",
   "metadata": {},
   "outputs": [
    {
     "data": {
      "text/plain": [
       "array([1, 1, 1, 1, 1, 1, 1, 1, 1, 1, 1, 1, 1, 0, 0, 1, 1, 0, 1, 1, 1, 1,\n",
       "       1, 1, 1, 1, 0, 0, 1, 1, 0, 1, 1, 1, 1, 0, 1, 0, 0, 1, 0, 1, 1, 0,\n",
       "       1, 1, 1, 1, 1, 1, 1, 1, 1, 1, 1, 1, 0, 1, 1, 1, 1, 1, 1, 0, 0, 0,\n",
       "       1, 1, 1, 1, 0, 1, 1, 1, 1, 1, 0, 1, 1, 0, 1, 1, 1, 1, 1, 1, 1, 1,\n",
       "       1, 1, 1, 1, 1, 1, 0, 1, 0, 1, 1, 1, 1, 1, 0, 1, 0, 0, 1, 1, 1, 1,\n",
       "       0, 1, 1, 0, 1, 1, 0, 1, 0, 1, 1, 1, 1, 0, 1, 1, 1, 0, 1, 0, 1, 1,\n",
       "       1, 0, 1, 1, 1, 1, 1, 1, 1, 1, 1, 1, 1, 1, 1, 1, 0, 1, 1, 1, 1, 0,\n",
       "       1, 1, 1, 1, 1, 1, 1, 1, 1, 1, 1, 1, 1, 1, 0, 1, 1, 1, 1, 0, 0, 1,\n",
       "       0, 1, 0, 1, 1, 1, 1, 1, 1, 1, 1, 1, 1, 1, 1, 0, 1, 1, 1, 0, 1, 1,\n",
       "       1, 0, 1, 1, 1, 1, 1, 1, 1, 1, 1, 1, 1, 1, 1, 1, 1, 0, 1, 1, 0, 1,\n",
       "       0, 1, 1, 1, 1, 1, 1, 1, 1, 0, 1, 1, 1, 0, 1, 0, 1, 1, 1, 1, 1, 1,\n",
       "       1, 1, 1, 1, 1, 1, 1, 1, 1, 1, 1, 1, 0, 1, 1, 1, 1, 1, 1, 1, 1, 1,\n",
       "       1, 1, 1, 1, 1, 1, 1, 1, 1, 1, 1, 1, 0, 0, 1, 1, 1, 0, 1, 1, 1, 1,\n",
       "       1, 1, 1, 0, 0, 1, 1, 0, 1, 1, 1, 1, 1, 1, 1, 1, 1, 1, 1, 1, 1, 1,\n",
       "       1, 1, 1, 1, 1, 1, 1, 1, 1, 1, 1, 1, 1, 1, 1, 0, 1, 0, 0, 1, 1, 1,\n",
       "       0])"
      ]
     },
     "execution_count": 14,
     "metadata": {},
     "output_type": "execute_result"
    }
   ],
   "source": [
    "knn_predict"
   ]
  },
  {
   "cell_type": "markdown",
   "id": "31b6bf7b-f6a3-4dde-8dbe-32564859e6e5",
   "metadata": {},
   "source": [
    "## SVM Classifier\n",
    "\n",
    "For Support Vector Classifiers it is important to know the structure of the data. The configuration of the SVC depends in the data structure, wether the data is linearly or non-linearly separable is important for the configuration choices.\n",
    "We can use PCA in order to make a 2D visualization that will help us to understand the data structure visually."
   ]
  },
  {
   "cell_type": "code",
   "execution_count": 15,
   "id": "33036a88-4d5a-4885-97cb-29749d38511b",
   "metadata": {},
   "outputs": [
    {
     "data": {
      "text/plain": [
       "<matplotlib.collections.PathCollection at 0x7f47c4c8f1c0>"
      ]
     },
     "execution_count": 15,
     "metadata": {},
     "output_type": "execute_result"
    },
    {
     "data": {
      "image/png": "[encoded data removed]",
      "text/plain": [
       "<Figure size 640x480 with 1 Axes>"
      ]
     },
     "metadata": {},
     "output_type": "display_data"
    }
   ],
   "source": [
    "pca = PCA(n_components=2)\n",
    "reduced_X = pd.DataFrame(pca.fit_transform(train_df_X), columns=[\"comp1\", \"comp2\"])\n",
    "\n",
    "colors = np.where(train_df_Y > 0, 'k', 'r')\n",
    "plt.scatter(reduced_X['comp1'], reduced_X['comp2'], s=20, c=colors)"
   ]
  },
  {
   "cell_type": "markdown",
   "id": "ee23ab96-409e-41ed-ab59-26e598157a54",
   "metadata": {},
   "source": [
    "What we did was to reduce the features dimensionality to 2 components and paint them in the scatter plot based on wether they survived or not.\n",
    "**As we can see, the data seems to be non-linear which in practice suggests that it would be better to use non-linear kernels such as RBF**"
   ]
  },
  {
   "cell_type": "code",
   "execution_count": 16,
   "id": "5fff7d77-0e1f-4d11-9dd3-fdb39d8b67d6",
   "metadata": {},
   "outputs": [
    {
     "data": {
      "text/plain": [
       "0.6778711484593838"
      ]
     },
     "execution_count": 16,
     "metadata": {},
     "output_type": "execute_result"
    }
   ],
   "source": [
    "svm = SVC()\n",
    "svm_result = svm.fit(train_df_X, train_df_Y)\n",
    "svm_result.score(train_df_X, train_df_Y)"
   ]
  },
  {
   "cell_type": "code",
   "execution_count": 17,
   "id": "d01927ab-7fd5-4829-8d19-dbcbfc31c936",
   "metadata": {},
   "outputs": [],
   "source": [
    "svm_predict = svm_result.predict(test_df_X)"
   ]
  },
  {
   "cell_type": "markdown",
   "id": "adf039d2-4868-4a75-8104-b99971a885be",
   "metadata": {},
   "source": [
    "## SGD\n",
    "Stochastic Gradient Descent is an algorithm based on gradient descent learning, this is, iterate through the labeled data and updating the model weights ind order to reach an optimal value that minimizes a defined loss function. For learning purposes we will implement it but in practice with a hinge loss it is equivalent to a SVM algorithm as the sklearn documentation specifies: https://scikit-learn.org/stable/modules/sgd.html#classification"
   ]
  },
  {
   "cell_type": "code",
   "execution_count": 18,
   "id": "4248daa2-636b-4f20-8f7c-8edba77c68ca",
   "metadata": {},
   "outputs": [
    {
     "data": {
      "text/plain": [
       "0.6638655462184874"
      ]
     },
     "execution_count": 18,
     "metadata": {},
     "output_type": "execute_result"
    }
   ],
   "source": [
    "sgd = SGDClassifier(loss='hinge', penalty='l2')\n",
    "sgd_fit = sgd.fit(train_df_X, train_df_Y)\n",
    "sgd_fit.score(train_df_X, train_df_Y)"
   ]
  },
  {
   "cell_type": "code",
   "execution_count": 19,
   "id": "18f1ad05-f7a5-419e-a145-a922f0e06a1a",
   "metadata": {},
   "outputs": [
    {
     "data": {
      "text/plain": [
       "array([0, 0, 0, 0, 0, 0, 0, 0, 0, 0, 0, 1, 0, 0, 0, 0, 0, 0, 0, 0, 0, 0,\n",
       "       0, 0, 1, 0, 0, 0, 0, 0, 1, 0, 0, 0, 0, 0, 0, 1, 0, 0, 1, 0, 1, 0,\n",
       "       0, 1, 0, 0, 0, 0, 0, 0, 0, 0, 0, 0, 1, 0, 1, 0, 0, 0, 0, 1, 1, 0,\n",
       "       0, 0, 0, 0, 0, 0, 0, 0, 0, 0, 1, 0, 0, 0, 0, 0, 0, 0, 0, 0, 0, 0,\n",
       "       0, 0, 0, 0, 0, 0, 0, 1, 0, 0, 1, 0, 0, 0, 0, 0, 0, 0, 0, 0, 0, 0,\n",
       "       0, 0, 0, 1, 0, 0, 0, 0, 0, 0, 1, 0, 0, 0, 0, 0, 1, 0, 0, 1, 0, 0,\n",
       "       0, 0, 0, 0, 0, 0, 0, 0, 0, 1, 0, 0, 0, 1, 0, 0, 0, 0, 0, 0, 0, 0,\n",
       "       0, 0, 1, 0, 0, 0, 0, 1, 0, 0, 0, 0, 0, 0, 0, 0, 0, 0, 0, 1, 0, 0,\n",
       "       0, 0, 0, 0, 0, 0, 1, 1, 0, 0, 0, 1, 0, 0, 0, 1, 0, 1, 0, 0, 0, 0,\n",
       "       0, 0, 1, 0, 0, 0, 0, 0, 0, 0, 0, 0, 0, 0, 1, 1, 1, 0, 0, 0, 0, 0,\n",
       "       0, 0, 0, 0, 0, 0, 0, 0, 0, 0, 1, 0, 0, 0, 0, 0, 1, 0, 0, 0, 0, 0,\n",
       "       0, 0, 0, 0, 0, 0, 0, 0, 0, 0, 1, 1, 0, 1, 0, 1, 0, 0, 0, 0, 0, 0,\n",
       "       0, 0, 0, 0, 0, 1, 0, 0, 0, 0, 0, 0, 0, 0, 1, 0, 1, 0, 0, 0, 0, 0,\n",
       "       0, 1, 0, 1, 0, 0, 1, 0, 0, 0, 1, 0, 0, 0, 0, 0, 0, 1, 0, 0, 0, 0,\n",
       "       1, 0, 0, 0, 0, 1, 0, 0, 0, 0, 0, 0, 1, 1, 0, 0, 0, 1, 0, 1, 0, 0,\n",
       "       0])"
      ]
     },
     "execution_count": 19,
     "metadata": {},
     "output_type": "execute_result"
    }
   ],
   "source": [
    "sgd_results = sgd_fit.predict(test_df_X)\n",
    "sgd_results"
   ]
  },
  {
   "cell_type": "markdown",
   "id": "be2eb1ef-e7cc-4a91-815d-1df459527458",
   "metadata": {},
   "source": [
    "As we can see, the accuracy is nearly 50% which means that the classifier is kind to toss a coin to decide the result, this is because the problem is non-linear while the classifier is linear, it even behaves worst than SVM since SVM used RBF kernel which is appropiate for non-linear data"
   ]
  },
  {
   "cell_type": "markdown",
   "id": "26e2e381-83cd-4e17-8e17-d240fb683e96",
   "metadata": {},
   "source": [
    "## Decision Tree\n",
    "Decision tree's classifiers use if-then-else sequential question on the dataset in order to gain general knowledge about the data distribution, being a non-linear algorithm, is more suitable for our problem."
   ]
  },
  {
   "cell_type": "code",
   "execution_count": 20,
   "id": "e95cf6b9-c91c-4df2-8235-f618e10aaaad",
   "metadata": {},
   "outputs": [
    {
     "data": {
      "text/plain": [
       "1.0"
      ]
     },
     "execution_count": 20,
     "metadata": {},
     "output_type": "execute_result"
    }
   ],
   "source": [
    "dt = tree.DecisionTreeClassifier()\n",
    "fit_tree = dt.fit(train_df_X, train_df_Y)\n",
    "dt.score(train_df_X, train_df_Y)"
   ]
  },
  {
   "cell_type": "code",
   "execution_count": 21,
   "id": "047eb9a1-26e8-4c5f-aadd-88f5c3de14e1",
   "metadata": {},
   "outputs": [
    {
     "data": {
      "text/plain": [
       "array([0, 0, 0, 0, 0, 1, 0, 0, 1, 0, 0, 1, 0, 1, 1, 0, 0, 0, 0, 0, 1, 0,\n",
       "       1, 1, 1, 0, 0, 1, 0, 1, 0, 0, 0, 0, 0, 0, 1, 1, 0, 1, 1, 1, 0, 0,\n",
       "       0, 0, 1, 0, 0, 1, 1, 0, 0, 1, 1, 1, 0, 1, 0, 1, 0, 0, 0, 1, 1, 0,\n",
       "       0, 1, 1, 0, 1, 1, 0, 1, 0, 1, 0, 0, 1, 0, 1, 0, 1, 0, 0, 0, 0, 0,\n",
       "       0, 0, 1, 1, 1, 0, 1, 0, 1, 1, 1, 0, 0, 0, 0, 0, 0, 1, 0, 0, 0, 0,\n",
       "       0, 0, 0, 1, 0, 0, 0, 0, 0, 0, 1, 1, 1, 0, 1, 1, 1, 1, 1, 0, 0, 1,\n",
       "       1, 0, 0, 0, 0, 0, 1, 1, 0, 1, 1, 0, 0, 1, 1, 0, 1, 1, 0, 0, 1, 0,\n",
       "       1, 0, 1, 1, 0, 1, 0, 1, 0, 0, 0, 1, 0, 0, 1, 1, 1, 0, 0, 1, 1, 0,\n",
       "       1, 0, 1, 0, 0, 0, 1, 0, 0, 0, 0, 0, 0, 1, 1, 0, 1, 0, 0, 1, 0, 1,\n",
       "       0, 0, 1, 0, 0, 0, 1, 0, 0, 0, 1, 0, 0, 1, 0, 1, 1, 0, 0, 0, 0, 0,\n",
       "       1, 1, 1, 0, 0, 0, 1, 0, 0, 0, 0, 0, 0, 0, 0, 1, 1, 1, 1, 1, 0, 0,\n",
       "       0, 1, 1, 0, 0, 0, 0, 0, 0, 0, 0, 1, 0, 1, 0, 0, 0, 1, 0, 0, 0, 1,\n",
       "       0, 0, 0, 0, 0, 1, 0, 0, 0, 0, 1, 1, 0, 0, 0, 1, 1, 1, 0, 1, 1, 1,\n",
       "       0, 1, 0, 1, 0, 0, 1, 1, 0, 1, 1, 0, 0, 0, 1, 0, 0, 1, 0, 0, 0, 1,\n",
       "       0, 1, 1, 0, 0, 1, 0, 1, 0, 0, 1, 0, 1, 1, 0, 0, 0, 0, 0, 1, 1, 1,\n",
       "       0])"
      ]
     },
     "execution_count": 21,
     "metadata": {},
     "output_type": "execute_result"
    }
   ],
   "source": [
    "dt.predict(test_df_X)"
   ]
  },
  {
   "cell_type": "markdown",
   "id": "cd1f9771-71da-42d9-8e11-6d85ec8c21eb",
   "metadata": {},
   "source": [
    "We can see that the decision tree gets 100% accuracy, something rare, and probably indicating that the tree is overfitting the data, in any case seems to be the algorith that achieves the best result"
   ]
  },
  {
   "cell_type": "markdown",
   "id": "1c83139a-4bc8-42ab-bc8d-2f2bb5c3a7c4",
   "metadata": {},
   "source": [
    "## Random Forest\n",
    "Random forest basically is a collection of decison trees that throw results and the random forest try to mix the result and get the better output."
   ]
  },
  {
   "cell_type": "code",
   "execution_count": 22,
   "id": "2a52079f-52e5-4ac8-a00d-2ce69718a9ab",
   "metadata": {},
   "outputs": [
    {
     "data": {
      "text/plain": [
       "1.0"
      ]
     },
     "execution_count": 22,
     "metadata": {},
     "output_type": "execute_result"
    }
   ],
   "source": [
    "rfc = RandomForestClassifier()\n",
    "rfc_fit = rfc.fit(train_df_X, train_df_Y)\n",
    "rfc_fit.score(train_df_X, train_df_Y)"
   ]
  },
  {
   "cell_type": "code",
   "execution_count": 23,
   "id": "8de9640d-47fc-432e-beeb-bec1dc241bbe",
   "metadata": {},
   "outputs": [
    {
     "data": {
      "text/plain": [
       "array([0, 1, 0, 1, 1, 0, 1, 1, 1, 0, 0, 1, 0, 1, 1, 0, 1, 1, 1, 0, 1, 0,\n",
       "       1, 0, 1, 1, 1, 0, 0, 1, 1, 1, 1, 1, 0, 0, 1, 1, 0, 1, 1, 1, 1, 0,\n",
       "       1, 1, 0, 0, 0, 1, 0, 1, 0, 1, 1, 1, 0, 0, 1, 1, 1, 1, 0, 1, 1, 1,\n",
       "       0, 1, 1, 0, 0, 1, 1, 1, 1, 1, 0, 0, 1, 0, 1, 0, 1, 1, 0, 1, 0, 0,\n",
       "       0, 0, 1, 1, 1, 1, 1, 0, 1, 1, 1, 0, 1, 0, 0, 1, 0, 0, 0, 0, 1, 0,\n",
       "       1, 0, 1, 1, 1, 0, 0, 1, 0, 1, 1, 1, 1, 0, 1, 1, 0, 1, 1, 1, 0, 1,\n",
       "       1, 0, 1, 1, 1, 0, 1, 1, 0, 1, 1, 0, 0, 1, 1, 0, 1, 0, 1, 0, 1, 0,\n",
       "       1, 0, 1, 1, 0, 1, 0, 1, 0, 0, 0, 1, 0, 1, 0, 1, 1, 0, 0, 1, 1, 0,\n",
       "       1, 0, 1, 0, 0, 0, 1, 1, 0, 0, 0, 0, 1, 1, 1, 1, 1, 0, 0, 1, 0, 1,\n",
       "       1, 0, 1, 0, 1, 0, 1, 0, 1, 0, 1, 1, 0, 0, 0, 1, 1, 0, 0, 0, 0, 1,\n",
       "       1, 1, 1, 0, 1, 1, 1, 0, 1, 1, 0, 0, 1, 0, 0, 1, 1, 1, 1, 1, 1, 1,\n",
       "       1, 1, 1, 1, 0, 0, 0, 1, 1, 0, 1, 1, 0, 1, 0, 0, 0, 1, 0, 1, 0, 0,\n",
       "       1, 0, 0, 0, 0, 1, 1, 0, 1, 0, 1, 1, 0, 0, 0, 1, 0, 1, 1, 1, 1, 1,\n",
       "       0, 1, 1, 1, 0, 0, 1, 0, 0, 1, 1, 1, 0, 0, 1, 1, 1, 1, 0, 0, 0, 1,\n",
       "       1, 1, 1, 0, 0, 1, 0, 1, 0, 0, 1, 0, 1, 1, 0, 0, 0, 0, 1, 1, 1, 1,\n",
       "       0])"
      ]
     },
     "execution_count": 23,
     "metadata": {},
     "output_type": "execute_result"
    }
   ],
   "source": [
    "rfc_fit.predict(test_df_X)"
   ]
  },
  {
   "cell_type": "markdown",
   "id": "c189e349-bf46-4951-8f53-801f2fc0e418",
   "metadata": {},
   "source": [
    "## Neural Network\n",
    "Neural networks is the mainstream in machine learning, its a composition of functions separated in layers which interconnect using a layer output as input for the next layer, in the final layer can use an activation function to output a result, in the binary case we want to use sigmoid function which will always output a number between 0 and 1.\n",
    "\n",
    "We will use pytorch as deep learning framework"
   ]
  },
  {
   "cell_type": "code",
   "execution_count": 30,
   "id": "07b0f1f3-0ebf-4844-9e3d-753a0d173810",
   "metadata": {},
   "outputs": [
    {
     "name": "stdout",
     "output_type": "stream",
     "text": [
      "Using cpu device\n"
     ]
    }
   ],
   "source": [
    "device = (\n",
    "    \"cuda\"\n",
    "    if torch.cuda.is_available()\n",
    "    else \"mps\"\n",
    "    if torch.backends.mps.is_available()\n",
    "    else \"cpu\"\n",
    ")\n",
    "print(f\"Using {device} device\")"
   ]
  },
  {
   "cell_type": "code",
   "execution_count": 31,
   "id": "607e3529-ffdf-4db1-a316-1cd675307af6",
   "metadata": {},
   "outputs": [],
   "source": [
    "total_samples = train_df_X.shape[0]\n",
    "train_split = int(0.7 * total_samples)\n",
    "dev_split = total_samples - train_split"
   ]
  },
  {
   "cell_type": "code",
   "execution_count": 32,
   "id": "d0132b6c-d23c-46b2-a1ee-954a90b416bf",
   "metadata": {},
   "outputs": [],
   "source": [
    "X_train = torch.tensor(train_df_X[:train_split].values)\n",
    "Y_train = torch.tensor(train_df_Y[:train_split].values).float()\n",
    "X_dev = torch.tensor(train_df_X[dev_split:].values)\n",
    "Y_dev = torch.tensor(train_df_Y[dev_split:].values).float()"
   ]
  },
  {
   "cell_type": "code",
   "execution_count": 33,
   "id": "8094b71a-966b-40c2-854c-9f7acfdba740",
   "metadata": {},
   "outputs": [],
   "source": [
    "class SimpleNet(nn.Module):\n",
    "    def __init__(self):\n",
    "        super().__init__()\n",
    "        self.net = nn.Sequential(\n",
    "            nn.Linear(9, 128),\n",
    "            nn.ReLU(),\n",
    "            nn.Linear(128, 64),\n",
    "            nn.ReLU(),\n",
    "            nn.Linear(64, 32),\n",
    "            nn.ReLU(),\n",
    "            nn.Linear(32,1),\n",
    "            nn.Sigmoid()\n",
    "        )\n",
    "\n",
    "    def forward(self, input):\n",
    "        return self.net(input)"
   ]
  },
  {
   "cell_type": "code",
   "execution_count": 34,
   "id": "eab22f20-e28e-4a8e-b9f1-e3ceedd736fc",
   "metadata": {},
   "outputs": [],
   "source": [
    "def train(x, y, model, optimizer, loss_fn):\n",
    "    model.train()\n",
    "\n",
    "    loss_acum = 0\n",
    "    for i in range(len(x)):\n",
    "        pred = model(x[i].float())\n",
    "        label = torch.tensor([y[i]]).float()\n",
    "\n",
    "        loss = loss_fn(pred, label)\n",
    "        loss.backward()\n",
    "        \n",
    "        optimizer.step()\n",
    "        optimizer.zero_grad()\n",
    "\n",
    "        loss_acum += loss.item()\n",
    "\n",
    "    avg_loss = loss_acum / len(x)\n",
    "    return loss_acum, avg_loss"
   ]
  },
  {
   "cell_type": "code",
   "execution_count": 43,
   "id": "390d16ad-7402-44ac-9338-84ef96949616",
   "metadata": {},
   "outputs": [],
   "source": [
    "def test(x, y, model, loss_fn):\n",
    "    model.eval()\n",
    "\n",
    "    loss_acum = 0\n",
    "    correct = 0\n",
    "    with torch.no_grad():\n",
    "        for i in range(len(x)):\n",
    "            pred = model(x[i].float())\n",
    "            true_label = torch.tensor([y[i]]).float()\n",
    "\n",
    "            test_loss = loss_fn(pred, true_label)\n",
    "            loss_acum += test_loss.item()\n",
    "            if pred.round() == true_label:\n",
    "                correct += 1\n",
    "\n",
    "    avg_loss = loss_acum / len(x)\n",
    "    accuracy = correct / len(x)\n",
    "\n",
    "    return avg_loss, accuracy"
   ]
  },
  {
   "cell_type": "code",
   "execution_count": 44,
   "id": "8791aa53-4c1b-482e-85f3-6311bc60e41e",
   "metadata": {},
   "outputs": [
    {
     "name": "stdout",
     "output_type": "stream",
     "text": [
      "SimpleNet(\n",
      "  (net): Sequential(\n",
      "    (0): Linear(in_features=9, out_features=128, bias=True)\n",
      "    (1): ReLU()\n",
      "    (2): Linear(in_features=128, out_features=64, bias=True)\n",
      "    (3): ReLU()\n",
      "    (4): Linear(in_features=64, out_features=32, bias=True)\n",
      "    (5): ReLU()\n",
      "    (6): Linear(in_features=32, out_features=1, bias=True)\n",
      "    (7): Sigmoid()\n",
      "  )\n",
      ")\n",
      "epoch 0 ======================================================================\n",
      "Train acumulated loss: 380.84296419444945 -- Train average loss: 0.7632123530950891\n",
      "Test loss: 0.6059394668608545 -- Test accuracy: 0.6833667334669339\n",
      "epoch 20 ======================================================================\n",
      "Train acumulated loss: 306.3242387017235 -- Train average loss: 0.6138762298631734\n",
      "Test loss: 0.5540448429879444 -- Test accuracy: 0.7274549098196392\n",
      "epoch 40 ======================================================================\n",
      "Train acumulated loss: 296.5579459247383 -- Train average loss: 0.5943045008511789\n",
      "Test loss: 0.5817946481257716 -- Test accuracy: 0.7394789579158316\n",
      "epoch 60 ======================================================================\n",
      "Train acumulated loss: 291.6767898375497 -- Train average loss: 0.5845226249249492\n",
      "Test loss: 0.5568830056189178 -- Test accuracy: 0.7374749498997996\n",
      "epoch 80 ======================================================================\n",
      "Train acumulated loss: 293.5117542049848 -- Train average loss: 0.5881999082264224\n",
      "Test loss: 0.5669767819812594 -- Test accuracy: 0.7254509018036072\n",
      "epoch 100 ======================================================================\n",
      "Train acumulated loss: 288.9270860026736 -- Train average loss: 0.5790121963981435\n",
      "Test loss: 0.5527764251361483 -- Test accuracy: 0.7394789579158316\n",
      "epoch 120 ======================================================================\n",
      "Train acumulated loss: 282.2112918642197 -- Train average loss: 0.5655536911106607\n",
      "Test loss: 0.5515725376462332 -- Test accuracy: 0.7414829659318637\n",
      "epoch 140 ======================================================================\n",
      "Train acumulated loss: 282.5032544148089 -- Train average loss: 0.5661387864024227\n",
      "Test loss: 0.5419748981431537 -- Test accuracy: 0.749498997995992\n",
      "epoch 160 ======================================================================\n",
      "Train acumulated loss: 283.38086714010205 -- Train average loss: 0.5678975293388818\n",
      "Test loss: 0.5287726794672513 -- Test accuracy: 0.749498997995992\n",
      "epoch 180 ======================================================================\n",
      "Train acumulated loss: 275.15004372721523 -- Train average loss: 0.5514028932409123\n",
      "Test loss: 0.5186486446168633 -- Test accuracy: 0.7595190380761523\n",
      "epoch 200 ======================================================================\n",
      "Train acumulated loss: 268.5485164642373 -- Train average loss: 0.5381733796878503\n",
      "Test loss: 0.529672665357018 -- Test accuracy: 0.751503006012024\n",
      "epoch 220 ======================================================================\n",
      "Train acumulated loss: 274.52821045387554 -- Train average loss: 0.5501567343765041\n",
      "Test loss: 0.5304694648134799 -- Test accuracy: 0.7595190380761523\n",
      "epoch 240 ======================================================================\n",
      "Train acumulated loss: 261.05914218060013 -- Train average loss: 0.5231646135883771\n",
      "Test loss: 0.5338871350134278 -- Test accuracy: 0.7635270541082164\n",
      "epoch 260 ======================================================================\n",
      "Train acumulated loss: 262.20641106376763 -- Train average loss: 0.5254637496267889\n",
      "Test loss: 0.5215212242793558 -- Test accuracy: 0.7635270541082164\n",
      "epoch 280 ======================================================================\n",
      "Train acumulated loss: 258.7846790140026 -- Train average loss: 0.5186065711703459\n",
      "Test loss: 0.5299289360289727 -- Test accuracy: 0.7595190380761523\n",
      "epoch 300 ======================================================================\n",
      "Train acumulated loss: 253.1891190482377 -- Train average loss: 0.507393024144765\n",
      "Test loss: 0.5421510955186707 -- Test accuracy: 0.7615230460921844\n",
      "epoch 320 ======================================================================\n",
      "Train acumulated loss: 251.435249665917 -- Train average loss: 0.5038782558435211\n",
      "Test loss: 0.5449902510516649 -- Test accuracy: 0.7655310621242485\n",
      "epoch 340 ======================================================================\n",
      "Train acumulated loss: 245.45977836637365 -- Train average loss: 0.4919033634596666\n",
      "Test loss: 0.530319629986704 -- Test accuracy: 0.751503006012024\n",
      "epoch 360 ======================================================================\n",
      "Train acumulated loss: 244.22138762641157 -- Train average loss: 0.48942161848980276\n",
      "Test loss: 0.5215751143332821 -- Test accuracy: 0.7635270541082164\n",
      "epoch 380 ======================================================================\n",
      "Train acumulated loss: 255.48879998269706 -- Train average loss: 0.5120016031717376\n",
      "Test loss: 0.5211554386227976 -- Test accuracy: 0.7374749498997996\n",
      "epoch 400 ======================================================================\n",
      "Train acumulated loss: 241.05035248284545 -- Train average loss: 0.48306683864297684\n",
      "Test loss: 0.7004161817932919 -- Test accuracy: 0.7555110220440882\n",
      "epoch 420 ======================================================================\n",
      "Train acumulated loss: 236.97555418850507 -- Train average loss: 0.47490091019740494\n",
      "Test loss: 0.6999636930490273 -- Test accuracy: 0.7555110220440882\n",
      "epoch 440 ======================================================================\n",
      "Train acumulated loss: 245.31936282035426 -- Train average loss: 0.49162196957986826\n",
      "Test loss: 0.5280507926955053 -- Test accuracy: 0.7695390781563126\n",
      "epoch 460 ======================================================================\n",
      "Train acumulated loss: 262.550062266755 -- Train average loss: 0.5261524293922946\n",
      "Test loss: 0.548273604196633 -- Test accuracy: 0.7635270541082164\n",
      "epoch 480 ======================================================================\n",
      "Train acumulated loss: 235.64805637105948 -- Train average loss: 0.4722405939299789\n",
      "Test loss: 0.699627216037094 -- Test accuracy: 0.7755511022044088\n",
      "epoch 500 ======================================================================\n",
      "Train acumulated loss: 240.393543695498 -- Train average loss: 0.4817505885681323\n",
      "Test loss: 0.5240220177300433 -- Test accuracy: 0.7374749498997996\n",
      "epoch 520 ======================================================================\n",
      "Train acumulated loss: 237.5965285656064 -- Train average loss: 0.4761453478268665\n",
      "Test loss: 0.6950809288294363 -- Test accuracy: 0.7675350701402806\n",
      "epoch 540 ======================================================================\n",
      "Train acumulated loss: 236.51862162748125 -- Train average loss: 0.47398521368232716\n",
      "Test loss: 0.6976059259582911 -- Test accuracy: 0.7655310621242485\n",
      "epoch 560 ======================================================================\n",
      "Train acumulated loss: 241.6146222994634 -- Train average loss: 0.4841976398786842\n",
      "Test loss: 0.5643764806346381 -- Test accuracy: 0.7695390781563126\n",
      "epoch 580 ======================================================================\n",
      "Train acumulated loss: 250.84793480296923 -- Train average loss: 0.502701272150239\n",
      "Test loss: 0.5397929112443106 -- Test accuracy: 0.7615230460921844\n",
      "epoch 600 ======================================================================\n",
      "Train acumulated loss: 234.52098661489362 -- Train average loss: 0.4699819371039952\n",
      "Test loss: 0.7017404131991053 -- Test accuracy: 0.7695390781563126\n",
      "epoch 620 ======================================================================\n",
      "Train acumulated loss: 235.77668249238684 -- Train average loss: 0.47249836170819004\n",
      "Test loss: 0.5343620792562488 -- Test accuracy: 0.7695390781563126\n",
      "epoch 640 ======================================================================\n",
      "Train acumulated loss: 256.1699465153798 -- Train average loss: 0.5133666262833263\n",
      "Test loss: 0.5529222639907292 -- Test accuracy: 0.749498997995992\n",
      "epoch 660 ======================================================================\n",
      "Train acumulated loss: 243.71995384052144 -- Train average loss: 0.48841674116336964\n",
      "Test loss: 0.5356010292504125 -- Test accuracy: 0.7535070140280561\n",
      "epoch 680 ======================================================================\n",
      "Train acumulated loss: 229.90784854053607 -- Train average loss: 0.46073717142391996\n",
      "Test loss: 0.7546431401149127 -- Test accuracy: 0.7595190380761523\n",
      "epoch 700 ======================================================================\n",
      "Train acumulated loss: 224.49338386529533 -- Train average loss: 0.4498865408122151\n",
      "Test loss: 0.5672972380678885 -- Test accuracy: 0.7615230460921844\n",
      "epoch 720 ======================================================================\n",
      "Train acumulated loss: 220.70836727414382 -- Train average loss: 0.4423013372227331\n",
      "Test loss: 0.7819806280828857 -- Test accuracy: 0.7695390781563126\n",
      "epoch 740 ======================================================================\n",
      "Train acumulated loss: 226.1931328874678 -- Train average loss: 0.4532928514778914\n",
      "Test loss: 0.5597080309374276 -- Test accuracy: 0.7715430861723447\n",
      "epoch 760 ======================================================================\n",
      "Train acumulated loss: 227.11089781616667 -- Train average loss: 0.455132059751837\n",
      "Test loss: 0.6136247904627103 -- Test accuracy: 0.7535070140280561\n",
      "epoch 780 ======================================================================\n",
      "Train acumulated loss: 308.00251441935586 -- Train average loss: 0.6172395078544206\n",
      "Test loss: 0.6203163790078794 -- Test accuracy: 0.751503006012024\n",
      "epoch 800 ======================================================================\n",
      "Train acumulated loss: 251.1600004890483 -- Train average loss: 0.5033266542866699\n",
      "Test loss: 0.5650129842220776 -- Test accuracy: 0.7535070140280561\n",
      "epoch 820 ======================================================================\n",
      "Train acumulated loss: 222.57412845395191 -- Train average loss: 0.44604033758307\n",
      "Test loss: 0.7504027727398752 -- Test accuracy: 0.7715430861723447\n",
      "epoch 840 ======================================================================\n",
      "Train acumulated loss: 222.6355396045225 -- Train average loss: 0.44616340602108717\n",
      "Test loss: 0.7066517529393902 -- Test accuracy: 0.7735470941883767\n",
      "epoch 860 ======================================================================\n",
      "Train acumulated loss: 234.82095056365634 -- Train average loss: 0.47058306726183635\n",
      "Test loss: 0.7341505552443337 -- Test accuracy: 0.7635270541082164\n",
      "epoch 880 ======================================================================\n",
      "Train acumulated loss: 218.34632934078803 -- Train average loss: 0.4375677942701163\n",
      "Test loss: 0.8512061464994806 -- Test accuracy: 0.7615230460921844\n",
      "epoch 900 ======================================================================\n",
      "Train acumulated loss: 260.687972382916 -- Train average loss: 0.522420786338509\n",
      "Test loss: 0.5927257996024449 -- Test accuracy: 0.7715430861723447\n",
      "epoch 920 ======================================================================\n",
      "Train acumulated loss: 228.31573172224992 -- Train average loss: 0.45754655655761506\n",
      "Test loss: 0.8036487306665465 -- Test accuracy: 0.781563126252505\n",
      "epoch 940 ======================================================================\n",
      "Train acumulated loss: 210.75171674340442 -- Train average loss: 0.4223481297463014\n",
      "Test loss: 0.8646352073841569 -- Test accuracy: 0.7695390781563126\n",
      "epoch 960 ======================================================================\n",
      "Train acumulated loss: 210.08120667015618 -- Train average loss: 0.4210044221846817\n",
      "Test loss: 0.6191540631525198 -- Test accuracy: 0.7835671342685371\n",
      "epoch 980 ======================================================================\n",
      "Train acumulated loss: 221.51636110094648 -- Train average loss: 0.44392056332855007\n",
      "Test loss: 0.6043584814084987 -- Test accuracy: 0.7875751503006012\n"
     ]
    }
   ],
   "source": [
    "model = SimpleNet().to(device)\n",
    "print(model)\n",
    "\n",
    "loss_fn = nn.BCELoss()\n",
    "optimizer = SGD(model.parameters(), lr=0.001)\n",
    "\n",
    "for i in range(1000):\n",
    "    \n",
    "    loss_acum, avg_loss = train(X_train, Y_train, model, optimizer, loss_fn)\n",
    "    test_loss, acc = test(X_dev, Y_dev, model, loss_fn)\n",
    "    if i % 20 == 0:\n",
    "        print(f\"epoch {i} \" + \"=\"*70)    \n",
    "        print(f\"Train acumulated loss: {loss_acum} -- Train average loss: {avg_loss}\")\n",
    "        print(f\"Test loss: {test_loss} -- Test accuracy: {acc}\")"
   ]
  },
  {
   "cell_type": "markdown",
   "id": "e7b5a390-140a-43e1-8689-e3cb4e037d73",
   "metadata": {},
   "source": [
    "## Neural net results\n",
    "We can see that the most basic neural net implementation (no batch training nor regularization nor complex layers) can achieve a 78% accuracy on data never seen by the network"
   ]
  },
  {
   "cell_type": "markdown",
   "id": "e38062c6-cc63-49a4-ad50-bfc5e2af6683",
   "metadata": {},
   "source": [
    "# Data Normalization\n",
    "We have seen the result for practically the raw data. It is common in machine learning to standardize and normalize inputs. Normalizing helps with the scale of the input, all features should be in the same scale (something like \"play with the same rules\"). All different models use maths to extract pattern and predictions from the input data, this operations can be heavily distorsionated if the inputs are not in the same scale. It is the model who with training should update parameters in order to assign weights to different features."
   ]
  },
  {
   "cell_type": "code",
   "execution_count": null,
   "id": "840e25e7-8e05-475d-9c4d-29006c1719b0",
   "metadata": {},
   "outputs": [],
   "source": []
  }
 ],
 "metadata": {
  "kernelspec": {
   "display_name": "datascience",
   "language": "python",
   "name": "datascience"
  },
  "language_info": {
   "codemirror_mode": {
    "name": "ipython",
    "version": 3
   },
   "file_extension": ".py",
   "mimetype": "text/x-python",
   "name": "python",
   "nbconvert_exporter": "python",
   "pygments_lexer": "ipython3",
   "version": "3.10.6"
  }
 },
 "nbformat": 4,
 "nbformat_minor": 5
}
