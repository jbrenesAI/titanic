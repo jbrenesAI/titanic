{
 "cells": [
  {
   "cell_type": "code",
   "execution_count": 1,
   "id": "c0b8e087-cdc1-4fdd-8bbd-2679b07e9d60",
   "metadata": {},
   "outputs": [],
   "source": [
    "import pandas as pd\n",
    "import matplotlib.pyplot as plt\n",
    "import seaborn as sns\n",
    "from sklearn.preprocessing import LabelEncoder, StandardScaler\n",
    "from sklearn.neighbors import KNeighborsClassifier\n",
    "from sklearn.svm import SVC\n",
    "from sklearn.decomposition import PCA\n",
    "from sklearn.linear_model import SGDClassifier\n",
    "from sklearn import tree\n",
    "from sklearn.ensemble import RandomForestClassifier\n",
    "import numpy as np\n",
    "from sklearn.neural_network import MLPClassifier\n",
    "import torch\n",
    "from torch import nn\n",
    "from torch.optim import SGD\n",
    "from torch.utils.data import DataLoader"
   ]
  },
  {
   "cell_type": "code",
   "execution_count": 2,
   "id": "1432e140-8797-4319-a77a-4822c1a0d66e",
   "metadata": {},
   "outputs": [],
   "source": [
    "train_df = pd.read_csv('train.csv')\n",
    "test_df = pd.read_csv('test.csv')"
   ]
  },
  {
   "cell_type": "code",
   "execution_count": 3,
   "id": "cd6d3c44-0f59-40f7-ba29-0b217b8d3804",
   "metadata": {},
   "outputs": [],
   "source": [
    "survivors_count = train_df[train_df['Survived'] == 1]['Survived'].count()\n",
    "victims_count = train_df[train_df['Survived'] == 0]['Survived'].count()"
   ]
  },
  {
   "cell_type": "code",
   "execution_count": 4,
   "id": "28ab43ba-f30f-4079-b2e6-0aba25039b21",
   "metadata": {},
   "outputs": [
    {
     "data": {
      "text/plain": [
       "<seaborn.axisgrid.FacetGrid at 0x7efd8dca3100>"
      ]
     },
     "execution_count": 4,
     "metadata": {},
     "output_type": "execute_result"
    },
    {
     "data": {
      "image/png": "[encoded data removed]",
      "text/plain": [
       "<Figure size 500x500 with 1 Axes>"
      ]
     },
     "metadata": {},
     "output_type": "display_data"
    }
   ],
   "source": [
    "sns.catplot(train_df, x='Survived', kind='count')"
   ]
  },
  {
   "cell_type": "code",
   "execution_count": 5,
   "id": "57395431-4e16-47db-8fa3-43e429ad19e9",
   "metadata": {},
   "outputs": [
    {
     "data": {
      "text/html": [
       "<div>\n",
       "<style scoped>\n",
       "    .dataframe tbody tr th:only-of-type {\n",
       "        vertical-align: middle;\n",
       "    }\n",
       "\n",
       "    .dataframe tbody tr th {\n",
       "        vertical-align: top;\n",
       "    }\n",
       "\n",
       "    .dataframe thead th {\n",
       "        text-align: right;\n",
       "    }\n",
       "</style>\n",
       "<table border=\"1\" class=\"dataframe\">\n",
       "  <thead>\n",
       "    <tr style=\"text-align: right;\">\n",
       "      <th></th>\n",
       "      <th>PassengerId</th>\n",
       "      <th>Survived</th>\n",
       "      <th>Pclass</th>\n",
       "      <th>Name</th>\n",
       "      <th>Sex</th>\n",
       "      <th>Age</th>\n",
       "      <th>SibSp</th>\n",
       "      <th>Parch</th>\n",
       "      <th>Ticket</th>\n",
       "      <th>Fare</th>\n",
       "      <th>Cabin</th>\n",
       "      <th>Embarked</th>\n",
       "    </tr>\n",
       "  </thead>\n",
       "  <tbody>\n",
       "    <tr>\n",
       "      <th>0</th>\n",
       "      <td>1</td>\n",
       "      <td>0</td>\n",
       "      <td>3</td>\n",
       "      <td>Braund, Mr. Owen Harris</td>\n",
       "      <td>male</td>\n",
       "      <td>22.0</td>\n",
       "      <td>1</td>\n",
       "      <td>0</td>\n",
       "      <td>A/5 21171</td>\n",
       "      <td>7.2500</td>\n",
       "      <td>NaN</td>\n",
       "      <td>S</td>\n",
       "    </tr>\n",
       "    <tr>\n",
       "      <th>1</th>\n",
       "      <td>2</td>\n",
       "      <td>1</td>\n",
       "      <td>1</td>\n",
       "      <td>Cumings, Mrs. John Bradley (Florence Briggs Th...</td>\n",
       "      <td>female</td>\n",
       "      <td>38.0</td>\n",
       "      <td>1</td>\n",
       "      <td>0</td>\n",
       "      <td>PC 17599</td>\n",
       "      <td>71.2833</td>\n",
       "      <td>C85</td>\n",
       "      <td>C</td>\n",
       "    </tr>\n",
       "    <tr>\n",
       "      <th>2</th>\n",
       "      <td>3</td>\n",
       "      <td>1</td>\n",
       "      <td>3</td>\n",
       "      <td>Heikkinen, Miss. Laina</td>\n",
       "      <td>female</td>\n",
       "      <td>26.0</td>\n",
       "      <td>0</td>\n",
       "      <td>0</td>\n",
       "      <td>STON/O2. 3101282</td>\n",
       "      <td>7.9250</td>\n",
       "      <td>NaN</td>\n",
       "      <td>S</td>\n",
       "    </tr>\n",
       "    <tr>\n",
       "      <th>3</th>\n",
       "      <td>4</td>\n",
       "      <td>1</td>\n",
       "      <td>1</td>\n",
       "      <td>Futrelle, Mrs. Jacques Heath (Lily May Peel)</td>\n",
       "      <td>female</td>\n",
       "      <td>35.0</td>\n",
       "      <td>1</td>\n",
       "      <td>0</td>\n",
       "      <td>113803</td>\n",
       "      <td>53.1000</td>\n",
       "      <td>C123</td>\n",
       "      <td>S</td>\n",
       "    </tr>\n",
       "    <tr>\n",
       "      <th>4</th>\n",
       "      <td>5</td>\n",
       "      <td>0</td>\n",
       "      <td>3</td>\n",
       "      <td>Allen, Mr. William Henry</td>\n",
       "      <td>male</td>\n",
       "      <td>35.0</td>\n",
       "      <td>0</td>\n",
       "      <td>0</td>\n",
       "      <td>373450</td>\n",
       "      <td>8.0500</td>\n",
       "      <td>NaN</td>\n",
       "      <td>S</td>\n",
       "    </tr>\n",
       "  </tbody>\n",
       "</table>\n",
       "</div>"
      ],
      "text/plain": [
       "   PassengerId  Survived  Pclass  \\\n",
       "0            1         0       3   \n",
       "1            2         1       1   \n",
       "2            3         1       3   \n",
       "3            4         1       1   \n",
       "4            5         0       3   \n",
       "\n",
       "                                                Name     Sex   Age  SibSp  \\\n",
       "0                            Braund, Mr. Owen Harris    male  22.0      1   \n",
       "1  Cumings, Mrs. John Bradley (Florence Briggs Th...  female  38.0      1   \n",
       "2                             Heikkinen, Miss. Laina  female  26.0      0   \n",
       "3       Futrelle, Mrs. Jacques Heath (Lily May Peel)  female  35.0      1   \n",
       "4                           Allen, Mr. William Henry    male  35.0      0   \n",
       "\n",
       "   Parch            Ticket     Fare Cabin Embarked  \n",
       "0      0         A/5 21171   7.2500   NaN        S  \n",
       "1      0          PC 17599  71.2833   C85        C  \n",
       "2      0  STON/O2. 3101282   7.9250   NaN        S  \n",
       "3      0            113803  53.1000  C123        S  \n",
       "4      0            373450   8.0500   NaN        S  "
      ]
     },
     "execution_count": 5,
     "metadata": {},
     "output_type": "execute_result"
    }
   ],
   "source": [
    "train_df.head()"
   ]
  },
  {
   "cell_type": "code",
   "execution_count": 6,
   "id": "4cb62195-43ac-4331-adca-5a220c9b06a1",
   "metadata": {},
   "outputs": [],
   "source": [
    "label_encoder = LabelEncoder()\n",
    "to_encode_features = ['Sex', 'Ticket', 'Cabin', 'Embarked']"
   ]
  },
  {
   "cell_type": "code",
   "execution_count": 7,
   "id": "025ef3fa-101e-4404-92b8-657b5b34d6f1",
   "metadata": {},
   "outputs": [],
   "source": [
    "for feature in to_encode_features:\n",
    "    train_df[feature] = label_encoder.fit_transform(train_df[feature])\n",
    "    test_df[feature] = label_encoder.fit_transform(test_df[feature])"
   ]
  },
  {
   "cell_type": "code",
   "execution_count": 8,
   "id": "9befbaf8-f316-4681-837b-a87d1b1e5a11",
   "metadata": {},
   "outputs": [],
   "source": [
    "train_df = train_df.dropna()\n",
    "test_df = test_df.dropna()"
   ]
  },
  {
   "cell_type": "code",
   "execution_count": 50,
   "id": "705be2f9-e15d-4a83-aeef-75bfaa6ea0ec",
   "metadata": {},
   "outputs": [
    {
     "data": {
      "text/html": [
       "<div>\n",
       "<style scoped>\n",
       "    .dataframe tbody tr th:only-of-type {\n",
       "        vertical-align: middle;\n",
       "    }\n",
       "\n",
       "    .dataframe tbody tr th {\n",
       "        vertical-align: top;\n",
       "    }\n",
       "\n",
       "    .dataframe thead th {\n",
       "        text-align: right;\n",
       "    }\n",
       "</style>\n",
       "<table border=\"1\" class=\"dataframe\">\n",
       "  <thead>\n",
       "    <tr style=\"text-align: right;\">\n",
       "      <th></th>\n",
       "      <th>PassengerId</th>\n",
       "      <th>Survived</th>\n",
       "      <th>Pclass</th>\n",
       "      <th>Name</th>\n",
       "      <th>Sex</th>\n",
       "      <th>Age</th>\n",
       "      <th>SibSp</th>\n",
       "      <th>Parch</th>\n",
       "      <th>Ticket</th>\n",
       "      <th>Fare</th>\n",
       "      <th>Cabin</th>\n",
       "      <th>Embarked</th>\n",
       "    </tr>\n",
       "  </thead>\n",
       "  <tbody>\n",
       "    <tr>\n",
       "      <th>0</th>\n",
       "      <td>1</td>\n",
       "      <td>0</td>\n",
       "      <td>3</td>\n",
       "      <td>Braund, Mr. Owen Harris</td>\n",
       "      <td>1</td>\n",
       "      <td>22.0</td>\n",
       "      <td>1</td>\n",
       "      <td>0</td>\n",
       "      <td>523</td>\n",
       "      <td>7.2500</td>\n",
       "      <td>147</td>\n",
       "      <td>2</td>\n",
       "    </tr>\n",
       "    <tr>\n",
       "      <th>1</th>\n",
       "      <td>2</td>\n",
       "      <td>1</td>\n",
       "      <td>1</td>\n",
       "      <td>Cumings, Mrs. John Bradley (Florence Briggs Th...</td>\n",
       "      <td>0</td>\n",
       "      <td>38.0</td>\n",
       "      <td>1</td>\n",
       "      <td>0</td>\n",
       "      <td>596</td>\n",
       "      <td>71.2833</td>\n",
       "      <td>81</td>\n",
       "      <td>0</td>\n",
       "    </tr>\n",
       "    <tr>\n",
       "      <th>2</th>\n",
       "      <td>3</td>\n",
       "      <td>1</td>\n",
       "      <td>3</td>\n",
       "      <td>Heikkinen, Miss. Laina</td>\n",
       "      <td>0</td>\n",
       "      <td>26.0</td>\n",
       "      <td>0</td>\n",
       "      <td>0</td>\n",
       "      <td>669</td>\n",
       "      <td>7.9250</td>\n",
       "      <td>147</td>\n",
       "      <td>2</td>\n",
       "    </tr>\n",
       "    <tr>\n",
       "      <th>3</th>\n",
       "      <td>4</td>\n",
       "      <td>1</td>\n",
       "      <td>1</td>\n",
       "      <td>Futrelle, Mrs. Jacques Heath (Lily May Peel)</td>\n",
       "      <td>0</td>\n",
       "      <td>35.0</td>\n",
       "      <td>1</td>\n",
       "      <td>0</td>\n",
       "      <td>49</td>\n",
       "      <td>53.1000</td>\n",
       "      <td>55</td>\n",
       "      <td>2</td>\n",
       "    </tr>\n",
       "    <tr>\n",
       "      <th>4</th>\n",
       "      <td>5</td>\n",
       "      <td>0</td>\n",
       "      <td>3</td>\n",
       "      <td>Allen, Mr. William Henry</td>\n",
       "      <td>1</td>\n",
       "      <td>35.0</td>\n",
       "      <td>0</td>\n",
       "      <td>0</td>\n",
       "      <td>472</td>\n",
       "      <td>8.0500</td>\n",
       "      <td>147</td>\n",
       "      <td>2</td>\n",
       "    </tr>\n",
       "  </tbody>\n",
       "</table>\n",
       "</div>"
      ],
      "text/plain": [
       "   PassengerId  Survived  Pclass  \\\n",
       "0            1         0       3   \n",
       "1            2         1       1   \n",
       "2            3         1       3   \n",
       "3            4         1       1   \n",
       "4            5         0       3   \n",
       "\n",
       "                                                Name  Sex   Age  SibSp  Parch  \\\n",
       "0                            Braund, Mr. Owen Harris    1  22.0      1      0   \n",
       "1  Cumings, Mrs. John Bradley (Florence Briggs Th...    0  38.0      1      0   \n",
       "2                             Heikkinen, Miss. Laina    0  26.0      0      0   \n",
       "3       Futrelle, Mrs. Jacques Heath (Lily May Peel)    0  35.0      1      0   \n",
       "4                           Allen, Mr. William Henry    1  35.0      0      0   \n",
       "\n",
       "   Ticket     Fare  Cabin  Embarked  \n",
       "0     523   7.2500    147         2  \n",
       "1     596  71.2833     81         0  \n",
       "2     669   7.9250    147         2  \n",
       "3      49  53.1000     55         2  \n",
       "4     472   8.0500    147         2  "
      ]
     },
     "execution_count": 50,
     "metadata": {},
     "output_type": "execute_result"
    }
   ],
   "source": [
    "train_df.head()"
   ]
  },
  {
   "cell_type": "markdown",
   "id": "ce29c30f-827f-45d0-9160-eed64ef69643",
   "metadata": {},
   "source": [
    "# Raw data classification\n",
    "First I will run all the classifiers with the raw data to further prove that scaling and preprocessing the data we can obtain better results"
   ]
  },
  {
   "cell_type": "markdown",
   "id": "c532e303-dca5-428a-be5b-7079868cf5fa",
   "metadata": {},
   "source": [
    "## KNN Classifier"
   ]
  },
  {
   "cell_type": "code",
   "execution_count": 9,
   "id": "30fcffd7-a7a3-4340-a5b7-07d9339c7596",
   "metadata": {},
   "outputs": [],
   "source": [
    "train_df_Y = train_df['Survived']\n",
    "train_df_X = train_df[['Pclass', 'Sex', 'Age', 'SibSp', 'Parch', 'Ticket', 'Fare', 'Cabin', 'Embarked']]\n",
    "\n",
    "\n",
    "test_df_X = test_df[['Pclass', 'Sex', 'Age', 'SibSp', 'Parch', 'Ticket', 'Fare', 'Cabin', 'Embarked']]"
   ]
  },
  {
   "cell_type": "code",
   "execution_count": 10,
   "id": "54506824-30b9-48c9-a286-9dde831ee296",
   "metadata": {},
   "outputs": [],
   "source": [
    "KNNclassifier = KNeighborsClassifier(n_neighbors=3)"
   ]
  },
  {
   "cell_type": "code",
   "execution_count": 11,
   "id": "a70c117f-9341-401d-a57f-bf2fd2351adb",
   "metadata": {},
   "outputs": [
    {
     "data": {
      "text/html": [
       "<style>#sk-container-id-1 {color: black;background-color: white;}#sk-container-id-1 pre{padding: 0;}#sk-container-id-1 div.sk-toggleable {background-color: white;}#sk-container-id-1 label.sk-toggleable__label {cursor: pointer;display: block;width: 100%;margin-bottom: 0;padding: 0.3em;box-sizing: border-box;text-align: center;}#sk-container-id-1 label.sk-toggleable__label-arrow:before {content: \"▸\";float: left;margin-right: 0.25em;color: #696969;}#sk-container-id-1 label.sk-toggleable__label-arrow:hover:before {color: black;}#sk-container-id-1 div.sk-estimator:hover label.sk-toggleable__label-arrow:before {color: black;}#sk-container-id-1 div.sk-toggleable__content {max-height: 0;max-width: 0;overflow: hidden;text-align: left;background-color: #f0f8ff;}#sk-container-id-1 div.sk-toggleable__content pre {margin: 0.2em;color: black;border-radius: 0.25em;background-color: #f0f8ff;}#sk-container-id-1 input.sk-toggleable__control:checked~div.sk-toggleable__content {max-height: 200px;max-width: 100%;overflow: auto;}#sk-container-id-1 input.sk-toggleable__control:checked~label.sk-toggleable__label-arrow:before {content: \"▾\";}#sk-container-id-1 div.sk-estimator input.sk-toggleable__control:checked~label.sk-toggleable__label {background-color: #d4ebff;}#sk-container-id-1 div.sk-label input.sk-toggleable__control:checked~label.sk-toggleable__label {background-color: #d4ebff;}#sk-container-id-1 input.sk-hidden--visually {border: 0;clip: rect(1px 1px 1px 1px);clip: rect(1px, 1px, 1px, 1px);height: 1px;margin: -1px;overflow: hidden;padding: 0;position: absolute;width: 1px;}#sk-container-id-1 div.sk-estimator {font-family: monospace;background-color: #f0f8ff;border: 1px dotted black;border-radius: 0.25em;box-sizing: border-box;margin-bottom: 0.5em;}#sk-container-id-1 div.sk-estimator:hover {background-color: #d4ebff;}#sk-container-id-1 div.sk-parallel-item::after {content: \"\";width: 100%;border-bottom: 1px solid gray;flex-grow: 1;}#sk-container-id-1 div.sk-label:hover label.sk-toggleable__label {background-color: #d4ebff;}#sk-container-id-1 div.sk-serial::before {content: \"\";position: absolute;border-left: 1px solid gray;box-sizing: border-box;top: 0;bottom: 0;left: 50%;z-index: 0;}#sk-container-id-1 div.sk-serial {display: flex;flex-direction: column;align-items: center;background-color: white;padding-right: 0.2em;padding-left: 0.2em;position: relative;}#sk-container-id-1 div.sk-item {position: relative;z-index: 1;}#sk-container-id-1 div.sk-parallel {display: flex;align-items: stretch;justify-content: center;background-color: white;position: relative;}#sk-container-id-1 div.sk-item::before, #sk-container-id-1 div.sk-parallel-item::before {content: \"\";position: absolute;border-left: 1px solid gray;box-sizing: border-box;top: 0;bottom: 0;left: 50%;z-index: -1;}#sk-container-id-1 div.sk-parallel-item {display: flex;flex-direction: column;z-index: 1;position: relative;background-color: white;}#sk-container-id-1 div.sk-parallel-item:first-child::after {align-self: flex-end;width: 50%;}#sk-container-id-1 div.sk-parallel-item:last-child::after {align-self: flex-start;width: 50%;}#sk-container-id-1 div.sk-parallel-item:only-child::after {width: 0;}#sk-container-id-1 div.sk-dashed-wrapped {border: 1px dashed gray;margin: 0 0.4em 0.5em 0.4em;box-sizing: border-box;padding-bottom: 0.4em;background-color: white;}#sk-container-id-1 div.sk-label label {font-family: monospace;font-weight: bold;display: inline-block;line-height: 1.2em;}#sk-container-id-1 div.sk-label-container {text-align: center;}#sk-container-id-1 div.sk-container {/* jupyter's `normalize.less` sets `[hidden] { display: none; }` but bootstrap.min.css set `[hidden] { display: none !important; }` so we also need the `!important` here to be able to override the default hidden behavior on the sphinx rendered scikit-learn.org. See: https://github.com/scikit-learn/scikit-learn/issues/21755 */display: inline-block !important;position: relative;}#sk-container-id-1 div.sk-text-repr-fallback {display: none;}</style><div id=\"sk-container-id-1\" class=\"sk-top-container\"><div class=\"sk-text-repr-fallback\"><pre>KNeighborsClassifier(n_neighbors=3)</pre><b>In a Jupyter environment, please rerun this cell to show the HTML representation or trust the notebook. <br />On GitHub, the HTML representation is unable to render, please try loading this page with nbviewer.org.</b></div><div class=\"sk-container\" hidden><div class=\"sk-item\"><div class=\"sk-estimator sk-toggleable\"><input class=\"sk-toggleable__control sk-hidden--visually\" id=\"sk-estimator-id-1\" type=\"checkbox\" checked><label for=\"sk-estimator-id-1\" class=\"sk-toggleable__label sk-toggleable__label-arrow\">KNeighborsClassifier</label><div class=\"sk-toggleable__content\"><pre>KNeighborsClassifier(n_neighbors=3)</pre></div></div></div></div></div>"
      ],
      "text/plain": [
       "KNeighborsClassifier(n_neighbors=3)"
      ]
     },
     "execution_count": 11,
     "metadata": {},
     "output_type": "execute_result"
    }
   ],
   "source": [
    "KNNclassifier.fit(train_df_X, train_df_Y)"
   ]
  },
  {
   "cell_type": "code",
   "execution_count": 12,
   "id": "dc1d1dbb-3eab-4c1b-8325-303b6e8a097e",
   "metadata": {},
   "outputs": [
    {
     "data": {
      "text/plain": [
       "0.8319327731092437"
      ]
     },
     "execution_count": 12,
     "metadata": {},
     "output_type": "execute_result"
    }
   ],
   "source": [
    "KNNclassifier.score(train_df_X, train_df_Y)"
   ]
  },
  {
   "cell_type": "code",
   "execution_count": 13,
   "id": "ac9ed0ed-aa21-4057-b7e3-90b471866676",
   "metadata": {},
   "outputs": [],
   "source": [
    "knn_predict = KNNclassifier.predict(test_df_X)"
   ]
  },
  {
   "cell_type": "code",
   "execution_count": 14,
   "id": "8150db71-57e8-49ee-9237-88808e6f7e20",
   "metadata": {},
   "outputs": [
    {
     "data": {
      "text/plain": [
       "array([1, 1, 1, 1, 1, 1, 1, 1, 1, 1, 1, 1, 1, 0, 0, 1, 1, 0, 1, 1, 1, 1,\n",
       "       1, 1, 1, 1, 0, 0, 1, 1, 0, 1, 1, 1, 1, 0, 1, 0, 0, 1, 0, 1, 1, 0,\n",
       "       1, 1, 1, 1, 1, 1, 1, 1, 1, 1, 1, 1, 0, 1, 1, 1, 1, 1, 1, 0, 0, 0,\n",
       "       1, 1, 1, 1, 0, 1, 1, 1, 1, 1, 0, 1, 1, 0, 1, 1, 1, 1, 1, 1, 1, 1,\n",
       "       1, 1, 1, 1, 1, 1, 0, 1, 0, 1, 1, 1, 1, 1, 0, 1, 0, 0, 1, 1, 1, 1,\n",
       "       0, 1, 1, 0, 1, 1, 0, 1, 0, 1, 1, 1, 1, 0, 1, 1, 1, 0, 1, 0, 1, 1,\n",
       "       1, 0, 1, 1, 1, 1, 1, 1, 1, 1, 1, 1, 1, 1, 1, 1, 0, 1, 1, 1, 1, 0,\n",
       "       1, 1, 1, 1, 1, 1, 1, 1, 1, 1, 1, 1, 1, 1, 0, 1, 1, 1, 1, 0, 0, 1,\n",
       "       0, 1, 0, 1, 1, 1, 1, 1, 1, 1, 1, 1, 1, 1, 1, 0, 1, 1, 1, 0, 1, 1,\n",
       "       1, 0, 1, 1, 1, 1, 1, 1, 1, 1, 1, 1, 1, 1, 1, 1, 1, 0, 1, 1, 0, 1,\n",
       "       0, 1, 1, 1, 1, 1, 1, 1, 1, 0, 1, 1, 1, 0, 1, 0, 1, 1, 1, 1, 1, 1,\n",
       "       1, 1, 1, 1, 1, 1, 1, 1, 1, 1, 1, 1, 0, 1, 1, 1, 1, 1, 1, 1, 1, 1,\n",
       "       1, 1, 1, 1, 1, 1, 1, 1, 1, 1, 1, 1, 0, 0, 1, 1, 1, 0, 1, 1, 1, 1,\n",
       "       1, 1, 1, 0, 0, 1, 1, 0, 1, 1, 1, 1, 1, 1, 1, 1, 1, 1, 1, 1, 1, 1,\n",
       "       1, 1, 1, 1, 1, 1, 1, 1, 1, 1, 1, 1, 1, 1, 1, 0, 1, 0, 0, 1, 1, 1,\n",
       "       0])"
      ]
     },
     "execution_count": 14,
     "metadata": {},
     "output_type": "execute_result"
    }
   ],
   "source": [
    "knn_predict"
   ]
  },
  {
   "cell_type": "markdown",
   "id": "31b6bf7b-f6a3-4dde-8dbe-32564859e6e5",
   "metadata": {},
   "source": [
    "## SVM Classifier\n",
    "\n",
    "For Support Vector Classifiers it is important to know the structure of the data. The configuration of the SVC depends in the data structure, wether the data is linearly or non-linearly separable is important for the configuration choices.\n",
    "We can use PCA in order to make a 2D visualization that will help us to understand the data structure visually."
   ]
  },
  {
   "cell_type": "code",
   "execution_count": 15,
   "id": "33036a88-4d5a-4885-97cb-29749d38511b",
   "metadata": {},
   "outputs": [
    {
     "data": {
      "text/plain": [
       "<matplotlib.collections.PathCollection at 0x7efd89f758d0>"
      ]
     },
     "execution_count": 15,
     "metadata": {},
     "output_type": "execute_result"
    },
    {
     "data": {
      "image/png": "[encoded data removed]",
      "text/plain": [
       "<Figure size 640x480 with 1 Axes>"
      ]
     },
     "metadata": {},
     "output_type": "display_data"
    }
   ],
   "source": [
    "pca = PCA(n_components=2)\n",
    "reduced_X = pd.DataFrame(pca.fit_transform(train_df_X), columns=[\"comp1\", \"comp2\"])\n",
    "\n",
    "colors = np.where(train_df_Y > 0, 'k', 'r')\n",
    "plt.scatter(reduced_X['comp1'], reduced_X['comp2'], s=20, c=colors)"
   ]
  },
  {
   "cell_type": "markdown",
   "id": "ee23ab96-409e-41ed-ab59-26e598157a54",
   "metadata": {},
   "source": [
    "What we did was to reduce the features dimensionality to 2 components and paint them in the scatter plot based on wether they survived or not.\n",
    "**As we can see, the data seems to be non-linear which in practice suggests that it would be better to use non-linear kernels such as RBF**"
   ]
  },
  {
   "cell_type": "code",
   "execution_count": 16,
   "id": "5fff7d77-0e1f-4d11-9dd3-fdb39d8b67d6",
   "metadata": {},
   "outputs": [
    {
     "data": {
      "text/plain": [
       "0.6778711484593838"
      ]
     },
     "execution_count": 16,
     "metadata": {},
     "output_type": "execute_result"
    }
   ],
   "source": [
    "svm = SVC()\n",
    "svm_result = svm.fit(train_df_X, train_df_Y)\n",
    "svm_result.score(train_df_X, train_df_Y)"
   ]
  },
  {
   "cell_type": "code",
   "execution_count": 17,
   "id": "d01927ab-7fd5-4829-8d19-dbcbfc31c936",
   "metadata": {},
   "outputs": [],
   "source": [
    "svm_predict = svm_result.predict(test_df_X)"
   ]
  },
  {
   "cell_type": "markdown",
   "id": "adf039d2-4868-4a75-8104-b99971a885be",
   "metadata": {},
   "source": [
    "## SGD\n",
    "Stochastic Gradient Descent is an algorithm based on gradient descent learning, this is, iterate through the labeled data and updating the model weights ind order to reach an optimal value that minimizes a defined loss function. For learning purposes we will implement it but in practice with a hinge loss it is equivalent to a SVM algorithm as the sklearn documentation specifies: https://scikit-learn.org/stable/modules/sgd.html#classification"
   ]
  },
  {
   "cell_type": "code",
   "execution_count": 18,
   "id": "4248daa2-636b-4f20-8f7c-8edba77c68ca",
   "metadata": {},
   "outputs": [
    {
     "data": {
      "text/plain": [
       "0.6862745098039216"
      ]
     },
     "execution_count": 18,
     "metadata": {},
     "output_type": "execute_result"
    }
   ],
   "source": [
    "sgd = SGDClassifier(loss='hinge', penalty='l2')\n",
    "sgd_fit = sgd.fit(train_df_X, train_df_Y)\n",
    "sgd_fit.score(train_df_X, train_df_Y)"
   ]
  },
  {
   "cell_type": "code",
   "execution_count": 19,
   "id": "18f1ad05-f7a5-419e-a145-a922f0e06a1a",
   "metadata": {},
   "outputs": [
    {
     "data": {
      "text/plain": [
       "array([0, 0, 0, 0, 0, 0, 0, 1, 0, 0, 0, 1, 0, 0, 0, 0, 0, 0, 0, 0, 0, 1,\n",
       "       1, 0, 1, 0, 0, 0, 0, 0, 1, 0, 0, 0, 0, 0, 0, 1, 0, 0, 1, 0, 1, 0,\n",
       "       1, 1, 0, 0, 0, 1, 0, 0, 0, 0, 1, 0, 1, 0, 1, 0, 0, 0, 0, 1, 1, 0,\n",
       "       0, 0, 1, 1, 0, 0, 0, 1, 0, 0, 1, 0, 1, 0, 0, 0, 1, 1, 0, 1, 0, 0,\n",
       "       0, 0, 0, 0, 1, 0, 0, 1, 0, 0, 1, 0, 0, 0, 0, 0, 0, 0, 0, 0, 0, 0,\n",
       "       0, 0, 1, 1, 1, 1, 1, 0, 0, 0, 1, 0, 0, 0, 1, 0, 0, 0, 1, 1, 0, 0,\n",
       "       0, 0, 0, 0, 0, 0, 1, 0, 0, 1, 0, 0, 1, 1, 1, 0, 0, 0, 0, 1, 0, 0,\n",
       "       1, 0, 1, 0, 0, 1, 1, 1, 0, 0, 0, 0, 0, 0, 1, 0, 0, 0, 1, 1, 0, 0,\n",
       "       0, 0, 0, 0, 0, 0, 1, 1, 0, 0, 0, 1, 0, 1, 1, 1, 1, 1, 1, 0, 0, 1,\n",
       "       1, 0, 1, 0, 0, 0, 0, 0, 0, 0, 0, 0, 0, 0, 1, 1, 1, 0, 0, 0, 0, 0,\n",
       "       0, 1, 0, 0, 1, 0, 0, 0, 0, 1, 1, 0, 0, 0, 0, 0, 1, 0, 1, 0, 0, 0,\n",
       "       0, 1, 0, 1, 0, 0, 0, 0, 0, 0, 1, 1, 0, 1, 1, 1, 1, 0, 0, 1, 0, 0,\n",
       "       0, 0, 0, 0, 0, 1, 0, 0, 0, 0, 0, 0, 0, 1, 1, 0, 0, 0, 0, 1, 0, 0,\n",
       "       0, 1, 1, 1, 0, 0, 1, 0, 0, 0, 1, 0, 0, 0, 1, 0, 0, 1, 0, 0, 0, 0,\n",
       "       1, 0, 0, 0, 0, 1, 0, 1, 0, 0, 1, 0, 1, 1, 0, 0, 0, 1, 0, 1, 0, 1,\n",
       "       0])"
      ]
     },
     "execution_count": 19,
     "metadata": {},
     "output_type": "execute_result"
    }
   ],
   "source": [
    "sgd_results = sgd_fit.predict(test_df_X)\n",
    "sgd_results"
   ]
  },
  {
   "cell_type": "markdown",
   "id": "be2eb1ef-e7cc-4a91-815d-1df459527458",
   "metadata": {},
   "source": [
    "As we can see, the accuracy is nearly 50% which means that the classifier is kind to toss a coin to decide the result, this is because the problem is non-linear while the classifier is linear, it even behaves worst than SVM since SVM used RBF kernel which is appropiate for non-linear data"
   ]
  },
  {
   "cell_type": "markdown",
   "id": "26e2e381-83cd-4e17-8e17-d240fb683e96",
   "metadata": {},
   "source": [
    "## Decision Tree\n",
    "Decision tree's classifiers use if-then-else sequential question on the dataset in order to gain general knowledge about the data distribution, being a non-linear algorithm, is more suitable for our problem."
   ]
  },
  {
   "cell_type": "code",
   "execution_count": 20,
   "id": "e95cf6b9-c91c-4df2-8235-f618e10aaaad",
   "metadata": {},
   "outputs": [
    {
     "data": {
      "text/plain": [
       "1.0"
      ]
     },
     "execution_count": 20,
     "metadata": {},
     "output_type": "execute_result"
    }
   ],
   "source": [
    "dt = tree.DecisionTreeClassifier()\n",
    "fit_tree = dt.fit(train_df_X, train_df_Y)\n",
    "dt.score(train_df_X, train_df_Y)"
   ]
  },
  {
   "cell_type": "code",
   "execution_count": 21,
   "id": "047eb9a1-26e8-4c5f-aadd-88f5c3de14e1",
   "metadata": {},
   "outputs": [
    {
     "data": {
      "text/plain": [
       "array([0, 0, 0, 0, 0, 1, 0, 0, 1, 0, 0, 1, 0, 1, 1, 0, 0, 0, 0, 1, 1, 0,\n",
       "       1, 0, 1, 0, 0, 0, 0, 1, 0, 0, 0, 0, 0, 0, 1, 1, 0, 1, 1, 1, 0, 0,\n",
       "       0, 0, 1, 0, 0, 1, 1, 0, 0, 1, 1, 1, 0, 1, 0, 1, 0, 0, 0, 1, 1, 0,\n",
       "       0, 1, 1, 0, 1, 1, 0, 1, 0, 1, 0, 0, 1, 0, 1, 0, 1, 0, 0, 0, 0, 0,\n",
       "       0, 0, 1, 1, 1, 0, 1, 0, 1, 1, 1, 0, 0, 0, 0, 0, 0, 1, 0, 0, 0, 0,\n",
       "       0, 0, 0, 1, 1, 0, 0, 0, 0, 0, 1, 1, 1, 0, 1, 1, 1, 1, 1, 0, 0, 0,\n",
       "       1, 0, 0, 0, 0, 0, 1, 1, 1, 1, 1, 0, 0, 1, 1, 0, 1, 1, 0, 0, 1, 0,\n",
       "       1, 0, 1, 0, 0, 1, 0, 1, 0, 0, 0, 1, 0, 0, 1, 0, 1, 0, 1, 1, 1, 0,\n",
       "       1, 0, 1, 0, 0, 0, 1, 0, 0, 0, 0, 0, 0, 1, 1, 0, 1, 0, 0, 1, 0, 1,\n",
       "       1, 0, 0, 0, 0, 0, 1, 0, 0, 0, 1, 0, 0, 1, 0, 1, 1, 0, 0, 0, 0, 0,\n",
       "       1, 0, 1, 0, 0, 0, 1, 0, 0, 1, 0, 0, 0, 0, 0, 1, 1, 1, 1, 1, 0, 0,\n",
       "       0, 1, 1, 1, 0, 0, 0, 0, 0, 0, 0, 1, 0, 1, 0, 0, 0, 1, 0, 0, 0, 1,\n",
       "       0, 0, 0, 0, 0, 1, 0, 0, 0, 0, 1, 1, 0, 0, 0, 1, 1, 1, 0, 1, 1, 1,\n",
       "       0, 1, 0, 1, 0, 0, 1, 1, 0, 1, 1, 0, 0, 0, 1, 0, 0, 1, 0, 0, 0, 1,\n",
       "       0, 1, 1, 0, 0, 1, 0, 1, 0, 0, 1, 0, 1, 1, 0, 0, 0, 0, 0, 1, 0, 1,\n",
       "       0])"
      ]
     },
     "execution_count": 21,
     "metadata": {},
     "output_type": "execute_result"
    }
   ],
   "source": [
    "dt.predict(test_df_X)"
   ]
  },
  {
   "cell_type": "markdown",
   "id": "cd1f9771-71da-42d9-8e11-6d85ec8c21eb",
   "metadata": {},
   "source": [
    "We can see that the decision tree gets 100% accuracy, something rare, and probably indicating that the tree is overfitting the data, in any case seems to be the algorith that achieves the best result"
   ]
  },
  {
   "cell_type": "markdown",
   "id": "1c83139a-4bc8-42ab-bc8d-2f2bb5c3a7c4",
   "metadata": {},
   "source": [
    "## Random Forest\n",
    "Random forest basically is a collection of decison trees that throw results and the random forest try to mix the result and get the better output."
   ]
  },
  {
   "cell_type": "code",
   "execution_count": 22,
   "id": "2a52079f-52e5-4ac8-a00d-2ce69718a9ab",
   "metadata": {},
   "outputs": [
    {
     "data": {
      "text/plain": [
       "1.0"
      ]
     },
     "execution_count": 22,
     "metadata": {},
     "output_type": "execute_result"
    }
   ],
   "source": [
    "rfc = RandomForestClassifier()\n",
    "rfc_fit = rfc.fit(train_df_X, train_df_Y)\n",
    "rfc_fit.score(train_df_X, train_df_Y)"
   ]
  },
  {
   "cell_type": "code",
   "execution_count": 23,
   "id": "8de9640d-47fc-432e-beeb-bec1dc241bbe",
   "metadata": {},
   "outputs": [
    {
     "data": {
      "text/plain": [
       "array([0, 1, 0, 1, 1, 1, 1, 1, 1, 0, 0, 1, 0, 1, 1, 0, 1, 1, 1, 0, 1, 0,\n",
       "       1, 0, 1, 1, 1, 0, 0, 1, 1, 1, 1, 1, 0, 0, 1, 1, 0, 1, 1, 1, 1, 0,\n",
       "       1, 1, 0, 0, 0, 1, 0, 0, 0, 1, 1, 1, 0, 0, 1, 1, 0, 1, 0, 1, 1, 1,\n",
       "       0, 1, 1, 0, 0, 1, 1, 1, 1, 1, 1, 0, 1, 0, 1, 0, 1, 1, 0, 1, 1, 0,\n",
       "       0, 0, 1, 1, 1, 1, 1, 0, 1, 1, 1, 0, 1, 0, 0, 0, 0, 0, 0, 0, 0, 0,\n",
       "       1, 0, 1, 1, 0, 1, 0, 0, 0, 1, 1, 1, 1, 0, 1, 1, 0, 1, 1, 1, 0, 1,\n",
       "       1, 0, 1, 1, 0, 0, 1, 1, 0, 1, 1, 0, 0, 1, 1, 0, 1, 0, 0, 1, 1, 0,\n",
       "       1, 0, 1, 1, 0, 1, 0, 1, 0, 1, 1, 1, 0, 0, 0, 1, 1, 0, 0, 1, 1, 0,\n",
       "       1, 0, 1, 0, 0, 0, 1, 1, 0, 0, 0, 0, 1, 1, 1, 1, 1, 0, 0, 1, 0, 1,\n",
       "       1, 0, 1, 0, 1, 0, 1, 0, 0, 0, 1, 1, 0, 1, 0, 1, 1, 0, 0, 0, 0, 1,\n",
       "       1, 1, 1, 0, 1, 1, 1, 0, 0, 1, 0, 0, 0, 0, 1, 1, 1, 1, 1, 1, 1, 1,\n",
       "       1, 1, 1, 0, 1, 0, 0, 0, 0, 0, 1, 1, 0, 1, 0, 1, 0, 1, 1, 1, 0, 0,\n",
       "       1, 0, 0, 0, 0, 1, 1, 0, 1, 0, 1, 1, 0, 0, 0, 1, 0, 1, 1, 0, 1, 1,\n",
       "       1, 1, 1, 1, 0, 1, 1, 0, 0, 1, 1, 1, 1, 0, 1, 1, 1, 1, 0, 0, 0, 0,\n",
       "       1, 1, 1, 0, 0, 1, 0, 1, 0, 0, 1, 0, 1, 0, 0, 0, 1, 0, 1, 1, 1, 1,\n",
       "       0])"
      ]
     },
     "execution_count": 23,
     "metadata": {},
     "output_type": "execute_result"
    }
   ],
   "source": [
    "rfc_fit.predict(test_df_X)"
   ]
  },
  {
   "cell_type": "markdown",
   "id": "c189e349-bf46-4951-8f53-801f2fc0e418",
   "metadata": {},
   "source": [
    "## Neural Network\n",
    "Neural networks is the mainstream in machine learning, its a composition of functions separated in layers which interconnect using a layer output as input for the next layer, in the final layer can use an activation function to output a result, in the binary case we want to use sigmoid function which will always output a number between 0 and 1.\n",
    "\n",
    "We will use pytorch as deep learning framework"
   ]
  },
  {
   "cell_type": "code",
   "execution_count": 24,
   "id": "07b0f1f3-0ebf-4844-9e3d-753a0d173810",
   "metadata": {},
   "outputs": [
    {
     "name": "stdout",
     "output_type": "stream",
     "text": [
      "Using cpu device\n"
     ]
    }
   ],
   "source": [
    "device = (\n",
    "    \"cuda\"\n",
    "    if torch.cuda.is_available()\n",
    "    else \"mps\"\n",
    "    if torch.backends.mps.is_available()\n",
    "    else \"cpu\"\n",
    ")\n",
    "print(f\"Using {device} device\")"
   ]
  },
  {
   "cell_type": "code",
   "execution_count": 25,
   "id": "607e3529-ffdf-4db1-a316-1cd675307af6",
   "metadata": {},
   "outputs": [],
   "source": [
    "total_samples = train_df_X.shape[0]\n",
    "train_split = int(0.7 * total_samples)\n",
    "dev_split = total_samples - train_split"
   ]
  },
  {
   "cell_type": "code",
   "execution_count": 26,
   "id": "d0132b6c-d23c-46b2-a1ee-954a90b416bf",
   "metadata": {},
   "outputs": [],
   "source": [
    "X_train = torch.tensor(train_df_X[:train_split].values)\n",
    "Y_train = torch.tensor(train_df_Y[:train_split].values).float()\n",
    "X_dev = torch.tensor(train_df_X[dev_split:].values)\n",
    "Y_dev = torch.tensor(train_df_Y[dev_split:].values).float()"
   ]
  },
  {
   "cell_type": "code",
   "execution_count": 27,
   "id": "8094b71a-966b-40c2-854c-9f7acfdba740",
   "metadata": {},
   "outputs": [],
   "source": [
    "class SimpleNet(nn.Module):\n",
    "    def __init__(self):\n",
    "        super().__init__()\n",
    "        self.net = nn.Sequential(\n",
    "            nn.Linear(9, 128),\n",
    "            nn.ReLU(),\n",
    "            nn.Linear(128, 64),\n",
    "            nn.ReLU(),\n",
    "            nn.Linear(64, 32),\n",
    "            nn.ReLU(),\n",
    "            nn.Linear(32,1),\n",
    "            nn.Sigmoid()\n",
    "        )\n",
    "\n",
    "    def forward(self, input):\n",
    "        return self.net(input)"
   ]
  },
  {
   "cell_type": "code",
   "execution_count": 28,
   "id": "eab22f20-e28e-4a8e-b9f1-e3ceedd736fc",
   "metadata": {},
   "outputs": [],
   "source": [
    "def train(x, y, model, optimizer, loss_fn):\n",
    "    model.train()\n",
    "\n",
    "    loss_acum = 0\n",
    "    for i in range(len(x)):\n",
    "        pred = model(x[i].float())\n",
    "        label = torch.tensor([y[i]]).float()\n",
    "\n",
    "        loss = loss_fn(pred, label)\n",
    "        loss.backward()\n",
    "        \n",
    "        optimizer.step()\n",
    "        optimizer.zero_grad()\n",
    "\n",
    "        loss_acum += loss.item()\n",
    "\n",
    "    avg_loss = loss_acum / len(x)\n",
    "    return loss_acum, avg_loss"
   ]
  },
  {
   "cell_type": "code",
   "execution_count": 29,
   "id": "390d16ad-7402-44ac-9338-84ef96949616",
   "metadata": {},
   "outputs": [],
   "source": [
    "def test(x, y, model, loss_fn):\n",
    "    model.eval()\n",
    "\n",
    "    loss_acum = 0\n",
    "    correct = 0\n",
    "    with torch.no_grad():\n",
    "        for i in range(len(x)):\n",
    "            pred = model(x[i].float())\n",
    "            true_label = torch.tensor([y[i]]).float()\n",
    "\n",
    "            test_loss = loss_fn(pred, true_label)\n",
    "            loss_acum += test_loss.item()\n",
    "            if pred.round() == true_label:\n",
    "                correct += 1\n",
    "\n",
    "    avg_loss = loss_acum / len(x)\n",
    "    accuracy = correct / len(x)\n",
    "\n",
    "    return avg_loss, accuracy"
   ]
  },
  {
   "cell_type": "code",
   "execution_count": null,
   "id": "8791aa53-4c1b-482e-85f3-6311bc60e41e",
   "metadata": {},
   "outputs": [],
   "source": [
    "model = SimpleNet().to(device)\n",
    "print(model)\n",
    "\n",
    "loss_fn = nn.BCELoss()\n",
    "optimizer = SGD(model.parameters(), lr=0.001)\n",
    "\n",
    "for i in range(1000):\n",
    "    \n",
    "    loss_acum, avg_loss = train(X_train, Y_train, model, optimizer, loss_fn)\n",
    "    test_loss, acc = test(X_dev, Y_dev, model, loss_fn)\n",
    "    if i % 20 == 0:\n",
    "        print(f\"epoch {i} \" + \"=\"*70)    \n",
    "        print(f\"Train acumulated loss: {loss_acum} -- Train average loss: {avg_loss}\")\n",
    "        print(f\"Test loss: {test_loss} -- Test accuracy: {acc}\")"
   ]
  },
  {
   "cell_type": "markdown",
   "id": "e7b5a390-140a-43e1-8689-e3cb4e037d73",
   "metadata": {},
   "source": [
    "## Neural net results\n",
    "We can see that the most basic neural net implementation (no batch training nor regularization nor complex layers) can achieve a 78% accuracy on data never seen by the network"
   ]
  },
  {
   "cell_type": "markdown",
   "id": "e38062c6-cc63-49a4-ad50-bfc5e2af6683",
   "metadata": {},
   "source": [
    "# Data Scaling\n",
    "We have seen the result for practically the raw data. It is common in machine learning to standardize and normalize inputs. Normalizing helps with the scale of the input, all features should be in the same scale (something like \"play with the same rules\"). All different models use maths to extract pattern and predictions from the input data, this operations can be heavily distorsionated if the inputs are not in the same scale. It is the model who with training should update parameters in order to assign weights to different features.\n",
    "\n",
    "It is helpful knowing the datadistribution of each feature for chosing a scaling method."
   ]
  },
  {
   "cell_type": "code",
   "execution_count": 33,
   "id": "840e25e7-8e05-475d-9c4d-29006c1719b0",
   "metadata": {},
   "outputs": [
    {
     "data": {
      "image/png": "[encoded data removed]",
      "text/plain": [
       "<Figure size 500x500 with 1 Axes>"
      ]
     },
     "metadata": {},
     "output_type": "display_data"
    },
    {
     "data": {
      "image/png": "[encoded data removed]",
      "text/plain": [
       "<Figure size 500x500 with 1 Axes>"
      ]
     },
     "metadata": {},
     "output_type": "display_data"
    },
    {
     "data": {
      "image/png": "[encoded data removed]",
      "text/plain": [
       "<Figure size 500x500 with 1 Axes>"
      ]
     },
     "metadata": {},
     "output_type": "display_data"
    },
    {
     "data": {
      "image/png": "[encoded data removed]",
      "text/plain": [
       "<Figure size 500x500 with 1 Axes>"
      ]
     },
     "metadata": {},
     "output_type": "display_data"
    },
    {
     "data": {
      "image/png": "[encoded data removed]",
      "text/plain": [
       "<Figure size 500x500 with 1 Axes>"
      ]
     },
     "metadata": {},
     "output_type": "display_data"
    },
    {
     "data": {
      "image/png": "[encoded data removed]",
      "text/plain": [
       "<Figure size 500x500 with 1 Axes>"
      ]
     },
     "metadata": {},
     "output_type": "display_data"
    },
    {
     "data": {
      "image/png": "[encoded data removed]",
      "text/plain": [
       "<Figure size 500x500 with 1 Axes>"
      ]
     },
     "metadata": {},
     "output_type": "display_data"
    },
    {
     "data": {
      "image/png": "[encoded data removed]",
      "text/plain": [
       "<Figure size 500x500 with 1 Axes>"
      ]
     },
     "metadata": {},
     "output_type": "display_data"
    },
    {
     "data": {
      "image/png": "[encoded data removed]",
      "text/plain": [
       "<Figure size 500x500 with 1 Axes>"
      ]
     },
     "metadata": {},
     "output_type": "display_data"
    }
   ],
   "source": [
    "for column in train_df_X.columns:\n",
    "    sns.displot(train_df_X[column], kde=False, color='red', bins=len(train_df_X[column].unique()))"
   ]
  },
  {
   "cell_type": "markdown",
   "id": "672e655f-a63d-40cb-8da0-c9826bf92c09",
   "metadata": {},
   "source": [
    "We can see how only age feature is representing a normal distribution which is a perfect distribution to apply data standardization. There are some features that represent label encoders so it difficultly can be shaped as normal distribution. Anyways this features must keep the label encoding so we should not apply standardization to this features."
   ]
  },
  {
   "cell_type": "code",
   "execution_count": 51,
   "id": "cf7be87d-77fb-4e62-a893-b765f77e41c0",
   "metadata": {},
   "outputs": [],
   "source": [
    "to_scale_features = ['Age', 'Fare', 'Cabin', 'Ticket']"
   ]
  },
  {
   "cell_type": "code",
   "execution_count": 52,
   "id": "fcef56ff-58c9-457e-8a19-12a93087f516",
   "metadata": {},
   "outputs": [],
   "source": [
    "scaler = StandardScaler()"
   ]
  },
  {
   "cell_type": "code",
   "execution_count": 55,
   "id": "2fec5d88-4d82-4786-a287-1d8edd39bd00",
   "metadata": {},
   "outputs": [
    {
     "name": "stdout",
     "output_type": "stream",
     "text": [
      "     Pclass  Sex       Age  SibSp  Parch    Ticket      Fare     Cabin  \\\n",
      "0         3    1 -0.530377      1      0  0.922675 -0.518978  0.485988   \n",
      "1         1    0  0.571831      1      0  1.281724  0.691897 -1.272974   \n",
      "2         3    0 -0.254825      0      0  1.640772 -0.506214  0.485988   \n",
      "3         1    0  0.365167      1      0 -1.408681  0.348049 -1.965898   \n",
      "4         3    1  0.365167      0      0  0.671833 -0.503850  0.485988   \n",
      "..      ...  ...       ...    ...    ...       ...       ...       ...   \n",
      "885       3    0  0.640719      0      5  0.711181 -0.105320  0.485988   \n",
      "886       2    1 -0.185937      0      0 -1.152920 -0.410245  0.485988   \n",
      "887       1    0 -0.737041      0      0 -1.580828 -0.088774 -2.632171   \n",
      "889       1    1 -0.254825      0      0 -1.610338 -0.088774 -1.832643   \n",
      "890       3    1  0.158503      0      0  0.642322 -0.509523  0.485988   \n",
      "\n",
      "     Embarked  \n",
      "0           2  \n",
      "1           0  \n",
      "2           2  \n",
      "3           2  \n",
      "4           2  \n",
      "..        ...  \n",
      "885         1  \n",
      "886         2  \n",
      "887         2  \n",
      "889         0  \n",
      "890         1  \n",
      "\n",
      "[714 rows x 9 columns]\n"
     ]
    },
    {
     "name": "stderr",
     "output_type": "stream",
     "text": [
      "/tmp/ipykernel_5582/1155480136.py:1: SettingWithCopyWarning: \n",
      "A value is trying to be set on a copy of a slice from a DataFrame.\n",
      "Try using .loc[row_indexer,col_indexer] = value instead\n",
      "\n",
      "See the caveats in the documentation: https://pandas.pydata.org/pandas-docs/stable/user_guide/indexing.html#returning-a-view-versus-a-copy\n",
      "  train_df_X[to_scale_features] = scaler.fit_transform(train_df_X[to_scale_features])\n",
      "/tmp/ipykernel_5582/1155480136.py:2: SettingWithCopyWarning: \n",
      "A value is trying to be set on a copy of a slice from a DataFrame.\n",
      "Try using .loc[row_indexer,col_indexer] = value instead\n",
      "\n",
      "See the caveats in the documentation: https://pandas.pydata.org/pandas-docs/stable/user_guide/indexing.html#returning-a-view-versus-a-copy\n",
      "  test_df_X[to_scale_features] = scaler.fit_transform(test_df_X[to_scale_features])\n"
     ]
    }
   ],
   "source": [
    "train_df_X[to_scale_features] = scaler.fit_transform(train_df_X[to_scale_features])\n",
    "test_df_X[to_scale_features] = scaler.fit_transform(test_df_X[to_scale_features])"
   ]
  },
  {
   "cell_type": "markdown",
   "id": "d8260352-83f7-47e7-8f42-5bceb4ac580e",
   "metadata": {},
   "source": [
    "Now we will reply the sequence of algorithms but with standardized data and check if there is any improvement."
   ]
  },
  {
   "cell_type": "markdown",
   "id": "e2b3690e-8c87-49b1-872c-e2afded4368c",
   "metadata": {},
   "source": [
    "## KNN"
   ]
  },
  {
   "cell_type": "code",
   "execution_count": 60,
   "id": "ada68c22-bbe7-4028-bda0-42aac7268d20",
   "metadata": {},
   "outputs": [
    {
     "data": {
      "text/plain": [
       "0.8781512605042017"
      ]
     },
     "execution_count": 60,
     "metadata": {},
     "output_type": "execute_result"
    }
   ],
   "source": [
    "knn = KNeighborsClassifier(n_neighbors=3)\n",
    "fit_X = knn.fit(train_df_X, train_df_Y)\n",
    "fit_X.score(train_df_X, train_df_Y)"
   ]
  },
  {
   "cell_type": "code",
   "execution_count": 62,
   "id": "629f2a6a-99da-4e64-a783-861158b44d27",
   "metadata": {},
   "outputs": [],
   "source": [
    "knn_scaled_pred = fit_X.predict(test_df_X)"
   ]
  },
  {
   "cell_type": "markdown",
   "id": "4e675ca1-df0a-492a-9696-df2e74d6d76e",
   "metadata": {},
   "source": [
    "It improved from 83% accuracy to 88% accuracy on training data"
   ]
  },
  {
   "cell_type": "markdown",
   "id": "a5e6733d-f220-4c81-8602-2fbf150a53e0",
   "metadata": {},
   "source": [
    "## SVM Classifier\n",
    "Standardization also helps in algorithms such as PCA where data distribution is a core concept. We will then apply PCA to the scaled dataset and plot the result, just to see the difference with the unscaled data plot."
   ]
  },
  {
   "cell_type": "code",
   "execution_count": 63,
   "id": "b5407f27-8448-4010-8480-73a45334c269",
   "metadata": {},
   "outputs": [
    {
     "data": {
      "text/plain": [
       "<matplotlib.collections.PathCollection at 0x7efd8257d900>"
      ]
     },
     "execution_count": 63,
     "metadata": {},
     "output_type": "execute_result"
    },
    {
     "data": {
      "image/png": "[encoded data removed]",
      "text/plain": [
       "<Figure size 640x480 with 1 Axes>"
      ]
     },
     "metadata": {},
     "output_type": "display_data"
    }
   ],
   "source": [
    "pca = PCA(n_components=2)\n",
    "reduced_X = pd.DataFrame(pca.fit_transform(train_df_X), columns=[\"comp1\", \"comp2\"])\n",
    "\n",
    "colors = np.where(train_df_Y > 0, 'k', 'r')\n",
    "plt.scatter(reduced_X['comp1'], reduced_X['comp2'], s=20, c=colors)"
   ]
  },
  {
   "cell_type": "markdown",
   "id": "38389a7e-3098-465d-bf8a-0269c6f49a25",
   "metadata": {},
   "source": [
    "Now we can extract some information from the plot, the data is more densely distributed and we can see that most of the red dots accumulate at the left of the plot while the black dots are more centered"
   ]
  },
  {
   "cell_type": "code",
   "execution_count": 65,
   "id": "c8214d80-f62c-4667-90bc-4e7370c14f57",
   "metadata": {},
   "outputs": [
    {
     "data": {
      "text/plain": [
       "0.8277310924369747"
      ]
     },
     "execution_count": 65,
     "metadata": {},
     "output_type": "execute_result"
    }
   ],
   "source": [
    "svm = SVC()\n",
    "svm_fit = svm.fit(train_df_X, train_df_Y)\n",
    "svm_score = svm_fit.score(train_df_X, train_df_Y)\n",
    "svm_score"
   ]
  },
  {
   "cell_type": "code",
   "execution_count": 66,
   "id": "ce97a4af-81d4-4f52-8b0d-a7272b97e17f",
   "metadata": {},
   "outputs": [],
   "source": [
    "svm_scaled_pred = svm_fit.predict(test_df_X)"
   ]
  },
  {
   "cell_type": "markdown",
   "id": "459aa87c-885b-4437-854b-f15e3add9fce",
   "metadata": {},
   "source": [
    "Here the improvement is even better, we go from 67% acc to 82,7%"
   ]
  },
  {
   "cell_type": "markdown",
   "id": "22904947-9c14-4ea9-ae9f-77197b3cdda3",
   "metadata": {},
   "source": [
    "## SGD"
   ]
  },
  {
   "cell_type": "code",
   "execution_count": 75,
   "id": "c11ad0bc-59ba-491d-b61e-0f02960adb29",
   "metadata": {},
   "outputs": [
    {
     "data": {
      "text/plain": [
       "0.7801120448179272"
      ]
     },
     "execution_count": 75,
     "metadata": {},
     "output_type": "execute_result"
    }
   ],
   "source": [
    "sgd = SGDClassifier(loss='hinge', penalty='l2')\n",
    "sgd_fit = sgd.fit(train_df_X, train_df_Y)\n",
    "sgd_score = sgd.score(train_df_X, train_df_Y)\n",
    "sgd_score"
   ]
  },
  {
   "cell_type": "code",
   "execution_count": 76,
   "id": "7edc15ac-dbdd-424f-aa19-512adafecadb",
   "metadata": {},
   "outputs": [],
   "source": [
    "sgd_scale_pred = sgd.predict(test_df_X)"
   ]
  },
  {
   "cell_type": "markdown",
   "id": "54a1a572-cfca-412d-8e00-eb1034085d4d",
   "metadata": {},
   "source": [
    "## Decision tree"
   ]
  },
  {
   "cell_type": "code",
   "execution_count": 78,
   "id": "950d2938-36bd-4ef4-ba62-4b68a9771ae0",
   "metadata": {},
   "outputs": [
    {
     "data": {
      "text/plain": [
       "1.0"
      ]
     },
     "execution_count": 78,
     "metadata": {},
     "output_type": "execute_result"
    }
   ],
   "source": [
    "dt = tree.DecisionTreeClassifier()\n",
    "dt_fit = dt.fit(train_df_X, train_df_Y)\n",
    "dt_score = dt.score(train_df_X, train_df_Y)\n",
    "dt_score"
   ]
  },
  {
   "cell_type": "code",
   "execution_count": 79,
   "id": "6c24c778-8c5f-458b-8d56-2ea2bcf6b3d8",
   "metadata": {},
   "outputs": [],
   "source": [
    "dt_scaled_pred = dt.predict(test_df_X)"
   ]
  },
  {
   "cell_type": "markdown",
   "id": "bdace4db-94ff-4779-8bd7-bcfea84326c0",
   "metadata": {},
   "source": [
    "## Random forest"
   ]
  },
  {
   "cell_type": "code",
   "execution_count": 80,
   "id": "c9d6810f-8fa3-461d-b2fa-908c88d4834d",
   "metadata": {},
   "outputs": [
    {
     "data": {
      "text/plain": [
       "1.0"
      ]
     },
     "execution_count": 80,
     "metadata": {},
     "output_type": "execute_result"
    }
   ],
   "source": [
    "rf = RandomForestClassifier()\n",
    "rf_fit = rf.fit(train_df_X, train_df_Y)\n",
    "rf_score = rf.score(train_df_X, train_df_Y)\n",
    "rf_score"
   ]
  },
  {
   "cell_type": "code",
   "execution_count": 81,
   "id": "b06abf53-0460-4f9a-8b06-fbdbf045cb4c",
   "metadata": {},
   "outputs": [],
   "source": [
    "rf_scale_pred = rf.predict(test_df_X)"
   ]
  },
  {
   "cell_type": "markdown",
   "id": "c9922463-3737-493f-9b52-d4cfefbe920a",
   "metadata": {},
   "source": [
    "## Neural network"
   ]
  },
  {
   "cell_type": "code",
   "execution_count": 85,
   "id": "ca0e1d01-9f89-4026-ac95-995fd0a9fb18",
   "metadata": {},
   "outputs": [],
   "source": [
    "X_train = torch.tensor(train_df_X[:train_split].values)\n",
    "Y_train = torch.tensor(train_df_Y[:train_split].values).float()\n",
    "X_dev = torch.tensor(train_df_X[dev_split:].values)\n",
    "Y_dev = torch.tensor(train_df_Y[dev_split:].values).float()\n",
    "\n",
    "X_test = torch.tensor(test_df_X.values) "
   ]
  },
  {
   "cell_type": "code",
   "execution_count": 83,
   "id": "169e094b-6692-4e2f-82fc-a2c46dc26ad7",
   "metadata": {},
   "outputs": [
    {
     "name": "stdout",
     "output_type": "stream",
     "text": [
      "SimpleNet(\n",
      "  (net): Sequential(\n",
      "    (0): Linear(in_features=9, out_features=128, bias=True)\n",
      "    (1): ReLU()\n",
      "    (2): Linear(in_features=128, out_features=64, bias=True)\n",
      "    (3): ReLU()\n",
      "    (4): Linear(in_features=64, out_features=32, bias=True)\n",
      "    (5): ReLU()\n",
      "    (6): Linear(in_features=32, out_features=1, bias=True)\n",
      "    (7): Sigmoid()\n",
      "  )\n",
      ")\n",
      "epoch 0 ======================================================================\n",
      "Train acumulated loss: 347.1928696036339 -- Train average loss: 0.6957772937948574\n",
      "Test loss: 0.6859633699208797 -- Test accuracy: 0.5891783567134269\n",
      "epoch 20 ======================================================================\n",
      "Train acumulated loss: 270.53322272002697 -- Train average loss: 0.5421507469339217\n",
      "Test loss: 0.5235938668131589 -- Test accuracy: 0.7715430861723447\n",
      "epoch 40 ======================================================================\n",
      "Train acumulated loss: 227.1154699511826 -- Train average loss: 0.45514122234705934\n",
      "Test loss: 0.43953477311319483 -- Test accuracy: 0.7855711422845691\n",
      "epoch 60 ======================================================================\n",
      "Train acumulated loss: 214.16510622948408 -- Train average loss: 0.42918858963824463\n",
      "Test loss: 0.41872631343369016 -- Test accuracy: 0.8036072144288577\n",
      "epoch 80 ======================================================================\n",
      "Train acumulated loss: 204.65855662804097 -- Train average loss: 0.4101373880321462\n",
      "Test loss: 0.4044865864424225 -- Test accuracy: 0.8216432865731463\n",
      "epoch 100 ======================================================================\n",
      "Train acumulated loss: 196.73987852036953 -- Train average loss: 0.39426829362799504\n",
      "Test loss: 0.3934376165905374 -- Test accuracy: 0.8396793587174348\n",
      "epoch 120 ======================================================================\n",
      "Train acumulated loss: 189.77120671095327 -- Train average loss: 0.3803030194608282\n",
      "Test loss: 0.38500118902035224 -- Test accuracy: 0.843687374749499\n",
      "epoch 140 ======================================================================\n",
      "Train acumulated loss: 183.049068860244 -- Train average loss: 0.36683180132313425\n",
      "Test loss: 0.37758542851307886 -- Test accuracy: 0.843687374749499\n",
      "epoch 160 ======================================================================\n",
      "Train acumulated loss: 176.34988879575394 -- Train average loss: 0.353406590773054\n",
      "Test loss: 0.3717682797056744 -- Test accuracy: 0.8476953907815631\n",
      "epoch 180 ======================================================================\n",
      "Train acumulated loss: 170.1502709039487 -- Train average loss: 0.34098250682154047\n",
      "Test loss: 0.36699425394624424 -- Test accuracy: 0.8476953907815631\n",
      "epoch 200 ======================================================================\n",
      "Train acumulated loss: 164.09937997360248 -- Train average loss: 0.32885647289299097\n",
      "Test loss: 0.36519227464688486 -- Test accuracy: 0.8496993987975952\n",
      "epoch 220 ======================================================================\n",
      "Train acumulated loss: 158.53835830715252 -- Train average loss: 0.31771214089609723\n",
      "Test loss: 0.36534007035963606 -- Test accuracy: 0.8537074148296593\n",
      "epoch 240 ======================================================================\n",
      "Train acumulated loss: 153.55027127133508 -- Train average loss: 0.30771597449165344\n",
      "Test loss: 0.366938215360949 -- Test accuracy: 0.8557114228456913\n",
      "epoch 260 ======================================================================\n",
      "Train acumulated loss: 148.04333202961425 -- Train average loss: 0.2966800241074434\n",
      "Test loss: 0.36829138896690505 -- Test accuracy: 0.8597194388777555\n",
      "epoch 280 ======================================================================\n",
      "Train acumulated loss: 143.27893569107619 -- Train average loss: 0.2871321356534593\n",
      "Test loss: 0.37335510213065964 -- Test accuracy: 0.8597194388777555\n",
      "epoch 300 ======================================================================\n",
      "Train acumulated loss: 138.28127127865628 -- Train average loss: 0.2771167761095316\n",
      "Test loss: 0.3779447153540373 -- Test accuracy: 0.8617234468937875\n",
      "epoch 320 ======================================================================\n",
      "Train acumulated loss: 134.8132154584714 -- Train average loss: 0.2701667644458345\n",
      "Test loss: 0.38424649299087216 -- Test accuracy: 0.8577154308617234\n",
      "epoch 340 ======================================================================\n",
      "Train acumulated loss: 131.3389681309394 -- Train average loss: 0.26320434495178235\n",
      "Test loss: 0.39252354387716315 -- Test accuracy: 0.8577154308617234\n",
      "epoch 360 ======================================================================\n",
      "Train acumulated loss: 128.16747324076348 -- Train average loss: 0.2568486437690651\n",
      "Test loss: 0.4022626518967487 -- Test accuracy: 0.8617234468937875\n",
      "epoch 380 ======================================================================\n",
      "Train acumulated loss: 125.8723888649132 -- Train average loss: 0.2522492762823912\n",
      "Test loss: 0.4119889534133098 -- Test accuracy: 0.8577154308617234\n",
      "epoch 400 ======================================================================\n",
      "Train acumulated loss: 123.52566222131384 -- Train average loss: 0.24754641727718205\n",
      "Test loss: 0.42023001379288555 -- Test accuracy: 0.8597194388777555\n",
      "epoch 420 ======================================================================\n",
      "Train acumulated loss: 121.98639408435659 -- Train average loss: 0.24446171159189697\n",
      "Test loss: 0.43094885379083675 -- Test accuracy: 0.8557114228456913\n",
      "epoch 440 ======================================================================\n",
      "Train acumulated loss: 119.63835755554425 -- Train average loss: 0.23975622756622095\n",
      "Test loss: 0.44301016688993805 -- Test accuracy: 0.8577154308617234\n",
      "epoch 460 ======================================================================\n",
      "Train acumulated loss: 118.47451945985145 -- Train average loss: 0.2374238866930891\n",
      "Test loss: 0.45379081948102346 -- Test accuracy: 0.8597194388777555\n",
      "epoch 480 ======================================================================\n",
      "Train acumulated loss: 116.35972605980898 -- Train average loss: 0.23318582376715227\n",
      "Test loss: 0.46583894935514253 -- Test accuracy: 0.8597194388777555\n",
      "epoch 500 ======================================================================\n",
      "Train acumulated loss: 115.20037712494224 -- Train average loss: 0.23086247920830108\n",
      "Test loss: 0.4762501272039038 -- Test accuracy: 0.8597194388777555\n",
      "epoch 520 ======================================================================\n",
      "Train acumulated loss: 112.39651192598748 -- Train average loss: 0.2252435108737224\n",
      "Test loss: 0.48530051012358894 -- Test accuracy: 0.8577154308617234\n",
      "epoch 540 ======================================================================\n",
      "Train acumulated loss: 110.80465357400035 -- Train average loss: 0.2220534139759526\n",
      "Test loss: 0.5000058913866862 -- Test accuracy: 0.8597194388777555\n",
      "epoch 560 ======================================================================\n",
      "Train acumulated loss: 110.04927764347667 -- Train average loss: 0.22053963455606548\n",
      "Test loss: 0.5109195497525875 -- Test accuracy: 0.8557114228456913\n",
      "epoch 580 ======================================================================\n",
      "Train acumulated loss: 108.22919108125458 -- Train average loss: 0.21689216649550017\n",
      "Test loss: 0.52564417972328 -- Test accuracy: 0.8557114228456913\n",
      "epoch 600 ======================================================================\n",
      "Train acumulated loss: 106.05747641683948 -- Train average loss: 0.2125400328994779\n",
      "Test loss: 0.5372745666931226 -- Test accuracy: 0.8557114228456913\n",
      "epoch 620 ======================================================================\n",
      "Train acumulated loss: 104.30947084572719 -- Train average loss: 0.20903701572290018\n",
      "Test loss: 0.5471749500043069 -- Test accuracy: 0.8537074148296593\n",
      "epoch 640 ======================================================================\n",
      "Train acumulated loss: 102.98554817542609 -- Train average loss: 0.2063838640790102\n",
      "Test loss: 0.552217821003866 -- Test accuracy: 0.8557114228456913\n",
      "epoch 660 ======================================================================\n",
      "Train acumulated loss: 101.56883225670548 -- Train average loss: 0.20354475402145386\n",
      "Test loss: 0.5618610155015897 -- Test accuracy: 0.8617234468937875\n",
      "epoch 680 ======================================================================\n",
      "Train acumulated loss: 99.33606101344952 -- Train average loss: 0.19907026255200305\n",
      "Test loss: 0.5703664588116509 -- Test accuracy: 0.8637274549098196\n",
      "epoch 700 ======================================================================\n",
      "Train acumulated loss: 98.48233402533003 -- Train average loss: 0.19735938682430867\n",
      "Test loss: 0.5788365420417065 -- Test accuracy: 0.8637274549098196\n",
      "epoch 720 ======================================================================\n",
      "Train acumulated loss: 96.64224636585018 -- Train average loss: 0.19367183640450938\n",
      "Test loss: 0.5930220698960471 -- Test accuracy: 0.8597194388777555\n",
      "epoch 740 ======================================================================\n",
      "Train acumulated loss: 94.9317496841954 -- Train average loss: 0.19024398734307693\n",
      "Test loss: 0.6017946615302702 -- Test accuracy: 0.8657314629258517\n",
      "epoch 760 ======================================================================\n",
      "Train acumulated loss: 92.98432798290908 -- Train average loss: 0.18634133864310437\n",
      "Test loss: 0.6133545077097514 -- Test accuracy: 0.8677354709418837\n",
      "epoch 780 ======================================================================\n",
      "Train acumulated loss: 92.02577259228384 -- Train average loss: 0.18442038595648064\n",
      "Test loss: 0.622958057175305 -- Test accuracy: 0.8637274549098196\n",
      "epoch 800 ======================================================================\n",
      "Train acumulated loss: 91.88305459566999 -- Train average loss: 0.18413437794723445\n",
      "Test loss: 0.6315044379507094 -- Test accuracy: 0.8637274549098196\n",
      "epoch 820 ======================================================================\n",
      "Train acumulated loss: 90.02691709728006 -- Train average loss: 0.18041466352160332\n",
      "Test loss: 0.636083600703533 -- Test accuracy: 0.8657314629258517\n",
      "epoch 840 ======================================================================\n",
      "Train acumulated loss: 88.71943029052069 -- Train average loss: 0.1777944494800014\n",
      "Test loss: 0.6405363978769751 -- Test accuracy: 0.8657314629258517\n",
      "epoch 860 ======================================================================\n",
      "Train acumulated loss: 87.98410219960003 -- Train average loss: 0.17632084609138282\n",
      "Test loss: 0.648551272161348 -- Test accuracy: 0.8657314629258517\n",
      "epoch 880 ======================================================================\n",
      "Train acumulated loss: 85.59842144471253 -- Train average loss: 0.17153992273489485\n",
      "Test loss: 0.8120626687300416 -- Test accuracy: 0.8657314629258517\n",
      "epoch 900 ======================================================================\n",
      "Train acumulated loss: 84.47894667422362 -- Train average loss: 0.16929648632108943\n",
      "Test loss: 0.8200333286235872 -- Test accuracy: 0.8637274549098196\n",
      "epoch 920 ======================================================================\n",
      "Train acumulated loss: 83.41102549952225 -- Train average loss: 0.1671563637264975\n",
      "Test loss: 0.8212640677479875 -- Test accuracy: 0.8657314629258517\n",
      "epoch 940 ======================================================================\n",
      "Train acumulated loss: 83.11571348668765 -- Train average loss: 0.1665645560855464\n",
      "Test loss: 0.8230464601383862 -- Test accuracy: 0.8697394789579158\n",
      "epoch 960 ======================================================================\n",
      "Train acumulated loss: 81.58933506052524 -- Train average loss: 0.16350568148401853\n",
      "Test loss: 0.825073442142782 -- Test accuracy: 0.8697394789579158\n",
      "epoch 980 ======================================================================\n",
      "Train acumulated loss: 81.22992066776418 -- Train average loss: 0.16278541215984804\n",
      "Test loss: 0.8343413967059947 -- Test accuracy: 0.8677354709418837\n"
     ]
    }
   ],
   "source": [
    "model = SimpleNet().to(device)\n",
    "print(model)\n",
    "\n",
    "loss_fn = nn.BCELoss()\n",
    "optimizer = SGD(model.parameters(), lr=0.001)\n",
    "\n",
    "for i in range(1000):\n",
    "    \n",
    "    loss_acum, avg_loss = train(X_train, Y_train, model, optimizer, loss_fn)\n",
    "    test_loss, acc = test(X_dev, Y_dev, model, loss_fn)\n",
    "    if i % 20 == 0:\n",
    "        print(f\"epoch {i} \" + \"=\"*70)    \n",
    "        print(f\"Train acumulated loss: {loss_acum} -- Train average loss: {avg_loss}\")\n",
    "        print(f\"Test loss: {test_loss} -- Test accuracy: {acc}\")"
   ]
  },
  {
   "cell_type": "code",
   "execution_count": 95,
   "id": "ebfc688b-d58b-4e2d-b24f-35eb0ffd3daa",
   "metadata": {},
   "outputs": [],
   "source": [
    "def predict_dataset(X, model):\n",
    "    size = X.shape[0]\n",
    "    pred_tensor = torch.zeros(size)\n",
    "    \n",
    "    for i, row in enumerate(X):\n",
    "        pred = model(row.float())\n",
    "        int_pred = 0 if pred < .5 else 1\n",
    "        pred_tensor[i] = int(int_pred)\n",
    "\n",
    "    return pred_tensor.int()"
   ]
  },
  {
   "cell_type": "code",
   "execution_count": 96,
   "id": "c37109fe-886c-4c7d-bf77-540893d043d6",
   "metadata": {},
   "outputs": [
    {
     "data": {
      "text/plain": [
       "tensor([0, 0, 0, 0, 0, 0, 0, 0, 0, 0, 0, 1, 0, 1, 0, 0, 0, 1, 0, 0, 1, 0, 1, 0,\n",
       "        1, 0, 0, 0, 0, 0, 1, 0, 0, 0, 0, 0, 1, 1, 0, 0, 1, 1, 1, 0, 1, 1, 0, 0,\n",
       "        0, 1, 0, 0, 0, 1, 0, 1, 0, 0, 1, 0, 0, 0, 0, 1, 0, 1, 0, 0, 1, 0, 0, 0,\n",
       "        0, 1, 0, 1, 1, 0, 1, 0, 0, 0, 1, 0, 0, 1, 0, 0, 0, 0, 1, 1, 1, 1, 1, 0,\n",
       "        1, 1, 1, 0, 0, 0, 0, 0, 0, 0, 0, 0, 0, 0, 1, 0, 0, 1, 0, 0, 1, 0, 0, 0,\n",
       "        1, 1, 0, 0, 0, 0, 1, 1, 1, 1, 0, 0, 0, 0, 0, 0, 0, 0, 1, 1, 0, 1, 1, 0,\n",
       "        0, 1, 1, 0, 1, 0, 0, 0, 1, 0, 1, 0, 1, 0, 0, 1, 0, 1, 0, 0, 0, 1, 0, 0,\n",
       "        0, 1, 0, 0, 0, 1, 0, 0, 1, 0, 1, 0, 0, 0, 0, 1, 0, 0, 0, 0, 0, 1, 1, 1,\n",
       "        1, 1, 1, 1, 0, 1, 1, 0, 1, 0, 0, 0, 1, 0, 0, 0, 1, 1, 0, 0, 0, 1, 1, 0,\n",
       "        0, 0, 0, 1, 1, 1, 1, 0, 0, 0, 1, 0, 0, 1, 0, 0, 0, 0, 0, 1, 0, 1, 1, 0,\n",
       "        0, 0, 0, 1, 1, 0, 0, 0, 0, 0, 0, 0, 1, 1, 0, 1, 0, 0, 0, 1, 0, 1, 0, 1,\n",
       "        0, 0, 0, 1, 0, 1, 0, 0, 0, 0, 1, 1, 0, 0, 0, 1, 0, 1, 0, 0, 0, 1, 0, 1,\n",
       "        1, 1, 0, 0, 1, 0, 0, 1, 1, 0, 0, 0, 0, 0, 0, 1, 0, 0, 0, 0, 0, 1, 1, 0,\n",
       "        0, 1, 0, 1, 0, 0, 1, 0, 1, 1, 0, 0, 0, 1, 1, 1, 0, 1, 0],\n",
       "       dtype=torch.int32)"
      ]
     },
     "execution_count": 96,
     "metadata": {},
     "output_type": "execute_result"
    }
   ],
   "source": [
    "nn_scaled_pred = predict_dataset(X_test, model)\n",
    "nn_scaled_pred"
   ]
  },
  {
   "cell_type": "code",
   "execution_count": 110,
   "id": "24cc4554-b384-415e-a1a4-56d6952d5e6f",
   "metadata": {},
   "outputs": [
    {
     "data": {
      "text/plain": [
       "(892, 1223)"
      ]
     },
     "execution_count": 110,
     "metadata": {},
     "output_type": "execute_result"
    }
   ],
   "source": [
    "preds = [knn_scaled_pred, svm_scaled_pred, dt_scaled_pred, rf_scale_pred, sgd_scale_pred, nn_scaled_pred]\n",
    "\n",
    "initial_pass_id = 892\n",
    "final_pass_id = initial_pass_id + test_df.shape[0]\n",
    "\n",
    "(initial_pass_id, final_pass_id)"
   ]
  },
  {
   "cell_type": "code",
   "execution_count": 111,
   "id": "2ac964ca-eee8-4f0b-886c-72fa5e020d84",
   "metadata": {},
   "outputs": [],
   "source": [
    "pass_id_tensor = torch.arange(initial_pass_id, final_pass_id, 1).reshape(-1, 1)"
   ]
  },
  {
   "cell_type": "code",
   "execution_count": 118,
   "id": "e917f895-2f6d-432a-939f-f442050b00e9",
   "metadata": {},
   "outputs": [
    {
     "name": "stderr",
     "output_type": "stream",
     "text": [
      "/tmp/ipykernel_5582/2305555702.py:3: UserWarning: To copy construct from a tensor, it is recommended to use sourceTensor.clone().detach() or sourceTensor.clone().detach().requires_grad_(True), rather than torch.tensor(sourceTensor).\n",
      "  pred = torch.tensor(pred.reshape(-1, 1), dtype=torch.int)\n"
     ]
    }
   ],
   "source": [
    "solutions_df = []\n",
    "for pred in preds:\n",
    "    pred = torch.tensor(pred.reshape(-1, 1), dtype=torch.int)\n",
    "    submission_tensor = torch.cat((pass_id_tensor, pred), 1)\n",
    "    solutions_df.append(pd.DataFrame(submission_tensor, columns=['PassengerId', 'Survived']))"
   ]
  },
  {
   "cell_type": "code",
   "execution_count": 122,
   "id": "4b3b1d76-a4bc-43a6-92cd-e86fc6f777ef",
   "metadata": {},
   "outputs": [],
   "source": [
    "solutions_name = ['knn', 'svm', 'decision_tree', 'random_forest', 'sgd', 'neuralnet']\n",
    "\n",
    "for i, sol in enumerate(solutions_df):\n",
    "    sol.to_csv(f\"solution_{solutions_name[i]}.csv\", header=True, index=False)"
   ]
  },
  {
   "cell_type": "code",
   "execution_count": null,
   "id": "06e1c325-8a4f-4a71-90c1-ac41179e1c69",
   "metadata": {},
   "outputs": [],
   "source": []
  }
 ],
 "metadata": {
  "kernelspec": {
   "display_name": "datascience",
   "language": "python",
   "name": "datascience"
  },
  "language_info": {
   "codemirror_mode": {
    "name": "ipython",
    "version": 3
   },
   "file_extension": ".py",
   "mimetype": "text/x-python",
   "name": "python",
   "nbconvert_exporter": "python",
   "pygments_lexer": "ipython3",
   "version": "3.10.12"
  }
 },
 "nbformat": 4,
 "nbformat_minor": 5
}
